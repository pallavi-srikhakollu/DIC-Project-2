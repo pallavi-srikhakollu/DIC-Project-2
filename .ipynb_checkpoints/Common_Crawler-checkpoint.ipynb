{
 "cells": [
  {
   "cell_type": "code",
   "execution_count": 30,
   "metadata": {},
   "outputs": [],
   "source": [
    "import requests\n",
    "import codecs\n",
    "import csv\n",
    "from bs4 import BeautifulSoup \n",
    "import json\n",
    "import io\n",
    "import gzip\n",
    "from html.parser import HTMLParser"
   ]
  },
  {
   "cell_type": "code",
   "execution_count": 31,
   "metadata": {},
   "outputs": [],
   "source": [
    "get_requests1 = requests.get('http://index.commoncrawl.org/CC-MAIN-2019-09-index?url=http%3A%2F%2Fhttps://www.nfl.com/&output=json')\n",
    "get_requests2 = requests.get('http://index.commoncrawl.org/CC-MAIN-2019-04-index?url=http%3A%2F%2Fhttps://www.nfl.com/&output=json')\n",
    "requestsArray = []\n",
    "requestsArray.append(get_requests1)\n",
    "requestsArray.append(get_requests2)"
   ]
  },
  {
   "cell_type": "code",
   "execution_count": 32,
   "metadata": {},
   "outputs": [
    {
     "name": "stdout",
     "output_type": "stream",
     "text": [
      "[b'{\"urlkey\": \"com,nfl)/\", \"timestamp\": \"20190116001015\", \"digest\": \"3I42H3S6NNFQ2MSVX7XZKYAYSCX5QBYJ\", \"offset\": \"10260173\", \"length\": \"558\", \"url\": \"http://www.nfl.com/\", \"filename\": \"crawl-data/CC-MAIN-2019-04/segments/1547583656530.8/crawldiagnostics/CC-MAIN-20190115225438-20190116011438-00048.warc.gz\", \"mime\": \"unk\", \"status\": \"301\", \"mime-detected\": \"application/octet-stream\"}', b'{\"urlkey\": \"com,nfl)/\", \"timestamp\": \"20190116001016\", \"digest\": \"R555CXRMVKXCOS5ZZYRE2IU22SU6AZC6\", \"offset\": \"911386885\", \"length\": \"25525\", \"url\": \"https://www.nfl.com/\", \"languages\": \"eng\", \"filename\": \"crawl-data/CC-MAIN-2019-04/segments/1547583656530.8/warc/CC-MAIN-20190115225438-20190116011438-00271.warc.gz\", \"mime\": \"text/html\", \"charset\": \"UTF-8\", \"status\": \"200\", \"mime-detected\": \"text/html\"}', b'{\"urlkey\": \"com,nfl)/\", \"timestamp\": \"20190116085301\", \"digest\": \"3I42H3S6NNFQ2MSVX7XZKYAYSCX5QBYJ\", \"offset\": \"10024638\", \"length\": \"559\", \"url\": \"http://www.nfl.com/\", \"filename\": \"crawl-data/CC-MAIN-2019-04/segments/1547583657097.39/crawldiagnostics/CC-MAIN-20190116073323-20190116095323-00048.warc.gz\", \"mime\": \"unk\", \"status\": \"301\", \"mime-detected\": \"application/octet-stream\"}', b'{\"urlkey\": \"com,nfl)/\", \"timestamp\": \"20190116085301\", \"digest\": \"OI2SNC732WOBYCLKFFWLQJOAIK7ESYNQ\", \"offset\": \"909934269\", \"length\": \"25064\", \"url\": \"https://www.nfl.com/\", \"languages\": \"eng\", \"filename\": \"crawl-data/CC-MAIN-2019-04/segments/1547583657097.39/warc/CC-MAIN-20190116073323-20190116095323-00271.warc.gz\", \"mime\": \"text/html\", \"charset\": \"UTF-8\", \"status\": \"200\", \"mime-detected\": \"text/html\"}', b'{\"urlkey\": \"com,nfl)/\", \"timestamp\": \"20190116103123\", \"digest\": \"3I42H3S6NNFQ2MSVX7XZKYAYSCX5QBYJ\", \"offset\": \"11089748\", \"length\": \"555\", \"url\": \"http://www.nfl.com/\", \"filename\": \"crawl-data/CC-MAIN-2019-04/segments/1547583657151.48/crawldiagnostics/CC-MAIN-20190116093643-20190116115643-00048.warc.gz\", \"mime\": \"unk\", \"status\": \"301\", \"mime-detected\": \"application/octet-stream\"}', b'{\"urlkey\": \"com,nfl)/\", \"timestamp\": \"20190116103124\", \"digest\": \"NNVBCJGOP735T5KZPQSASYZDUYY6MU4N\", \"offset\": \"877017767\", \"length\": \"25078\", \"url\": \"https://www.nfl.com/\", \"languages\": \"eng\", \"filename\": \"crawl-data/CC-MAIN-2019-04/segments/1547583657151.48/warc/CC-MAIN-20190116093643-20190116115643-00271.warc.gz\", \"mime\": \"text/html\", \"charset\": \"UTF-8\", \"status\": \"200\", \"mime-detected\": \"text/html\"}', b'{\"urlkey\": \"com,nfl)/\", \"timestamp\": \"20190116164607\", \"digest\": \"3I42H3S6NNFQ2MSVX7XZKYAYSCX5QBYJ\", \"offset\": \"10907542\", \"length\": \"554\", \"url\": \"http://www.nfl.com/\", \"filename\": \"crawl-data/CC-MAIN-2019-04/segments/1547583657555.87/crawldiagnostics/CC-MAIN-20190116154927-20190116180927-00048.warc.gz\", \"mime\": \"unk\", \"status\": \"301\", \"mime-detected\": \"application/octet-stream\"}', b'{\"urlkey\": \"com,nfl)/\", \"timestamp\": \"20190116164607\", \"digest\": \"2UMAQJ5L6YS4QEGAHRQK3MYBOD45K64V\", \"offset\": \"895147842\", \"length\": \"25169\", \"url\": \"https://www.nfl.com/\", \"languages\": \"eng\", \"filename\": \"crawl-data/CC-MAIN-2019-04/segments/1547583657555.87/warc/CC-MAIN-20190116154927-20190116180927-00271.warc.gz\", \"mime\": \"text/html\", \"charset\": \"UTF-8\", \"status\": \"200\", \"mime-detected\": \"text/html\"}', b'{\"urlkey\": \"com,nfl)/\", \"timestamp\": \"20190116190704\", \"digest\": \"3I42H3S6NNFQ2MSVX7XZKYAYSCX5QBYJ\", \"offset\": \"10084178\", \"length\": \"555\", \"url\": \"http://www.nfl.com/\", \"filename\": \"crawl-data/CC-MAIN-2019-04/segments/1547583657557.2/crawldiagnostics/CC-MAIN-20190116175238-20190116201238-00048.warc.gz\", \"mime\": \"unk\", \"status\": \"301\", \"mime-detected\": \"application/octet-stream\"}', b'{\"urlkey\": \"com,nfl)/\", \"timestamp\": \"20190116190704\", \"digest\": \"U3F3CJLOSDI5MH4V66K4MP2TGYPIWKA4\", \"offset\": \"882524441\", \"length\": \"24978\", \"url\": \"https://www.nfl.com/\", \"languages\": \"eng\", \"filename\": \"crawl-data/CC-MAIN-2019-04/segments/1547583657557.2/warc/CC-MAIN-20190116175238-20190116201238-00271.warc.gz\", \"mime\": \"text/html\", \"charset\": \"UTF-8\", \"status\": \"200\", \"mime-detected\": \"text/html\"}', b'{\"urlkey\": \"com,nfl)/\", \"timestamp\": \"20190116210924\", \"digest\": \"3I42H3S6NNFQ2MSVX7XZKYAYSCX5QBYJ\", \"offset\": \"10847810\", \"length\": \"556\", \"url\": \"http://www.nfl.com/\", \"filename\": \"crawl-data/CC-MAIN-2019-04/segments/1547583657867.24/crawldiagnostics/CC-MAIN-20190116195543-20190116221543-00048.warc.gz\", \"mime\": \"unk\", \"status\": \"301\", \"mime-detected\": \"application/octet-stream\"}', b'{\"urlkey\": \"com,nfl)/\", \"timestamp\": \"20190116210924\", \"digest\": \"HQF233TD4IU2VSZDECZSJOLC3VE6RDD4\", \"offset\": \"913503288\", \"length\": \"25662\", \"url\": \"https://www.nfl.com/\", \"languages\": \"eng\", \"filename\": \"crawl-data/CC-MAIN-2019-04/segments/1547583657867.24/warc/CC-MAIN-20190116195543-20190116221543-00271.warc.gz\", \"mime\": \"text/html\", \"charset\": \"UTF-8\", \"status\": \"200\", \"mime-detected\": \"text/html\"}', b'{\"urlkey\": \"com,nfl)/\", \"timestamp\": \"20190117074756\", \"digest\": \"3I42H3S6NNFQ2MSVX7XZKYAYSCX5QBYJ\", \"offset\": \"10791837\", \"length\": \"558\", \"url\": \"http://www.nfl.com/\", \"filename\": \"crawl-data/CC-MAIN-2019-04/segments/1547583658844.27/crawldiagnostics/CC-MAIN-20190117062012-20190117084012-00048.warc.gz\", \"mime\": \"unk\", \"status\": \"301\", \"mime-detected\": \"application/octet-stream\"}', b'{\"urlkey\": \"com,nfl)/\", \"timestamp\": \"20190117074756\", \"digest\": \"HEOYET3QPVCX2NJXRYNPFHVCYFBVWIQC\", \"offset\": \"872326698\", \"length\": \"24653\", \"url\": \"https://www.nfl.com/\", \"languages\": \"eng\", \"filename\": \"crawl-data/CC-MAIN-2019-04/segments/1547583658844.27/warc/CC-MAIN-20190117062012-20190117084012-00271.warc.gz\", \"mime\": \"text/html\", \"charset\": \"UTF-8\", \"status\": \"200\", \"mime-detected\": \"text/html\"}', b'{\"urlkey\": \"com,nfl)/\", \"timestamp\": \"20190117143851\", \"digest\": \"3I42H3S6NNFQ2MSVX7XZKYAYSCX5QBYJ\", \"offset\": \"11230529\", \"length\": \"556\", \"url\": \"http://www.nfl.com/\", \"filename\": \"crawl-data/CC-MAIN-2019-04/segments/1547583658988.30/crawldiagnostics/CC-MAIN-20190117143601-20190117165555-00048.warc.gz\", \"mime\": \"unk\", \"status\": \"301\", \"mime-detected\": \"application/octet-stream\"}', b'{\"urlkey\": \"com,nfl)/\", \"timestamp\": \"20190117143851\", \"digest\": \"TUDBYNQFL3SEUGMRMVWHAAHNI4XBNPVD\", \"offset\": \"894065497\", \"length\": \"24640\", \"url\": \"https://www.nfl.com/\", \"languages\": \"eng\", \"filename\": \"crawl-data/CC-MAIN-2019-04/segments/1547583658988.30/warc/CC-MAIN-20190117143601-20190117165601-00271.warc.gz\", \"mime\": \"text/html\", \"charset\": \"UTF-8\", \"status\": \"200\", \"mime-detected\": \"text/html\"}', b'{\"urlkey\": \"com,nfl)/\", \"timestamp\": \"20190117174317\", \"digest\": \"3I42H3S6NNFQ2MSVX7XZKYAYSCX5QBYJ\", \"offset\": \"1854101\", \"length\": \"558\", \"url\": \"http://www.nfl.com/\", \"filename\": \"crawl-data/CC-MAIN-2019-04/segments/1547583659056.44/robotstxt/CC-MAIN-20190117163938-20190117185938-00048.warc.gz\", \"mime\": \"unk\", \"status\": \"301\", \"mime-detected\": \"application/octet-stream\"}', b'{\"urlkey\": \"com,nfl)/\", \"timestamp\": \"20190117174318\", \"digest\": \"WHFF3G2N2AOQRAB55IZLZGACR6F7WOFO\", \"offset\": \"897873344\", \"length\": \"24587\", \"url\": \"https://www.nfl.com/\", \"languages\": \"eng\", \"filename\": \"crawl-data/CC-MAIN-2019-04/segments/1547583659056.44/warc/CC-MAIN-20190117163938-20190117185938-00271.warc.gz\", \"mime\": \"text/html\", \"charset\": \"UTF-8\", \"status\": \"200\", \"mime-detected\": \"text/html\"}', b'{\"urlkey\": \"com,nfl)/\", \"timestamp\": \"20190117194444\", \"digest\": \"6ROZH2TOB6B4BN6IK4IGYLMT45VL2YI5\", \"offset\": \"874380150\", \"length\": \"24869\", \"url\": \"https://www.nfl.com/\", \"languages\": \"eng\", \"filename\": \"crawl-data/CC-MAIN-2019-04/segments/1547583659063.33/warc/CC-MAIN-20190117184304-20190117210304-00271.warc.gz\", \"mime\": \"text/html\", \"charset\": \"UTF-8\", \"status\": \"200\", \"mime-detected\": \"text/html\"}', b'{\"urlkey\": \"com,nfl)/\", \"timestamp\": \"20190117200640\", \"digest\": \"3I42H3S6NNFQ2MSVX7XZKYAYSCX5QBYJ\", \"offset\": \"11194008\", \"length\": \"557\", \"url\": \"http://www.nfl.com/\", \"filename\": \"crawl-data/CC-MAIN-2019-04/segments/1547583659063.33/crawldiagnostics/CC-MAIN-20190117184304-20190117210304-00048.warc.gz\", \"mime\": \"unk\", \"status\": \"301\", \"mime-detected\": \"application/octet-stream\"}', b'{\"urlkey\": \"com,nfl)/\", \"timestamp\": \"20190117222445\", \"digest\": \"3I42H3S6NNFQ2MSVX7XZKYAYSCX5QBYJ\", \"offset\": \"9699245\", \"length\": \"556\", \"url\": \"http://www.nfl.com/\", \"filename\": \"crawl-data/CC-MAIN-2019-04/segments/1547583659340.1/crawldiagnostics/CC-MAIN-20190117204652-20190117230652-00048.warc.gz\", \"mime\": \"unk\", \"status\": \"301\", \"mime-detected\": \"application/octet-stream\"}', b'{\"urlkey\": \"com,nfl)/\", \"timestamp\": \"20190117222445\", \"digest\": \"XXPPPDMBYNYKONUDYZWZP6DN5QKEDTJ2\", \"offset\": \"886507319\", \"length\": \"24921\", \"url\": \"https://www.nfl.com/\", \"languages\": \"eng\", \"filename\": \"crawl-data/CC-MAIN-2019-04/segments/1547583659340.1/warc/CC-MAIN-20190117204652-20190117230652-00271.warc.gz\", \"mime\": \"text/html\", \"charset\": \"UTF-8\", \"status\": \"200\", \"mime-detected\": \"text/html\"}', b'{\"urlkey\": \"com,nfl)/\", \"timestamp\": \"20190117234538\", \"digest\": \"3I42H3S6NNFQ2MSVX7XZKYAYSCX5QBYJ\", \"offset\": \"10623739\", \"length\": \"563\", \"url\": \"http://www.nfl.com/\", \"filename\": \"crawl-data/CC-MAIN-2019-04/segments/1547583659417.14/crawldiagnostics/CC-MAIN-20190117224929-20190118010929-00048.warc.gz\", \"mime\": \"unk\", \"status\": \"301\", \"mime-detected\": \"application/octet-stream\"}', b'{\"urlkey\": \"com,nfl)/\", \"timestamp\": \"20190117234539\", \"digest\": \"POPBCXF4ACFBXUKMBQKVFOJQ5BHKH6BC\", \"offset\": \"901605438\", \"length\": \"24803\", \"url\": \"https://www.nfl.com/\", \"languages\": \"eng\", \"filename\": \"crawl-data/CC-MAIN-2019-04/segments/1547583659417.14/warc/CC-MAIN-20190117224929-20190118010929-00271.warc.gz\", \"mime\": \"text/html\", \"charset\": \"UTF-8\", \"status\": \"200\", \"mime-detected\": \"text/html\"}', b'{\"urlkey\": \"com,nfl)/\", \"timestamp\": \"20190118120640\", \"digest\": \"3I42H3S6NNFQ2MSVX7XZKYAYSCX5QBYJ\", \"offset\": \"10997757\", \"length\": \"558\", \"url\": \"http://www.nfl.com/\", \"filename\": \"crawl-data/CC-MAIN-2019-04/segments/1547583660070.15/crawldiagnostics/CC-MAIN-20190118110804-20190118132804-00048.warc.gz\", \"mime\": \"unk\", \"status\": \"301\", \"mime-detected\": \"application/octet-stream\"}', b'{\"urlkey\": \"com,nfl)/\", \"timestamp\": \"20190118120641\", \"digest\": \"PB3LSWQ5HSO3E5UE3IYB64P2GOU4JRIQ\", \"offset\": \"905842903\", \"length\": \"24319\", \"url\": \"https://www.nfl.com/\", \"languages\": \"eng\", \"filename\": \"crawl-data/CC-MAIN-2019-04/segments/1547583660070.15/warc/CC-MAIN-20190118110804-20190118132804-00271.warc.gz\", \"mime\": \"text/html\", \"charset\": \"UTF-8\", \"status\": \"200\", \"mime-detected\": \"text/html\"}', b'{\"urlkey\": \"com,nfl)/\", \"timestamp\": \"20190118144055\", \"digest\": \"3I42H3S6NNFQ2MSVX7XZKYAYSCX5QBYJ\", \"offset\": \"10520932\", \"length\": \"556\", \"url\": \"http://www.nfl.com/\", \"filename\": \"crawl-data/CC-MAIN-2019-04/segments/1547583660139.37/crawldiagnostics/CC-MAIN-20190118131222-20190118153222-00048.warc.gz\", \"mime\": \"unk\", \"status\": \"301\", \"mime-detected\": \"application/octet-stream\"}', b'{\"urlkey\": \"com,nfl)/\", \"timestamp\": \"20190118144055\", \"digest\": \"VZ3RAQIQLWYT4LAKBD7DLRHQPXQFFOZ4\", \"offset\": \"888451473\", \"length\": \"24421\", \"url\": \"https://www.nfl.com/\", \"languages\": \"eng\", \"filename\": \"crawl-data/CC-MAIN-2019-04/segments/1547583660139.37/warc/CC-MAIN-20190118131222-20190118153222-00271.warc.gz\", \"mime\": \"text/html\", \"charset\": \"UTF-8\", \"status\": \"200\", \"mime-detected\": \"text/html\"}', b'{\"urlkey\": \"com,nfl)/\", \"timestamp\": \"20190118190510\", \"digest\": \"3I42H3S6NNFQ2MSVX7XZKYAYSCX5QBYJ\", \"offset\": \"10350495\", \"length\": \"557\", \"url\": \"http://www.nfl.com/\", \"filename\": \"crawl-data/CC-MAIN-2019-04/segments/1547583660258.36/crawldiagnostics/CC-MAIN-20190118172438-20190118194438-00048.warc.gz\", \"mime\": \"unk\", \"status\": \"301\", \"mime-detected\": \"application/octet-stream\"}', b'{\"urlkey\": \"com,nfl)/\", \"timestamp\": \"20190118190510\", \"digest\": \"AHMCUK2JOMWNVLTXSHZVCMS3BTZ37WO4\", \"offset\": \"879187104\", \"length\": \"24557\", \"url\": \"https://www.nfl.com/\", \"languages\": \"eng\", \"filename\": \"crawl-data/CC-MAIN-2019-04/segments/1547583660258.36/warc/CC-MAIN-20190118172438-20190118194438-00271.warc.gz\", \"mime\": \"text/html\", \"charset\": \"UTF-8\", \"status\": \"200\", \"mime-detected\": \"text/html\"}', b'{\"urlkey\": \"com,nfl)/\", \"timestamp\": \"20190118210020\", \"digest\": \"IQTOGYRCCE4SLQ2V4TJCFJQGEYTUFMPW\", \"offset\": \"876566505\", \"length\": \"24476\", \"url\": \"https://www.nfl.com/\", \"languages\": \"eng\", \"filename\": \"crawl-data/CC-MAIN-2019-04/segments/1547583660529.12/warc/CC-MAIN-20190118193139-20190118215139-00271.warc.gz\", \"mime\": \"text/html\", \"charset\": \"UTF-8\", \"status\": \"200\", \"mime-detected\": \"text/html\"}', b'{\"urlkey\": \"com,nfl)/\", \"timestamp\": \"20190118210420\", \"digest\": \"3I42H3S6NNFQ2MSVX7XZKYAYSCX5QBYJ\", \"offset\": \"10296122\", \"length\": \"557\", \"url\": \"http://www.nfl.com/\", \"filename\": \"crawl-data/CC-MAIN-2019-04/segments/1547583660529.12/crawldiagnostics/CC-MAIN-20190118193139-20190118215139-00048.warc.gz\", \"mime\": \"unk\", \"status\": \"301\", \"mime-detected\": \"application/octet-stream\"}', b'{\"urlkey\": \"com,nfl)/\", \"timestamp\": \"20190119024325\", \"digest\": \"3I42H3S6NNFQ2MSVX7XZKYAYSCX5QBYJ\", \"offset\": \"10263367\", \"length\": \"556\", \"url\": \"http://www.nfl.com/\", \"filename\": \"crawl-data/CC-MAIN-2019-04/segments/1547583661083.46/crawldiagnostics/CC-MAIN-20190119014031-20190119040031-00048.warc.gz\", \"mime\": \"unk\", \"status\": \"301\", \"mime-detected\": \"application/octet-stream\"}', b'{\"urlkey\": \"com,nfl)/\", \"timestamp\": \"20190119024325\", \"digest\": \"YHZJNHZ2N3DETLE7OAGWYYHCRJGEVXZO\", \"offset\": \"868803069\", \"length\": \"24432\", \"url\": \"https://www.nfl.com/\", \"languages\": \"eng\", \"filename\": \"crawl-data/CC-MAIN-2019-04/segments/1547583661083.46/warc/CC-MAIN-20190119014031-20190119040031-00271.warc.gz\", \"mime\": \"text/html\", \"charset\": \"UTF-8\", \"status\": \"200\", \"mime-detected\": \"text/html\"}', b'{\"urlkey\": \"com,nfl)/\", \"timestamp\": \"20190119073003\", \"digest\": \"3I42H3S6NNFQ2MSVX7XZKYAYSCX5QBYJ\", \"offset\": \"10897136\", \"length\": \"555\", \"url\": \"http://www.nfl.com/\", \"filename\": \"crawl-data/CC-MAIN-2019-04/segments/1547583662690.13/crawldiagnostics/CC-MAIN-20190119054606-20190119080317-00048.warc.gz\", \"mime\": \"unk\", \"status\": \"301\", \"mime-detected\": \"application/octet-stream\"}', b'{\"urlkey\": \"com,nfl)/\", \"timestamp\": \"20190119073003\", \"digest\": \"OJAS7IC62L5TK7ZR3MW7O7LIYYXT6DS5\", \"offset\": \"894059141\", \"length\": \"24404\", \"url\": \"https://www.nfl.com/\", \"languages\": \"eng\", \"filename\": \"crawl-data/CC-MAIN-2019-04/segments/1547583662690.13/warc/CC-MAIN-20190119054606-20190119080606-00271.warc.gz\", \"mime\": \"text/html\", \"charset\": \"UTF-8\", \"status\": \"200\", \"mime-detected\": \"text/html\"}', b'{\"urlkey\": \"com,nfl)/\", \"timestamp\": \"20190119095335\", \"digest\": \"ZWGSTW75COPEJIYIIX5GA7KBRVIHHVQQ\", \"offset\": \"887185724\", \"length\": \"24402\", \"url\": \"https://www.nfl.com/\", \"languages\": \"eng\", \"filename\": \"crawl-data/CC-MAIN-2019-04/segments/1547583662893.38/warc/CC-MAIN-20190119095153-20190119121153-00271.warc.gz\", \"mime\": \"text/html\", \"charset\": \"UTF-8\", \"status\": \"200\", \"mime-detected\": \"text/html\"}', b'{\"urlkey\": \"com,nfl)/\", \"timestamp\": \"20190119170240\", \"digest\": \"3I42H3S6NNFQ2MSVX7XZKYAYSCX5QBYJ\", \"offset\": \"11173957\", \"length\": \"555\", \"url\": \"http://www.nfl.com/\", \"filename\": \"crawl-data/CC-MAIN-2019-04/segments/1547583671342.16/crawldiagnostics/CC-MAIN-20190119160425-20190119182425-00048.warc.gz\", \"mime\": \"unk\", \"status\": \"301\", \"mime-detected\": \"application/octet-stream\"}', b'{\"urlkey\": \"com,nfl)/\", \"timestamp\": \"20190119170635\", \"digest\": \"54LWX2RMZURKMMWYMS5WMPAHB5F74KBQ\", \"offset\": \"874544204\", \"length\": \"24534\", \"url\": \"https://www.nfl.com/\", \"languages\": \"eng\", \"filename\": \"crawl-data/CC-MAIN-2019-04/segments/1547583671342.16/warc/CC-MAIN-20190119160425-20190119182425-00271.warc.gz\", \"mime\": \"text/html\", \"charset\": \"UTF-8\", \"status\": \"200\", \"mime-detected\": \"text/html\"}', b'{\"urlkey\": \"com,nfl)/\", \"timestamp\": \"20190119190557\", \"digest\": \"3I42H3S6NNFQ2MSVX7XZKYAYSCX5QBYJ\", \"offset\": \"10281228\", \"length\": \"554\", \"url\": \"http://www.nfl.com/\", \"filename\": \"crawl-data/CC-MAIN-2019-04/segments/1547583680452.20/crawldiagnostics/CC-MAIN-20190119180834-20190119202834-00048.warc.gz\", \"mime\": \"unk\", \"status\": \"301\", \"mime-detected\": \"application/octet-stream\"}', b'{\"urlkey\": \"com,nfl)/\", \"timestamp\": \"20190119195103\", \"digest\": \"4MQRU6PZ2PNVJQ7QBVZHSFP6SYLY7T2F\", \"offset\": \"860995002\", \"length\": \"24704\", \"url\": \"https://www.nfl.com/\", \"languages\": \"eng\", \"filename\": \"crawl-data/CC-MAIN-2019-04/segments/1547583680452.20/warc/CC-MAIN-20190119180834-20190119202834-00271.warc.gz\", \"mime\": \"text/html\", \"charset\": \"UTF-8\", \"status\": \"200\", \"mime-detected\": \"text/html\"}', b'{\"urlkey\": \"com,nfl)/\", \"timestamp\": \"20190120073007\", \"digest\": \"3I42H3S6NNFQ2MSVX7XZKYAYSCX5QBYJ\", \"offset\": \"10520163\", \"length\": \"560\", \"url\": \"http://www.nfl.com/\", \"filename\": \"crawl-data/CC-MAIN-2019-04/segments/1547583700734.43/crawldiagnostics/CC-MAIN-20190120062400-20190120084400-00048.warc.gz\", \"mime\": \"unk\", \"status\": \"301\", \"mime-detected\": \"application/octet-stream\"}', b'{\"urlkey\": \"com,nfl)/\", \"timestamp\": \"20190120073007\", \"digest\": \"J3CJWH5SP7NZ7FCX27VWFU6IYE2P3OYQ\", \"offset\": \"883588317\", \"length\": \"24734\", \"url\": \"https://www.nfl.com/\", \"languages\": \"eng\", \"filename\": \"crawl-data/CC-MAIN-2019-04/segments/1547583700734.43/warc/CC-MAIN-20190120062400-20190120084400-00271.warc.gz\", \"mime\": \"text/html\", \"charset\": \"UTF-8\", \"status\": \"200\", \"mime-detected\": \"text/html\"}', b'{\"urlkey\": \"com,nfl)/\", \"timestamp\": \"20190120140345\", \"digest\": \"3I42H3S6NNFQ2MSVX7XZKYAYSCX5QBYJ\", \"offset\": \"1993480\", \"length\": \"558\", \"url\": \"http://www.nfl.com/\", \"filename\": \"crawl-data/CC-MAIN-2019-04/segments/1547583716358.66/robotstxt/CC-MAIN-20190120123138-20190120145138-00048.warc.gz\", \"mime\": \"unk\", \"status\": \"301\", \"mime-detected\": \"application/octet-stream\"}', b'{\"urlkey\": \"com,nfl)/\", \"timestamp\": \"20190120140345\", \"digest\": \"ZYZRWQ2FLAMSP4FGKOLXOSGR6EINAA5B\", \"offset\": \"896261738\", \"length\": \"24873\", \"url\": \"https://www.nfl.com/\", \"languages\": \"eng\", \"filename\": \"crawl-data/CC-MAIN-2019-04/segments/1547583716358.66/warc/CC-MAIN-20190120123138-20190120145138-00271.warc.gz\", \"mime\": \"text/html\", \"charset\": \"UTF-8\", \"status\": \"200\", \"mime-detected\": \"text/html\"}', b'{\"urlkey\": \"com,nfl)/\", \"timestamp\": \"20190120215921\", \"digest\": \"3I42H3S6NNFQ2MSVX7XZKYAYSCX5QBYJ\", \"offset\": \"1699737\", \"length\": \"557\", \"url\": \"http://www.nfl.com/\", \"filename\": \"crawl-data/CC-MAIN-2019-04/segments/1547583739170.35/robotstxt/CC-MAIN-20190120204649-20190120230649-00048.warc.gz\", \"mime\": \"unk\", \"status\": \"301\", \"mime-detected\": \"application/octet-stream\"}', b'{\"urlkey\": \"com,nfl)/\", \"timestamp\": \"20190120215922\", \"digest\": \"IULHXMOPRPCKSEDHQZEWDM3PWOXI37IE\", \"offset\": \"893273502\", \"length\": \"25356\", \"url\": \"https://www.nfl.com/\", \"languages\": \"eng\", \"filename\": \"crawl-data/CC-MAIN-2019-04/segments/1547583739170.35/warc/CC-MAIN-20190120204649-20190120230649-00271.warc.gz\", \"mime\": \"text/html\", \"charset\": \"UTF-8\", \"status\": \"200\", \"mime-detected\": \"text/html\"}', b'{\"urlkey\": \"com,nfl)/\", \"timestamp\": \"20190121020836\", \"digest\": \"3I42H3S6NNFQ2MSVX7XZKYAYSCX5QBYJ\", \"offset\": \"10827019\", \"length\": \"553\", \"url\": \"http://www.nfl.com/\", \"filename\": \"crawl-data/CC-MAIN-2019-04/segments/1547583745010.63/crawldiagnostics/CC-MAIN-20190121005305-20190121031305-00048.warc.gz\", \"mime\": \"unk\", \"status\": \"301\", \"mime-detected\": \"application/octet-stream\"}', b'{\"urlkey\": \"com,nfl)/\", \"timestamp\": \"20190121020948\", \"digest\": \"WUE4FA7BTDRV26HCXDPJ6JIEAVSFTCMM\", \"offset\": \"868281910\", \"length\": \"24277\", \"url\": \"https://www.nfl.com/\", \"languages\": \"eng\", \"filename\": \"crawl-data/CC-MAIN-2019-04/segments/1547583745010.63/warc/CC-MAIN-20190121005305-20190121031305-00271.warc.gz\", \"mime\": \"text/html\", \"charset\": \"UTF-8\", \"status\": \"200\", \"mime-detected\": \"text/html\"}', b'{\"urlkey\": \"com,nfl)/\", \"timestamp\": \"20190121041604\", \"digest\": \"3I42H3S6NNFQ2MSVX7XZKYAYSCX5QBYJ\", \"offset\": \"10608043\", \"length\": \"556\", \"url\": \"http://www.nfl.com/\", \"filename\": \"crawl-data/CC-MAIN-2019-04/segments/1547583755653.69/crawldiagnostics/CC-MAIN-20190121025613-20190121051613-00048.warc.gz\", \"mime\": \"unk\", \"status\": \"301\", \"mime-detected\": \"application/octet-stream\"}', b'{\"urlkey\": \"com,nfl)/\", \"timestamp\": \"20190121041604\", \"digest\": \"OQDUFY7N3IAGPIBUQA6D5TS7USZGSPPS\", \"offset\": \"878768188\", \"length\": \"24040\", \"url\": \"https://www.nfl.com/\", \"languages\": \"eng\", \"filename\": \"crawl-data/CC-MAIN-2019-04/segments/1547583755653.69/warc/CC-MAIN-20190121025613-20190121051613-00271.warc.gz\", \"mime\": \"text/html\", \"charset\": \"UTF-8\", \"status\": \"200\", \"mime-detected\": \"text/html\"}', b'{\"urlkey\": \"com,nfl)/\", \"timestamp\": \"20190121100046\", \"digest\": \"3I42H3S6NNFQ2MSVX7XZKYAYSCX5QBYJ\", \"offset\": \"11131564\", \"length\": \"556\", \"url\": \"http://www.nfl.com/\", \"filename\": \"crawl-data/CC-MAIN-2019-04/segments/1547583771929.47/crawldiagnostics/CC-MAIN-20190121090642-20190121112642-00048.warc.gz\", \"mime\": \"unk\", \"status\": \"301\", \"mime-detected\": \"application/octet-stream\"}', b'{\"urlkey\": \"com,nfl)/\", \"timestamp\": \"20190121103917\", \"digest\": \"KEJNUIQMASJAP4BJ44KQ2CIORNLUF6OX\", \"offset\": \"880009344\", \"length\": \"23870\", \"url\": \"https://www.nfl.com/\", \"languages\": \"eng\", \"filename\": \"crawl-data/CC-MAIN-2019-04/segments/1547583771929.47/warc/CC-MAIN-20190121090642-20190121112642-00271.warc.gz\", \"mime\": \"text/html\", \"charset\": \"UTF-8\", \"status\": \"200\", \"mime-detected\": \"text/html\"}', b'{\"urlkey\": \"com,nfl)/\", \"timestamp\": \"20190121123947\", \"digest\": \"3I42H3S6NNFQ2MSVX7XZKYAYSCX5QBYJ\", \"offset\": \"11243248\", \"length\": \"555\", \"url\": \"http://www.nfl.com/\", \"filename\": \"crawl-data/CC-MAIN-2019-04/segments/1547583792338.50/crawldiagnostics/CC-MAIN-20190121111139-20190121133139-00048.warc.gz\", \"mime\": \"unk\", \"status\": \"301\", \"mime-detected\": \"application/octet-stream\"}', b'{\"urlkey\": \"com,nfl)/\", \"timestamp\": \"20190121123947\", \"digest\": \"3UICV5VIAWWEWWJHISXSK5APTJW5HKKS\", \"offset\": \"846892454\", \"length\": \"24301\", \"url\": \"https://www.nfl.com/\", \"languages\": \"eng\", \"filename\": \"crawl-data/CC-MAIN-2019-04/segments/1547583792338.50/warc/CC-MAIN-20190121111139-20190121133139-00271.warc.gz\", \"mime\": \"text/html\", \"charset\": \"UTF-8\", \"status\": \"200\", \"mime-detected\": \"text/html\"}', b'{\"urlkey\": \"com,nfl)/\", \"timestamp\": \"20190121165956\", \"digest\": \"3I42H3S6NNFQ2MSVX7XZKYAYSCX5QBYJ\", \"offset\": \"10645204\", \"length\": \"556\", \"url\": \"http://www.nfl.com/\", \"filename\": \"crawl-data/CC-MAIN-2019-04/segments/1547583795042.29/crawldiagnostics/CC-MAIN-20190121152218-20190121174218-00048.warc.gz\", \"mime\": \"unk\", \"status\": \"301\", \"mime-detected\": \"application/octet-stream\"}', b'{\"urlkey\": \"com,nfl)/\", \"timestamp\": \"20190121165956\", \"digest\": \"SCI6NQA2AA4CSCWBFIVKHNLRZMJOQQP5\", \"offset\": \"901361864\", \"length\": \"24671\", \"url\": \"https://www.nfl.com/\", \"languages\": \"eng\", \"filename\": \"crawl-data/CC-MAIN-2019-04/segments/1547583795042.29/warc/CC-MAIN-20190121152218-20190121174218-00271.warc.gz\", \"mime\": \"text/html\", \"charset\": \"UTF-8\", \"status\": \"200\", \"mime-detected\": \"text/html\"}', b'{\"urlkey\": \"com,nfl)/\", \"timestamp\": \"20190121204645\", \"digest\": \"3I42H3S6NNFQ2MSVX7XZKYAYSCX5QBYJ\", \"offset\": \"12147881\", \"length\": \"551\", \"url\": \"http://www.nfl.com/\", \"filename\": \"crawl-data/CC-MAIN-2019-04/segments/1547583807724.75/crawldiagnostics/CC-MAIN-20190121193154-20190121215154-00048.warc.gz\", \"mime\": \"unk\", \"status\": \"301\", \"mime-detected\": \"application/octet-stream\"}', b'{\"urlkey\": \"com,nfl)/\", \"timestamp\": \"20190121204646\", \"digest\": \"GCZG3XOSA3QFMOR5MTAXF3RVRAT5TOS6\", \"offset\": \"886677500\", \"length\": \"24927\", \"url\": \"https://www.nfl.com/\", \"languages\": \"eng\", \"filename\": \"crawl-data/CC-MAIN-2019-04/segments/1547583807724.75/warc/CC-MAIN-20190121193154-20190121215154-00271.warc.gz\", \"mime\": \"text/html\", \"charset\": \"UTF-8\", \"status\": \"200\", \"mime-detected\": \"text/html\"}', b'{\"urlkey\": \"com,nfl)/\", \"timestamp\": \"20190121215222\", \"digest\": \"3I42H3S6NNFQ2MSVX7XZKYAYSCX5QBYJ\", \"offset\": \"11660897\", \"length\": \"556\", \"url\": \"http://www.nfl.com/\", \"filename\": \"crawl-data/CC-MAIN-2019-04/segments/1547583814455.32/crawldiagnostics/CC-MAIN-20190121213506-20190121235347-00048.warc.gz\", \"mime\": \"unk\", \"status\": \"301\", \"mime-detected\": \"application/octet-stream\"}', b'{\"urlkey\": \"com,nfl)/\", \"timestamp\": \"20190121215222\", \"digest\": \"YD6QT3EBCA6HKKEXIALIJFEG7EOPSRHY\", \"offset\": \"887354090\", \"length\": \"24944\", \"url\": \"https://www.nfl.com/\", \"languages\": \"eng\", \"filename\": \"crawl-data/CC-MAIN-2019-04/segments/1547583814455.32/warc/CC-MAIN-20190121213506-20190121235506-00271.warc.gz\", \"mime\": \"text/html\", \"charset\": \"UTF-8\", \"status\": \"200\", \"mime-detected\": \"text/html\"}', b'{\"urlkey\": \"com,nfl)/\", \"timestamp\": \"20190122003416\", \"digest\": \"3I42H3S6NNFQ2MSVX7XZKYAYSCX5QBYJ\", \"offset\": \"10918271\", \"length\": \"558\", \"url\": \"http://www.nfl.com/\", \"filename\": \"crawl-data/CC-MAIN-2019-04/segments/1547583822341.72/crawldiagnostics/CC-MAIN-20190121233709-20190122015709-00048.warc.gz\", \"mime\": \"unk\", \"status\": \"301\", \"mime-detected\": \"application/octet-stream\"}', b'{\"urlkey\": \"com,nfl)/\", \"timestamp\": \"20190122003417\", \"digest\": \"A47VLB76HJ3N2IFSOVSA6U36CRHNOOXI\", \"offset\": \"878673484\", \"length\": \"25143\", \"url\": \"https://www.nfl.com/\", \"languages\": \"eng\", \"filename\": \"crawl-data/CC-MAIN-2019-04/segments/1547583822341.72/warc/CC-MAIN-20190121233709-20190122015709-00271.warc.gz\", \"mime\": \"text/html\", \"charset\": \"UTF-8\", \"status\": \"200\", \"mime-detected\": \"text/html\"}', b'{\"urlkey\": \"com,nfl)/\", \"timestamp\": \"20190122050902\", \"digest\": \"3I42H3S6NNFQ2MSVX7XZKYAYSCX5QBYJ\", \"offset\": \"11289551\", \"length\": \"556\", \"url\": \"http://www.nfl.com/\", \"filename\": \"crawl-data/CC-MAIN-2019-04/segments/1547583826240.93/crawldiagnostics/CC-MAIN-20190122034213-20190122060213-00048.warc.gz\", \"mime\": \"unk\", \"status\": \"301\", \"mime-detected\": \"application/octet-stream\"}', b'{\"urlkey\": \"com,nfl)/\", \"timestamp\": \"20190122050902\", \"digest\": \"VHCQA3JAUJ6YHR3PEZFFP3IZSMDD5HKI\", \"offset\": \"866113376\", \"length\": \"25033\", \"url\": \"https://www.nfl.com/\", \"languages\": \"eng\", \"filename\": \"crawl-data/CC-MAIN-2019-04/segments/1547583826240.93/warc/CC-MAIN-20190122034213-20190122060213-00271.warc.gz\", \"mime\": \"text/html\", \"charset\": \"UTF-8\", \"status\": \"200\", \"mime-detected\": \"text/html\"}', b'{\"urlkey\": \"com,nfl)/\", \"timestamp\": \"20190122172120\", \"digest\": \"3I42H3S6NNFQ2MSVX7XZKYAYSCX5QBYJ\", \"offset\": \"11287464\", \"length\": \"557\", \"url\": \"http://www.nfl.com/\", \"filename\": \"crawl-data/CC-MAIN-2019-04/segments/1547583857993.67/crawldiagnostics/CC-MAIN-20190122161345-20190122183345-00048.warc.gz\", \"mime\": \"unk\", \"status\": \"301\", \"mime-detected\": \"application/octet-stream\"}', b'{\"urlkey\": \"com,nfl)/\", \"timestamp\": \"20190122172120\", \"digest\": \"FLVT2JJTO4XFO6AEI6BAWQVT2BMQIQZZ\", \"offset\": \"891960455\", \"length\": \"25103\", \"url\": \"https://www.nfl.com/\", \"languages\": \"eng\", \"filename\": \"crawl-data/CC-MAIN-2019-04/segments/1547583857993.67/warc/CC-MAIN-20190122161345-20190122183345-00271.warc.gz\", \"mime\": \"text/html\", \"charset\": \"UTF-8\", \"status\": \"200\", \"mime-detected\": \"text/html\"}', b'{\"urlkey\": \"com,nfl)/\", \"timestamp\": \"20190122192941\", \"digest\": \"3I42H3S6NNFQ2MSVX7XZKYAYSCX5QBYJ\", \"offset\": \"9972768\", \"length\": \"557\", \"url\": \"http://www.nfl.com/\", \"filename\": \"crawl-data/CC-MAIN-2019-04/segments/1547583867214.54/crawldiagnostics/CC-MAIN-20190122182019-20190122204019-00048.warc.gz\", \"mime\": \"unk\", \"status\": \"301\", \"mime-detected\": \"application/octet-stream\"}', b'{\"urlkey\": \"com,nfl)/\", \"timestamp\": \"20190122192941\", \"digest\": \"DT477TTJMI5LDKUPHZHYRR7XQPOWQKTC\", \"offset\": \"879406217\", \"length\": \"24930\", \"url\": \"https://www.nfl.com/\", \"languages\": \"eng\", \"filename\": \"crawl-data/CC-MAIN-2019-04/segments/1547583867214.54/warc/CC-MAIN-20190122182019-20190122204019-00271.warc.gz\", \"mime\": \"text/html\", \"charset\": \"UTF-8\", \"status\": \"200\", \"mime-detected\": \"text/html\"}', b'{\"urlkey\": \"com,nfl)/\", \"timestamp\": \"20190122214339\", \"digest\": \"3I42H3S6NNFQ2MSVX7XZKYAYSCX5QBYJ\", \"offset\": \"9855014\", \"length\": \"555\", \"url\": \"http://www.nfl.com/\", \"filename\": \"crawl-data/CC-MAIN-2019-04/segments/1547583874494.65/crawldiagnostics/CC-MAIN-20190122202547-20190122224419-00048.warc.gz\", \"mime\": \"unk\", \"status\": \"301\", \"mime-detected\": \"application/octet-stream\"}', b'{\"urlkey\": \"com,nfl)/\", \"timestamp\": \"20190122220508\", \"digest\": \"57M2RUDKJQDWZVBZUFC4GDKS57JG3KR6\", \"offset\": \"911817340\", \"length\": \"24752\", \"url\": \"https://www.nfl.com/\", \"languages\": \"eng\", \"filename\": \"crawl-data/CC-MAIN-2019-04/segments/1547583874494.65/warc/CC-MAIN-20190122202547-20190122224547-00271.warc.gz\", \"mime\": \"text/html\", \"charset\": \"UTF-8\", \"status\": \"200\", \"mime-detected\": \"text/html\"}', b'{\"urlkey\": \"com,nfl)/\", \"timestamp\": \"20190123025049\", \"digest\": \"3I42H3S6NNFQ2MSVX7XZKYAYSCX5QBYJ\", \"offset\": \"11975470\", \"length\": \"555\", \"url\": \"http://www.nfl.com/\", \"filename\": \"crawl-data/CC-MAIN-2019-04/segments/1547583884996.76/crawldiagnostics/CC-MAIN-20190123023710-20190123045710-00048.warc.gz\", \"mime\": \"unk\", \"status\": \"301\", \"mime-detected\": \"application/octet-stream\"}', b'{\"urlkey\": \"com,nfl)/\", \"timestamp\": \"20190123025049\", \"digest\": \"4PQ4ZCCUZWXIXOLXSNEEIVYHH7T6BWPV\", \"offset\": \"880937506\", \"length\": \"24427\", \"url\": \"https://www.nfl.com/\", \"languages\": \"eng\", \"filename\": \"crawl-data/CC-MAIN-2019-04/segments/1547583884996.76/warc/CC-MAIN-20190123023710-20190123045710-00271.warc.gz\", \"mime\": \"text/html\", \"charset\": \"UTF-8\", \"status\": \"200\", \"mime-detected\": \"text/html\"}', b'{\"urlkey\": \"com,nfl)/\", \"timestamp\": \"20190123052602\", \"digest\": \"3I42H3S6NNFQ2MSVX7XZKYAYSCX5QBYJ\", \"offset\": \"10315400\", \"length\": \"556\", \"url\": \"http://www.nfl.com/\", \"filename\": \"crawl-data/CC-MAIN-2019-04/segments/1547583897417.81/crawldiagnostics/CC-MAIN-20190123044447-20190123070447-00048.warc.gz\", \"mime\": \"unk\", \"status\": \"301\", \"mime-detected\": \"application/octet-stream\"}', b'{\"urlkey\": \"com,nfl)/\", \"timestamp\": \"20190123054250\", \"digest\": \"LTZVP6R7RPPLPKGAU4CT7HP5OTPETFVY\", \"offset\": \"853234700\", \"length\": \"24328\", \"url\": \"https://www.nfl.com/\", \"languages\": \"eng\", \"filename\": \"crawl-data/CC-MAIN-2019-04/segments/1547583897417.81/warc/CC-MAIN-20190123044447-20190123070447-00271.warc.gz\", \"mime\": \"text/html\", \"charset\": \"UTF-8\", \"status\": \"200\", \"mime-detected\": \"text/html\"}', b'{\"urlkey\": \"com,nfl)/\", \"timestamp\": \"20190123074724\", \"digest\": \"WWH2F33FTPNMTALY7JV35SRSDULFKJE3\", \"offset\": \"900544917\", \"length\": \"24322\", \"url\": \"https://www.nfl.com/\", \"languages\": \"eng\", \"filename\": \"crawl-data/CC-MAIN-2019-04/segments/1547584203540.82/warc/CC-MAIN-20190123064911-20190123090911-00271.warc.gz\", \"mime\": \"text/html\", \"charset\": \"UTF-8\", \"status\": \"200\", \"mime-detected\": \"text/html\"}', b'{\"urlkey\": \"com,nfl)/\", \"timestamp\": \"20190123080015\", \"digest\": \"3I42H3S6NNFQ2MSVX7XZKYAYSCX5QBYJ\", \"offset\": \"10467350\", \"length\": \"555\", \"url\": \"http://www.nfl.com/\", \"filename\": \"crawl-data/CC-MAIN-2019-04/segments/1547584203540.82/crawldiagnostics/CC-MAIN-20190123064911-20190123090911-00048.warc.gz\", \"mime\": \"unk\", \"status\": \"301\", \"mime-detected\": \"application/octet-stream\"}', b'{\"urlkey\": \"com,nfl)/\", \"timestamp\": \"20190123190131\", \"digest\": \"NH6ZWIZIYRD2VKEMWALPWIRFFNTNJ2RN\", \"offset\": \"865016320\", \"length\": \"24637\", \"url\": \"https://www.nfl.com/\", \"languages\": \"eng\", \"filename\": \"crawl-data/CC-MAIN-2019-04/segments/1547584336901.97/warc/CC-MAIN-20190123172047-20190123194047-00271.warc.gz\", \"mime\": \"text/html\", \"charset\": \"UTF-8\", \"status\": \"200\", \"mime-detected\": \"text/html\"}', b'{\"urlkey\": \"com,nfl)/\", \"timestamp\": \"20190124041704\", \"digest\": \"3I42H3S6NNFQ2MSVX7XZKYAYSCX5QBYJ\", \"offset\": \"1581855\", \"length\": \"557\", \"url\": \"http://www.nfl.com\", \"filename\": \"crawl-data/CC-MAIN-2019-04/segments/1547584518983.95/robotstxt/CC-MAIN-20190124035411-20190124061411-00223.warc.gz\", \"mime\": \"unk\", \"status\": \"301\", \"mime-detected\": \"application/octet-stream\"}', b'{\"urlkey\": \"com,nfl)/\", \"timestamp\": \"20190124041708\", \"digest\": \"3I42H3S6NNFQ2MSVX7XZKYAYSCX5QBYJ\", \"offset\": \"11003552\", \"length\": \"558\", \"url\": \"http://www.nfl.com/\", \"filename\": \"crawl-data/CC-MAIN-2019-04/segments/1547584518983.95/crawldiagnostics/CC-MAIN-20190124035411-20190124061411-00048.warc.gz\", \"mime\": \"unk\", \"status\": \"301\", \"mime-detected\": \"application/octet-stream\"}', b'{\"urlkey\": \"com,nfl)/\", \"timestamp\": \"20190124041708\", \"digest\": \"3JB3U2OARTN6GDK72WXLVO2F6M4IVJI2\", \"offset\": \"863184982\", \"length\": \"24347\", \"url\": \"https://www.nfl.com/\", \"languages\": \"eng\", \"filename\": \"crawl-data/CC-MAIN-2019-04/segments/1547584518983.95/warc/CC-MAIN-20190124035411-20190124061411-00271.warc.gz\", \"mime\": \"text/html\", \"charset\": \"UTF-8\", \"status\": \"200\", \"mime-detected\": \"text/html\"}', b'{\"urlkey\": \"com,nfl)/\", \"timestamp\": \"20190124094624\", \"digest\": \"3I42H3S6NNFQ2MSVX7XZKYAYSCX5QBYJ\", \"offset\": \"11532323\", \"length\": \"557\", \"url\": \"http://www.nfl.com/\", \"filename\": \"crawl-data/CC-MAIN-2019-04/segments/1547584519757.94/crawldiagnostics/CC-MAIN-20190124080411-20190124102411-00048.warc.gz\", \"mime\": \"unk\", \"status\": \"301\", \"mime-detected\": \"application/octet-stream\"}', b'{\"urlkey\": \"com,nfl)/\", \"timestamp\": \"20190124094624\", \"digest\": \"LQRJKGRVQGGKKKS54UVFMALA42WPXW67\", \"offset\": \"879574191\", \"length\": \"24063\", \"url\": \"https://www.nfl.com/\", \"languages\": \"eng\", \"filename\": \"crawl-data/CC-MAIN-2019-04/segments/1547584519757.94/warc/CC-MAIN-20190124080411-20190124102411-00271.warc.gz\", \"mime\": \"text/html\", \"charset\": \"UTF-8\", \"status\": \"200\", \"mime-detected\": \"text/html\"}']\n"
     ]
    }
   ],
   "source": [
    "pageList = []\n",
    "for r in requestsArray:\n",
    "    if r.status_code == 200:\n",
    "        pages = r.content.splitlines()\n",
    "        for i in pages:\n",
    "            pageList.append(json.loads(i))\n",
    "\n",
    "print(pages)\n",
    "#pages = [json.loads(x) for x in get_requests.content.decode('utf8').strip().split('\\n')]\n",
    "#page = pages[2]"
   ]
  },
  {
   "cell_type": "code",
   "execution_count": 33,
   "metadata": {},
   "outputs": [
    {
     "name": "stdout",
     "output_type": "stream",
     "text": [
      "{'urlkey': 'com,nfl)/', 'timestamp': '20190215230006', 'digest': 'USICROEUUY5F7WMUXFW43C4NXKJHHZ4S', 'offset': '907412876', 'length': '23676', 'url': 'https://www.nfl.com/', 'languages': 'eng', 'filename': 'crawl-data/CC-MAIN-2019-09/segments/1550247479627.17/warc/CC-MAIN-20190215224408-20190216010408-00271.warc.gz', 'mime': 'text/html', 'charset': 'UTF-8', 'status': '200', 'mime-detected': 'text/html'}\n"
     ]
    }
   ],
   "source": [
    "page = pageList[1]\n",
    "print(page)"
   ]
  },
  {
   "cell_type": "code",
   "execution_count": 41,
   "metadata": {},
   "outputs": [
    {
     "name": "stdout",
     "output_type": "stream",
     "text": [
      "907412876 23676 907436551\n",
      "<Response [404]>\n"
     ]
    }
   ],
   "source": [
    "offset, length = int(page['offset']), int(page['length'])\n",
    "offset_end = offset + length - 1\n",
    "print(offset, length, offset_end)\n",
    "\n",
    "#prefix = 'https://aws-publicdatasets.s3.amazonaws.com/'\n",
    "prefix = 'https://commoncrawl.s3.amazonaws.com/'\n",
    "\n",
    "#response = requests.get(prefix + page['filename'], headers={'Range': 'bytes={}-{}'.format(offset, offset_end)})\n",
    "response = requests.get(\"https://commoncrawl.s3.amazonaws.com/crawl-data/CC-MAIN-2019-09/segments/1550247479627.17/wet/CC-MAIN-20190215224408-20190216010408-00271.warc.wet.gz\", headers={'Range': 'bytes={}-{}'.format(offset, offset_end)})\n",
    "print(response)"
   ]
  },
  {
   "cell_type": "code",
   "execution_count": 35,
   "metadata": {},
   "outputs": [
    {
     "name": "stdout",
     "output_type": "stream",
     "text": [
      "<_io.BytesIO object at 0x108eb1a40>\n",
      "<gzip _io.BytesIO object at 0x108eb1a40 0x108ebec88>\n"
     ]
    }
   ],
   "source": [
    "raw_data = io.BytesIO(response.content)\n",
    "print(raw_data)\n",
    "f = gzip.GzipFile(fileobj=raw_data)\n",
    "print(f)"
   ]
  },
  {
   "cell_type": "code",
   "execution_count": 36,
   "metadata": {},
   "outputs": [],
   "source": [
    "data = f.read()\n",
    "#print(data)\n",
    "#resp = \"\"\n",
    "#if len(data):\n",
    "#    try:\n",
    "#        resp = data.decode('utf8').strip().split('\\r\\n\\r\\n', 2)\n",
    "#    except:\n",
    "#        pass\n",
    "#print(resp)"
   ]
  },
  {
   "cell_type": "code",
   "execution_count": 37,
   "metadata": {
    "scrolled": false
   },
   "outputs": [],
   "source": [
    "#doc = parse(io.BytesIO(data)).getroot()\n",
    "doc = BeautifulSoup(io.BytesIO(data), 'lxml')\n",
    "#print(doc)\n",
    "all_a = doc.find_all('a')\n",
    "hrefList = []\n",
    "if all_a:\n",
    "    for l in all_a:\n",
    "        #print(l)\n",
    "        href = l.attrs.get('href')\n",
    "        \n",
    "        if href is not None:\n",
    "            if href.startswith('http'):\n",
    "                hrefList.append(href)\n",
    "        \n",
    "#print(hrefList)\n",
    "\n",
    "#print(all_a)\n",
    "#print(doc)\n",
    "#for div in doc.cssselect('a'):\n",
    "#    print('%s: %s' % (div.text_content(), div.get('href')))"
   ]
  },
  {
   "cell_type": "code",
   "execution_count": 38,
   "metadata": {},
   "outputs": [],
   "source": [
    "with codecs.open('links.csv', 'wb', encoding = 'utf8') as output:\n",
    "    f = ['url']\n",
    "    write_csv = csv.DictWriter(output, fieldnames = f)\n",
    "    write_csv.writeheader()\n",
    "    \n",
    "    for h in hrefList:\n",
    "        write_csv.writerow({'url':h})"
   ]
  },
  {
   "cell_type": "code",
   "execution_count": 39,
   "metadata": {},
   "outputs": [
    {
     "name": "stdout",
     "output_type": "stream",
     "text": [
      "https://www.nfl.com\n",
      "https://www.nfl.com/news\n",
      "https://www.nfl.com/schedules\n",
      "https://www.nfl.com/gamepass?icampaign=nfl-nav-gamepass\n",
      "https://www.nfl.com/draft\n",
      "https://www.nfl.com/freeagency\n"
     ]
    },
    {
     "data": {
      "text/plain": [
       "'pageListFinal = []\\nif p.status_code == 200:\\n    pagesFinal = p.content\\n    print(pagesFinal)\\n    for i in pagesFinal:\\n        pageListFinal.append(json.loads(i))'"
      ]
     },
     "execution_count": 39,
     "metadata": {},
     "output_type": "execute_result"
    }
   ],
   "source": [
    "#hrefList[1]\n",
    "for h in hrefList:\n",
    "    #print(hrefList[1])\n",
    "    print(h)\n",
    "#p = requests.get(hrefList[1])\n",
    "#print(p.status_code)\n",
    "#print(p.text)\n",
    "'''pageListFinal = []\n",
    "if p.status_code == 200:\n",
    "    pagesFinal = p.content\n",
    "    print(pagesFinal)\n",
    "    for i in pagesFinal:\n",
    "        pageListFinal.append(json.loads(i))'''\n",
    "        \n",
    "#print(pageListFinal[0])"
   ]
  },
  {
   "cell_type": "code",
   "execution_count": null,
   "metadata": {},
   "outputs": [],
   "source": []
  }
 ],
 "metadata": {
  "kernelspec": {
   "display_name": "Python 3",
   "language": "python",
   "name": "python3"
  },
  "language_info": {
   "codemirror_mode": {
    "name": "ipython",
    "version": 3
   },
   "file_extension": ".py",
   "mimetype": "text/x-python",
   "name": "python",
   "nbconvert_exporter": "python",
   "pygments_lexer": "ipython3",
   "version": "3.6.7"
  }
 },
 "nbformat": 4,
 "nbformat_minor": 2
}
