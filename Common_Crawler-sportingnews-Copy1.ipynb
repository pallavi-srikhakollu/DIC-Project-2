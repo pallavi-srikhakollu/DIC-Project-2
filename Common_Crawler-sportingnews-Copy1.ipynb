{
 "cells": [
  {
   "cell_type": "code",
   "execution_count": 37,
   "metadata": {},
   "outputs": [],
   "source": [
    "import requests\n",
    "import codecs\n",
    "import csv\n",
    "from bs4 import BeautifulSoup \n",
    "import json\n",
    "import io\n",
    "import gzip\n",
    "from html.parser import HTMLParser"
   ]
  },
  {
   "cell_type": "code",
   "execution_count": 50,
   "metadata": {},
   "outputs": [],
   "source": [
    "get_requests1 = requests.get('http://index.commoncrawl.org/CC-MAIN-2019-09-index?url=http%3A%2F%2Fhttps://www.nfl.com&output=json')\n",
    "get_requests2 = requests.get('http://index.commoncrawl.org/CC-MAIN-2019-04-index?url=http%3A%2F%2Fhttps://www.nfl.com&output=json')\n",
    "get_requests3 = requests.get('http://index.commoncrawl.org/CC-MAIN-2019-13-index?url=http%3A%2F%2Fhttps://www.nfl.com&output=json')\n",
    "requestsArray = []\n",
    "requestsArray.append(get_requests1)\n",
    "requestsArray.append(get_requests2)\n",
    "requestsArray.append(get_requests3)\n"
   ]
  },
  {
   "cell_type": "code",
   "execution_count": 51,
   "metadata": {},
   "outputs": [
    {
     "name": "stdout",
     "output_type": "stream",
     "text": [
      "200\n",
      "200\n",
      "200\n",
      "[b'{\"urlkey\": \"com,nfl)/\", \"timestamp\": \"20190319085609\", \"digest\": \"3I42H3S6NNFQ2MSVX7XZKYAYSCX5QBYJ\", \"offset\": \"11323229\", \"length\": \"555\", \"url\": \"http://www.nfl.com/\", \"filename\": \"crawl-data/CC-MAIN-2019-13/segments/1552912201922.85/crawldiagnostics/CC-MAIN-20190319073140-20190319095140-00288.warc.gz\", \"mime\": \"unk\", \"status\": \"301\", \"mime-detected\": \"application/octet-stream\"}', b'{\"urlkey\": \"com,nfl)/\", \"timestamp\": \"20190319085610\", \"digest\": \"346AHKUJF3UGDMQYKJ4BTEFZLZFWGTCG\", \"offset\": \"835975358\", \"length\": \"23779\", \"url\": \"https://www.nfl.com/\", \"languages\": \"eng\", \"filename\": \"crawl-data/CC-MAIN-2019-13/segments/1552912201922.85/warc/CC-MAIN-20190319073140-20190319095140-00111.warc.gz\", \"mime\": \"text/html\", \"charset\": \"UTF-8\", \"status\": \"200\", \"mime-detected\": \"text/html\"}', b'{\"urlkey\": \"com,nfl)/\", \"timestamp\": \"20190319215938\", \"digest\": \"EWKG6CDFVJBS6X7YRSVPVUM6LLIIV6HY\", \"offset\": \"877394508\", \"length\": \"24008\", \"url\": \"https://www.nfl.com/\", \"languages\": \"eng\", \"filename\": \"crawl-data/CC-MAIN-2019-13/segments/1552912202131.54/warc/CC-MAIN-20190319203912-20190319225912-00111.warc.gz\", \"mime\": \"text/html\", \"charset\": \"UTF-8\", \"status\": \"200\", \"mime-detected\": \"text/html\"}', b'{\"urlkey\": \"com,nfl)/\", \"timestamp\": \"20190319220705\", \"digest\": \"3I42H3S6NNFQ2MSVX7XZKYAYSCX5QBYJ\", \"offset\": \"10525009\", \"length\": \"554\", \"url\": \"http://www.nfl.com/\", \"filename\": \"crawl-data/CC-MAIN-2019-13/segments/1552912202131.54/crawldiagnostics/CC-MAIN-20190319203912-20190319225912-00288.warc.gz\", \"mime\": \"unk\", \"status\": \"301\", \"mime-detected\": \"application/octet-stream\"}', b'{\"urlkey\": \"com,nfl)/\", \"timestamp\": \"20190320004307\", \"digest\": \"3I42H3S6NNFQ2MSVX7XZKYAYSCX5QBYJ\", \"offset\": \"11036109\", \"length\": \"554\", \"url\": \"http://www.nfl.com/\", \"filename\": \"crawl-data/CC-MAIN-2019-13/segments/1552912202188.9/crawldiagnostics/CC-MAIN-20190320004046-20190320030046-00288.warc.gz\", \"mime\": \"unk\", \"status\": \"301\", \"mime-detected\": \"application/octet-stream\"}', b'{\"urlkey\": \"com,nfl)/\", \"timestamp\": \"20190320004307\", \"digest\": \"TG3XYVLFVPCED4N2DR6LDQIJAYJKMV4L\", \"offset\": \"852908977\", \"length\": \"23729\", \"url\": \"https://www.nfl.com/\", \"languages\": \"eng\", \"filename\": \"crawl-data/CC-MAIN-2019-13/segments/1552912202188.9/warc/CC-MAIN-20190320004046-20190320030046-00111.warc.gz\", \"mime\": \"text/html\", \"charset\": \"UTF-8\", \"status\": \"200\", \"mime-detected\": \"text/html\"}', b'{\"urlkey\": \"com,nfl)/\", \"timestamp\": \"20190320040601\", \"digest\": \"3I42H3S6NNFQ2MSVX7XZKYAYSCX5QBYJ\", \"offset\": \"10473785\", \"length\": \"555\", \"url\": \"http://www.nfl.com/\", \"filename\": \"crawl-data/CC-MAIN-2019-13/segments/1552912202199.51/crawldiagnostics/CC-MAIN-20190320024206-20190320050206-00288.warc.gz\", \"mime\": \"unk\", \"status\": \"301\", \"mime-detected\": \"application/octet-stream\"}', b'{\"urlkey\": \"com,nfl)/\", \"timestamp\": \"20190320040601\", \"digest\": \"IEGOS32KJNA75T5BQ5ZEFXHZSSSY4VHW\", \"offset\": \"841177889\", \"length\": \"23710\", \"url\": \"https://www.nfl.com/\", \"languages\": \"eng\", \"filename\": \"crawl-data/CC-MAIN-2019-13/segments/1552912202199.51/warc/CC-MAIN-20190320024206-20190320050206-00111.warc.gz\", \"mime\": \"text/html\", \"charset\": \"UTF-8\", \"status\": \"200\", \"mime-detected\": \"text/html\"}', b'{\"urlkey\": \"com,nfl)/\", \"timestamp\": \"20190320112029\", \"digest\": \"3I42H3S6NNFQ2MSVX7XZKYAYSCX5QBYJ\", \"offset\": \"9760170\", \"length\": \"555\", \"url\": \"http://www.nfl.com/\", \"filename\": \"crawl-data/CC-MAIN-2019-13/segments/1552912202326.46/crawldiagnostics/CC-MAIN-20190320105319-20190320131319-00288.warc.gz\", \"mime\": \"unk\", \"status\": \"301\", \"mime-detected\": \"application/octet-stream\"}', b'{\"urlkey\": \"com,nfl)/\", \"timestamp\": \"20190320112029\", \"digest\": \"YK4I2CIRKBEEKDPUY54EXVXVSJRUBGPP\", \"offset\": \"853963946\", \"length\": \"23711\", \"url\": \"https://www.nfl.com/\", \"languages\": \"eng\", \"filename\": \"crawl-data/CC-MAIN-2019-13/segments/1552912202326.46/warc/CC-MAIN-20190320105319-20190320131319-00111.warc.gz\", \"mime\": \"text/html\", \"charset\": \"UTF-8\", \"status\": \"200\", \"mime-detected\": \"text/html\"}', b'{\"urlkey\": \"com,nfl)/\", \"timestamp\": \"20190320182112\", \"digest\": \"OYOYNTT5PDGGRODBAMIA7NU2LRBH5IXX\", \"offset\": \"836809024\", \"length\": \"23783\", \"url\": \"https://www.nfl.com/\", \"languages\": \"eng\", \"filename\": \"crawl-data/CC-MAIN-2019-13/segments/1552912202450.64/warc/CC-MAIN-20190320170159-20190320192159-00111.warc.gz\", \"mime\": \"text/html\", \"charset\": \"UTF-8\", \"status\": \"200\", \"mime-detected\": \"text/html\"}', b'{\"urlkey\": \"com,nfl)/\", \"timestamp\": \"20190321025814\", \"digest\": \"3I42H3S6NNFQ2MSVX7XZKYAYSCX5QBYJ\", \"offset\": \"10370300\", \"length\": \"554\", \"url\": \"http://www.nfl.com/\", \"filename\": \"crawl-data/CC-MAIN-2019-13/segments/1552912202476.48/crawldiagnostics/CC-MAIN-20190321010720-20190321032720-00288.warc.gz\", \"mime\": \"unk\", \"status\": \"301\", \"mime-detected\": \"application/octet-stream\"}', b'{\"urlkey\": \"com,nfl)/\", \"timestamp\": \"20190321025814\", \"digest\": \"24R3JWDCAGIRXFASLQIVWVNXXYO7PRA6\", \"offset\": \"858658863\", \"length\": \"23492\", \"url\": \"https://www.nfl.com/\", \"languages\": \"eng\", \"filename\": \"crawl-data/CC-MAIN-2019-13/segments/1552912202476.48/warc/CC-MAIN-20190321010720-20190321032720-00111.warc.gz\", \"mime\": \"text/html\", \"charset\": \"UTF-8\", \"status\": \"200\", \"mime-detected\": \"text/html\"}', b'{\"urlkey\": \"com,nfl)/\", \"timestamp\": \"20190321082207\", \"digest\": \"BA52KLLKWAKG3QXYJGSTKU2XBX27XZES\", \"offset\": \"844695262\", \"length\": \"23506\", \"url\": \"https://www.nfl.com/\", \"languages\": \"eng\", \"filename\": \"crawl-data/CC-MAIN-2019-13/segments/1552912202506.45/warc/CC-MAIN-20190321072128-20190321094128-00111.warc.gz\", \"mime\": \"text/html\", \"charset\": \"UTF-8\", \"status\": \"200\", \"mime-detected\": \"text/html\"}', b'{\"urlkey\": \"com,nfl)/\", \"timestamp\": \"20190321150432\", \"digest\": \"3I42H3S6NNFQ2MSVX7XZKYAYSCX5QBYJ\", \"offset\": \"10263837\", \"length\": \"558\", \"url\": \"http://www.nfl.com/\", \"filename\": \"crawl-data/CC-MAIN-2019-13/segments/1552912202525.25/crawldiagnostics/CC-MAIN-20190321132523-20190321154523-00288.warc.gz\", \"mime\": \"unk\", \"status\": \"301\", \"mime-detected\": \"application/octet-stream\"}', b'{\"urlkey\": \"com,nfl)/\", \"timestamp\": \"20190321150432\", \"digest\": \"HJ6UH3UBV5U4B5OALUJM5MMOMOWTRJDL\", \"offset\": \"858451493\", \"length\": \"23827\", \"url\": \"https://www.nfl.com/\", \"languages\": \"eng\", \"filename\": \"crawl-data/CC-MAIN-2019-13/segments/1552912202525.25/warc/CC-MAIN-20190321132523-20190321154523-00111.warc.gz\", \"mime\": \"text/html\", \"charset\": \"UTF-8\", \"status\": \"200\", \"mime-detected\": \"text/html\"}', b'{\"urlkey\": \"com,nfl)/\", \"timestamp\": \"20190323230602\", \"digest\": \"3I42H3S6NNFQ2MSVX7XZKYAYSCX5QBYJ\", \"offset\": \"11549960\", \"length\": \"554\", \"url\": \"http://www.nfl.com/\", \"filename\": \"crawl-data/CC-MAIN-2019-13/segments/1552912203093.63/crawldiagnostics/CC-MAIN-20190323221914-20190324003914-00288.warc.gz\", \"mime\": \"unk\", \"status\": \"301\", \"mime-detected\": \"application/octet-stream\"}', b'{\"urlkey\": \"com,nfl)/\", \"timestamp\": \"20190323230603\", \"digest\": \"P5E5Q6JVIKHERW2XLXCENMAJAFXTYBGT\", \"offset\": \"836072095\", \"length\": \"24016\", \"url\": \"https://www.nfl.com/\", \"languages\": \"eng\", \"filename\": \"crawl-data/CC-MAIN-2019-13/segments/1552912203093.63/warc/CC-MAIN-20190323221914-20190324003914-00111.warc.gz\", \"mime\": \"text/html\", \"charset\": \"UTF-8\", \"status\": \"200\", \"mime-detected\": \"text/html\"}', b'{\"urlkey\": \"com,nfl)/\", \"timestamp\": \"20190324091505\", \"digest\": \"3I42H3S6NNFQ2MSVX7XZKYAYSCX5QBYJ\", \"offset\": \"10704013\", \"length\": \"556\", \"url\": \"http://www.nfl.com/\", \"filename\": \"crawl-data/CC-MAIN-2019-13/segments/1552912203409.36/crawldiagnostics/CC-MAIN-20190324083551-20190324105551-00288.warc.gz\", \"mime\": \"unk\", \"status\": \"301\", \"mime-detected\": \"application/octet-stream\"}', b'{\"urlkey\": \"com,nfl)/\", \"timestamp\": \"20190324091505\", \"digest\": \"AWWW75EB6VYNVESSTSCXKPYEHK6UHRVR\", \"offset\": \"848824716\", \"length\": \"24139\", \"url\": \"https://www.nfl.com/\", \"languages\": \"eng\", \"filename\": \"crawl-data/CC-MAIN-2019-13/segments/1552912203409.36/warc/CC-MAIN-20190324083551-20190324105551-00111.warc.gz\", \"mime\": \"text/html\", \"charset\": \"UTF-8\", \"status\": \"200\", \"mime-detected\": \"text/html\"}', b'{\"urlkey\": \"com,nfl)/\", \"timestamp\": \"20190324141220\", \"digest\": \"3I42H3S6NNFQ2MSVX7XZKYAYSCX5QBYJ\", \"offset\": \"1930357\", \"length\": \"557\", \"url\": \"http://www.nfl.com/\", \"filename\": \"crawl-data/CC-MAIN-2019-13/segments/1552912203448.17/robotstxt/CC-MAIN-20190324124545-20190324150545-00288.warc.gz\", \"mime\": \"unk\", \"status\": \"301\", \"mime-detected\": \"application/octet-stream\"}', b'{\"urlkey\": \"com,nfl)/\", \"timestamp\": \"20190324141221\", \"digest\": \"O4R4S5R2ZHHPXHECHA3CF37LFVNS7BIU\", \"offset\": \"865025738\", \"length\": \"24109\", \"url\": \"https://www.nfl.com/\", \"languages\": \"eng\", \"filename\": \"crawl-data/CC-MAIN-2019-13/segments/1552912203448.17/warc/CC-MAIN-20190324124545-20190324150545-00111.warc.gz\", \"mime\": \"text/html\", \"charset\": \"UTF-8\", \"status\": \"200\", \"mime-detected\": \"text/html\"}', b'{\"urlkey\": \"com,nfl)/\", \"timestamp\": \"20190325003506\", \"digest\": \"D4GSHNL75F44YX7MSQWNZWJ6A5ZIBKC2\", \"offset\": \"833299427\", \"length\": \"23325\", \"url\": \"https://www.nfl.com/\", \"languages\": \"eng\", \"filename\": \"crawl-data/CC-MAIN-2019-13/segments/1552912203529.38/warc/CC-MAIN-20190324230359-20190325012359-00111.warc.gz\", \"mime\": \"text/html\", \"charset\": \"UTF-8\", \"status\": \"200\", \"mime-detected\": \"text/html\"}', b'{\"urlkey\": \"com,nfl)/\", \"timestamp\": \"20190325094229\", \"digest\": \"3I42H3S6NNFQ2MSVX7XZKYAYSCX5QBYJ\", \"offset\": \"1944854\", \"length\": \"558\", \"url\": \"http://www.nfl.com\", \"filename\": \"crawl-data/CC-MAIN-2019-13/segments/1552912203865.15/robotstxt/CC-MAIN-20190325092147-20190325114147-00143.warc.gz\", \"mime\": \"unk\", \"status\": \"301\", \"mime-detected\": \"application/octet-stream\"}', b'{\"urlkey\": \"com,nfl)/\", \"timestamp\": \"20190325094239\", \"digest\": \"3I42H3S6NNFQ2MSVX7XZKYAYSCX5QBYJ\", \"offset\": \"10460919\", \"length\": \"557\", \"url\": \"http://www.nfl.com/\", \"filename\": \"crawl-data/CC-MAIN-2019-13/segments/1552912203865.15/crawldiagnostics/CC-MAIN-20190325092147-20190325114147-00288.warc.gz\", \"mime\": \"unk\", \"status\": \"301\", \"mime-detected\": \"application/octet-stream\"}', b'{\"urlkey\": \"com,nfl)/\", \"timestamp\": \"20190325094239\", \"digest\": \"EQE63FO436W5IFDSG5WHYM4SMWS2WJQS\", \"offset\": \"848076095\", \"length\": \"24103\", \"url\": \"https://www.nfl.com/\", \"languages\": \"eng\", \"filename\": \"crawl-data/CC-MAIN-2019-13/segments/1552912203865.15/warc/CC-MAIN-20190325092147-20190325114147-00111.warc.gz\", \"mime\": \"text/html\", \"charset\": \"UTF-8\", \"status\": \"200\", \"mime-detected\": \"text/html\"}', b'{\"urlkey\": \"com,nfl)/\", \"timestamp\": \"20190325124956\", \"digest\": \"4PSONITBJ6JVVFUB7AZGVJLW7OAZWD4B\", \"offset\": \"2900834\", \"length\": \"24113\", \"url\": \"https://www.nfl.com/\", \"filename\": \"crawl-data/CC-MAIN-2019-13/segments/1552912203947.59/robotstxt/CC-MAIN-20190325112917-20190325134917-00111.warc.gz\", \"mime\": \"text/html\", \"status\": \"200\", \"mime-detected\": \"text/html\"}', b'{\"urlkey\": \"com,nfl)/\", \"timestamp\": \"20190325175235\", \"digest\": \"3I42H3S6NNFQ2MSVX7XZKYAYSCX5QBYJ\", \"offset\": \"10875923\", \"length\": \"554\", \"url\": \"http://www.nfl.com/\", \"filename\": \"crawl-data/CC-MAIN-2019-13/segments/1552912204086.87/crawldiagnostics/CC-MAIN-20190325174034-20190325200034-00288.warc.gz\", \"mime\": \"unk\", \"status\": \"301\", \"mime-detected\": \"application/octet-stream\"}', b'{\"urlkey\": \"com,nfl)/\", \"timestamp\": \"20190325175235\", \"digest\": \"MVKILXET25MEUXMF654P6XQEFO2J7AGW\", \"offset\": \"832677453\", \"length\": \"24285\", \"url\": \"https://www.nfl.com/\", \"languages\": \"eng\", \"filename\": \"crawl-data/CC-MAIN-2019-13/segments/1552912204086.87/warc/CC-MAIN-20190325174034-20190325200034-00111.warc.gz\", \"mime\": \"text/html\", \"charset\": \"UTF-8\", \"status\": \"200\", \"mime-detected\": \"text/html\"}', b'{\"urlkey\": \"com,nfl)/\", \"timestamp\": \"20190326084544\", \"digest\": \"3I42H3S6NNFQ2MSVX7XZKYAYSCX5QBYJ\", \"offset\": \"11104329\", \"length\": \"557\", \"url\": \"http://www.nfl.com/\", \"filename\": \"crawl-data/CC-MAIN-2019-13/segments/1552912204885.27/crawldiagnostics/CC-MAIN-20190326075019-20190326101019-00288.warc.gz\", \"mime\": \"unk\", \"status\": \"301\", \"mime-detected\": \"application/octet-stream\"}', b'{\"urlkey\": \"com,nfl)/\", \"timestamp\": \"20190326084544\", \"digest\": \"FTDBCU2ITT722IVC6DJ5N25FBGSIFRPO\", \"offset\": \"842297885\", \"length\": \"24318\", \"url\": \"https://www.nfl.com/\", \"languages\": \"eng\", \"filename\": \"crawl-data/CC-MAIN-2019-13/segments/1552912204885.27/warc/CC-MAIN-20190326075019-20190326101019-00111.warc.gz\", \"mime\": \"text/html\", \"charset\": \"UTF-8\", \"status\": \"200\", \"mime-detected\": \"text/html\"}', b'{\"urlkey\": \"com,nfl)/\", \"timestamp\": \"20190327001136\", \"digest\": \"3I42H3S6NNFQ2MSVX7XZKYAYSCX5QBYJ\", \"offset\": \"10867077\", \"length\": \"557\", \"url\": \"http://www.nfl.com/\", \"filename\": \"crawl-data/CC-MAIN-2019-13/segments/1552912207146.96/crawldiagnostics/CC-MAIN-20190327000624-20190327022624-00288.warc.gz\", \"mime\": \"unk\", \"status\": \"301\", \"mime-detected\": \"application/octet-stream\"}']\n"
     ]
    }
   ],
   "source": [
    "pageList = []\n",
    "for r in requestsArray:\n",
    "    print(r.status_code)\n",
    "    if r.status_code == 200:\n",
    "        \n",
    "        pages = r.content.splitlines()\n",
    "        for i in pages:\n",
    "            pageList.append(json.loads(i))\n",
    "\n",
    "print(pages)\n",
    "#pages = [json.loads(x) for x in get_requests.content.decode('utf8').strip().split('\\n')]\n",
    "#page = pages[2]"
   ]
  },
  {
   "cell_type": "code",
   "execution_count": 52,
   "metadata": {},
   "outputs": [
    {
     "name": "stdout",
     "output_type": "stream",
     "text": [
      "{'urlkey': 'com,nfl)/', 'timestamp': '20190215230006', 'digest': '3I42H3S6NNFQ2MSVX7XZKYAYSCX5QBYJ', 'offset': '10629915', 'length': '556', 'url': 'http://www.nfl.com/', 'filename': 'crawl-data/CC-MAIN-2019-09/segments/1550247479627.17/crawldiagnostics/CC-MAIN-20190215224408-20190216010408-00048.warc.gz', 'mime': 'unk', 'status': '301', 'mime-detected': 'application/octet-stream'}\n"
     ]
    }
   ],
   "source": [
    "page = pageList[0]\n",
    "print(page)"
   ]
  },
  {
   "cell_type": "code",
   "execution_count": 53,
   "metadata": {},
   "outputs": [
    {
     "name": "stdout",
     "output_type": "stream",
     "text": [
      "10629915 556 10630470\n",
      "<Response [206]>\n"
     ]
    }
   ],
   "source": [
    "offset, length = int(page['offset']), int(page['length'])\n",
    "offset_end = offset + length - 1\n",
    "print(offset, length, offset_end)\n",
    "\n",
    "#prefix = 'https://aws-publicdatasets.s3.amazonaws.com/'\n",
    "prefix = 'https://commoncrawl.s3.amazonaws.com/'\n",
    "\n",
    "response = requests.get(prefix + page['filename'], headers={'Range': 'bytes={}-{}'.format(offset, offset_end)})\n",
    "#response = requests.get(\"https://commoncrawl.s3.amazonaws.com/crawl-data/CC-MAIN-2019-09/segments/1550247479627.17/wet/CC-MAIN-20190215224408-20190216010408-00271.warc.wet.gz\", headers={'Range': 'bytes={}-{}'.format(offset, offset_end)})\n",
    "print(response)"
   ]
  },
  {
   "cell_type": "code",
   "execution_count": 54,
   "metadata": {},
   "outputs": [
    {
     "name": "stdout",
     "output_type": "stream",
     "text": [
      "<_io.BytesIO object at 0x11087c620>\n",
      "<gzip _io.BytesIO object at 0x11087c620 0x1108e8780>\n"
     ]
    }
   ],
   "source": [
    "raw_data = io.BytesIO(response.content)\n",
    "print(raw_data)\n",
    "f = gzip.GzipFile(fileobj=raw_data)\n",
    "print(f)"
   ]
  },
  {
   "cell_type": "code",
   "execution_count": 55,
   "metadata": {},
   "outputs": [],
   "source": [
    "data = f.read()"
   ]
  },
  {
   "cell_type": "code",
   "execution_count": 56,
   "metadata": {
    "scrolled": false
   },
   "outputs": [],
   "source": [
    "#doc = parse(io.BytesIO(data)).getroot()\n",
    "doc = BeautifulSoup(io.BytesIO(data), 'lxml')\n",
    "#print(doc)\n",
    "all_a = doc.find_all('a')\n",
    "hrefList = []\n",
    "if all_a:\n",
    "    for l in all_a:\n",
    "        #print(l)\n",
    "        href = l.attrs.get('href')\n",
    "        \n",
    "        if href is not None:\n",
    "            if href.startswith('http'):\n",
    "                hrefList.append(href)\n",
    "                print(href)"
   ]
  },
  {
   "cell_type": "code",
   "execution_count": 57,
   "metadata": {},
   "outputs": [
    {
     "name": "stdout",
     "output_type": "stream",
     "text": [
      "[]\n"
     ]
    }
   ],
   "source": [
    "with codecs.open('links.csv', 'wb', encoding = 'utf8') as output:\n",
    "    f = ['url']\n",
    "    write_csv = csv.DictWriter(output, fieldnames = f)\n",
    "    write_csv.writeheader()\n",
    "    \n",
    "    for h in hrefList:\n",
    "        write_csv.writerow({'url':h})\n",
    "        \n",
    "hrefList = list( dict.fromkeys(hrefList) )\n",
    "\n",
    "for h in hrefList:\n",
    "    print(h)\n",
    "print(hrefList)"
   ]
  },
  {
   "cell_type": "code",
   "execution_count": 25,
   "metadata": {},
   "outputs": [
    {
     "name": "stdout",
     "output_type": "stream",
     "text": [
      "\n"
     ]
    },
    {
     "data": {
      "text/plain": [
       "'pageListFinal = []\\nif p.status_code == 200:\\n    pagesFinal = p.content\\n    print(pagesFinal)\\n    for i in pagesFinal:\\n        pageListFinal.append(json.loads(i))'"
      ]
     },
     "execution_count": 25,
     "metadata": {},
     "output_type": "execute_result"
    }
   ],
   "source": [
    "#hrefList[1]\n",
    "all_text = \"\"\n",
    "for h in hrefList:\n",
    "     print(\"---------------\")\n",
    "     print(h)\n",
    "     response = requests.get(h)\n",
    "     if response.status_code == 200:\n",
    "         doc = BeautifulSoup(response.text, 'html.parser')\n",
    "         name_box = doc.find_all('p')\n",
    "\n",
    "         for name in name_box:\n",
    "            for x in name.find_all('a'):\n",
    "                x.replaceWithChildren()\n",
    "\n",
    "         for link in name_box:\n",
    "            all_text+=link.text\n",
    "     #print(\"----------------------------------------------------\")\n",
    "     #print(all_text)\n",
    "\n",
    "print(all_text)\n",
    "    \n",
    "#p = requests.get(hrefList[1])\n",
    "#print(p.status_code)\n",
    "#print(p.text)\n",
    "'''pageListFinal = []\n",
    "if p.status_code == 200:\n",
    "    pagesFinal = p.content\n",
    "    print(pagesFinal)\n",
    "    for i in pagesFinal:\n",
    "        pageListFinal.append(json.loads(i))'''\n",
    "        \n",
    "#print(pageListFinal[0])"
   ]
  },
  {
   "cell_type": "code",
   "execution_count": 36,
   "metadata": {},
   "outputs": [
    {
     "name": "stdout",
     "output_type": "stream",
     "text": [
      "206\n"
     ]
    }
   ],
   "source": [
    "print(response.status_code)"
   ]
  },
  {
   "cell_type": "code",
   "execution_count": 27,
   "metadata": {},
   "outputs": [],
   "source": [
    "#print(all_text)\n",
    "text_file = open(\"Common_crawl_sbnation_com_text_11_Apr.txt\", \"w\")\n",
    "text_file.write( all_text)\n",
    "text_file.close()"
   ]
  },
  {
   "cell_type": "code",
   "execution_count": 16,
   "metadata": {},
   "outputs": [
    {
     "name": "stdout",
     "output_type": "stream",
     "text": [
      "The Villanova Wildcats reigned supreme in March Madness, so gear up for the champs with our wide range of NCAA Basketball Apparel including official Villanova National Champs Gear that allow Wildcats fans to ring in their second title in three years! Score more than just College Basketball Gear at Fanatics, as we're always to stock your closet with NCAA Football Apparel and College Baseball Gear. Fanatics.com is your ultimate College Apparel store, bringing Students, Fans and Alumni all the College Gear they could ever need. With a huge selection of College Jerseys, College Clothing, NCAA Sweatshirts and T-Shirts, every die-hard fan or alumnus can find a way to show their school pride. We offer College Sportswear for over 500 schools, so you can be sure you're checking out the largest collection of officially licensed College Gear and NCAA Merchandise anywhere. Our NCAA Shop houses an endless variety of College Jerseys so you'll be totally set for every season. \n",
      "\n",
      "                  Shop: College Polo Shirts | College Jerseys | NCAA Baseball Hats For the very best in authentic College Clothing, check out our NCAA Shop. With everything from gifts and collectibles to championship gear, our NCAA Shop has got all your College gear needs covered. Our selection of NCAA Merchandise is all officially licensed, so you can be sure you're sporting the most authentic team gear. Our NCAA Store has everything for your next game day, including NCAA Football Gear, Clothing and any type of NCAA gear or accessories a fan could dream of. Shop for NCAA Clothing and tailgating items here and your fellow fans are sure to be impressed. With retro looks, vintage gear and the latest styles from your team, you have a wide variety of officially licensed NCAA Clothing to choose from. Enjoy the NCAA Fan Shop and browse for all your NCAA shopping needs. You can find something for every person on your shopping list in this massive collection of authentic NCAA Gear!Get the appsFollow UsSecure ShoppingPayment Options©2019 Fanatics, Inc., All Rights Reserved. No portion of this site may be reproduced or duplicated without the express permission of Fanatics, Inc.\n"
     ]
    }
   ],
   "source": [
    " response = requests.get(\"http://shop.sportingnews.com/COLLEGE\")\n",
    " doc = BeautifulSoup(response.text, 'html.parser')\n",
    " #print(doc)\n",
    "    \n",
    " name_box = doc.find_all('p')\n",
    " all_text = \"\"\n",
    " for name in name_box:\n",
    "    #print(\".................\")\n",
    "    #print(name)\n",
    "    \n",
    "    for x in name.find_all('a'):\n",
    "        x.replaceWithChildren()\n",
    "        #all_text += (x.get_text()) \n",
    "        #print(all_text)\n",
    "    #print(\"%%%%%%%%%%%\")\n",
    "    #print(name)\n",
    "    #all_text += name\n",
    "    #print(all_text)\n",
    "\n",
    "for link in name_box:\n",
    "    all_text+=link.text\n",
    "print(all_text)"
   ]
  }
 ],
 "metadata": {
  "kernelspec": {
   "display_name": "Python 3",
   "language": "python",
   "name": "python3"
  },
  "language_info": {
   "codemirror_mode": {
    "name": "ipython",
    "version": 3
   },
   "file_extension": ".py",
   "mimetype": "text/x-python",
   "name": "python",
   "nbconvert_exporter": "python",
   "pygments_lexer": "ipython3",
   "version": "3.6.7"
  }
 },
 "nbformat": 4,
 "nbformat_minor": 2
}
