{
 "cells": [
  {
   "cell_type": "code",
   "execution_count": 75,
   "metadata": {},
   "outputs": [],
   "source": [
    "import requests\n",
    "import codecs\n",
    "import csv\n",
    "from bs4 import BeautifulSoup \n",
    "import json\n",
    "import io\n",
    "import gzip\n",
    "from html.parser import HTMLParser"
   ]
  },
  {
   "cell_type": "code",
   "execution_count": 76,
   "metadata": {},
   "outputs": [],
   "source": [
    "get_requests1 = requests.get('http://index.commoncrawl.org/CC-MAIN-2019-09-index?url=http%3A%2F%2Fhttps://www.nfl.com/&output=json')\n",
    "get_requests2 = requests.get('http://index.commoncrawl.org/CC-MAIN-2019-04-index?url=http%3A%2F%2Fhttps://www.nfl.com/&output=json')\n",
    "requestsArray = []\n",
    "requestsArray.append(get_requests1)\n",
    "requestsArray.append(get_requests2)"
   ]
  },
  {
   "cell_type": "code",
   "execution_count": 77,
   "metadata": {},
   "outputs": [
    {
     "name": "stdout",
     "output_type": "stream",
     "text": [
      "{'urlkey': 'com,nfl)/', 'timestamp': '20190215230006', 'url': 'http://www.nfl.com/', 'filename': 'crawl-data/CC-MAIN-2019-09/segments/1550247479627.17/crawldiagnostics/CC-MAIN-20190215224408-20190216010408-00048.warc.gz', 'mime-detected': 'application/octet-stream', 'offset': '10629915', 'digest': '3I42H3S6NNFQ2MSVX7XZKYAYSCX5QBYJ', 'status': '301', 'length': '556', 'mime': 'unk'}\n",
      "{'urlkey': 'com,nfl)/', 'timestamp': '20190215230006', 'url': 'https://www.nfl.com/', 'filename': 'crawl-data/CC-MAIN-2019-09/segments/1550247479627.17/warc/CC-MAIN-20190215224408-20190216010408-00271.warc.gz', 'mime-detected': 'text/html', 'offset': '907412876', 'digest': 'USICROEUUY5F7WMUXFW43C4NXKJHHZ4S', 'languages': 'eng', 'status': '200', 'length': '23676', 'mime': 'text/html', 'charset': 'UTF-8'}\n",
      "{'urlkey': 'com,nfl)/', 'timestamp': '20190216020939', 'url': 'https://www.nfl.com/', 'filename': 'crawl-data/CC-MAIN-2019-09/segments/1550247479729.27/robotstxt/CC-MAIN-20190216004609-20190216030609-00271.warc.gz', 'mime-detected': 'text/html', 'offset': '2570251', 'digest': 'YHQPVCLAHPNAHXOLA6L5TR44K7Z7T7KB', 'status': '200', 'length': '23819', 'mime': 'text/html'}\n",
      "{'urlkey': 'com,nfl)/', 'timestamp': '20190216190628', 'url': 'http://www.nfl.com/', 'filename': 'crawl-data/CC-MAIN-2019-09/segments/1550247481111.41/crawldiagnostics/CC-MAIN-20190216190407-20190216212407-00048.warc.gz', 'mime-detected': 'application/octet-stream', 'offset': '11923341', 'digest': '3I42H3S6NNFQ2MSVX7XZKYAYSCX5QBYJ', 'status': '301', 'length': '557', 'mime': 'unk'}\n",
      "{'urlkey': 'com,nfl)/', 'timestamp': '20190216203909', 'url': 'http://www.nfl.com', 'filename': 'crawl-data/CC-MAIN-2019-09/segments/1550247481111.41/robotstxt/CC-MAIN-20190216190407-20190216212407-00223.warc.gz', 'mime-detected': 'application/octet-stream', 'offset': '1734162', 'digest': '3I42H3S6NNFQ2MSVX7XZKYAYSCX5QBYJ', 'status': '301', 'length': '556', 'mime': 'unk'}\n",
      "{'urlkey': 'com,nfl)/', 'timestamp': '20190216203909', 'url': 'https://www.nfl.com/', 'filename': 'crawl-data/CC-MAIN-2019-09/segments/1550247481111.41/warc/CC-MAIN-20190216190407-20190216212407-00271.warc.gz', 'mime-detected': 'text/html', 'offset': '920671404', 'digest': 'GOC72FEJ2P3YVQZR3KBYH7W7TWUGSB3J', 'languages': 'eng', 'status': '200', 'length': '23618', 'mime': 'text/html', 'charset': 'UTF-8'}\n",
      "{'urlkey': 'com,nfl)/', 'timestamp': '20190216212808', 'url': 'http://www.nfl.com', 'filename': 'crawl-data/CC-MAIN-2019-09/segments/1550247481122.31/robotstxt/CC-MAIN-20190216210606-20190216232606-00223.warc.gz', 'mime-detected': 'application/octet-stream', 'offset': '1318629', 'digest': '3I42H3S6NNFQ2MSVX7XZKYAYSCX5QBYJ', 'status': '301', 'length': '556', 'mime': 'unk'}\n",
      "{'urlkey': 'com,nfl)/', 'timestamp': '20190216212826', 'url': 'http://www.nfl.com/', 'filename': 'crawl-data/CC-MAIN-2019-09/segments/1550247481122.31/crawldiagnostics/CC-MAIN-20190216210606-20190216232415-00048.warc.gz', 'mime-detected': 'application/octet-stream', 'offset': '11457776', 'digest': '3I42H3S6NNFQ2MSVX7XZKYAYSCX5QBYJ', 'status': '301', 'length': '556', 'mime': 'unk'}\n",
      "{'urlkey': 'com,nfl)/', 'timestamp': '20190216222940', 'url': 'https://www.nfl.com/', 'filename': 'crawl-data/CC-MAIN-2019-09/segments/1550247481122.31/warc/CC-MAIN-20190216210606-20190216232606-00271.warc.gz', 'mime-detected': 'text/html', 'offset': '911215715', 'digest': 'JIE7TKEK6UXWAEYRM4D6VYDEU7MQVSKM', 'languages': 'eng', 'status': '200', 'length': '23606', 'mime': 'text/html', 'charset': 'UTF-8'}\n",
      "{'urlkey': 'com,nfl)/', 'timestamp': '20190217052609', 'url': 'http://www.nfl.com/', 'filename': 'crawl-data/CC-MAIN-2019-09/segments/1550247481624.10/crawldiagnostics/CC-MAIN-20190217051250-20190217073250-00048.warc.gz', 'mime-detected': 'application/octet-stream', 'offset': '10922933', 'digest': '3I42H3S6NNFQ2MSVX7XZKYAYSCX5QBYJ', 'status': '301', 'length': '558', 'mime': 'unk'}\n",
      "{'urlkey': 'com,nfl)/', 'timestamp': '20190217052609', 'url': 'https://www.nfl.com/', 'filename': 'crawl-data/CC-MAIN-2019-09/segments/1550247481624.10/warc/CC-MAIN-20190217051250-20190217073250-00271.warc.gz', 'mime-detected': 'text/html', 'offset': '937127022', 'digest': 'AS3TMQ6P6OVMPXDUHXRA5RK6KDEI4J3F', 'languages': 'eng', 'status': '200', 'length': '23278', 'mime': 'text/html', 'charset': 'UTF-8'}\n",
      "{'urlkey': 'com,nfl)/', 'timestamp': '20190217144316', 'url': 'http://www.nfl.com/', 'filename': 'crawl-data/CC-MAIN-2019-09/segments/1550247481994.42/robotstxt/CC-MAIN-20190217132048-20190217154048-00048.warc.gz', 'mime-detected': 'application/octet-stream', 'offset': '1499901', 'digest': '3I42H3S6NNFQ2MSVX7XZKYAYSCX5QBYJ', 'status': '301', 'length': '554', 'mime': 'unk'}\n",
      "{'urlkey': 'com,nfl)/', 'timestamp': '20190217144317', 'url': 'https://www.nfl.com/', 'filename': 'crawl-data/CC-MAIN-2019-09/segments/1550247481994.42/warc/CC-MAIN-20190217132048-20190217154048-00271.warc.gz', 'mime-detected': 'text/html', 'offset': '888109864', 'digest': 'TCLGNBVT4LOLGLGKRUXMWTQN6S7LKYFX', 'languages': 'eng', 'status': '200', 'length': '23301', 'mime': 'text/html', 'charset': 'UTF-8'}\n",
      "{'urlkey': 'com,nfl)/', 'timestamp': '20190217215258', 'url': 'http://www.nfl.com/', 'filename': 'crawl-data/CC-MAIN-2019-09/segments/1550247482788.21/crawldiagnostics/CC-MAIN-20190217213235-20190217235235-00048.warc.gz', 'mime-detected': 'application/octet-stream', 'offset': '10684232', 'digest': '3I42H3S6NNFQ2MSVX7XZKYAYSCX5QBYJ', 'status': '301', 'length': '556', 'mime': 'unk'}\n",
      "{'urlkey': 'com,nfl)/', 'timestamp': '20190217215258', 'url': 'https://www.nfl.com/', 'filename': 'crawl-data/CC-MAIN-2019-09/segments/1550247482788.21/warc/CC-MAIN-20190217213235-20190217235235-00271.warc.gz', 'mime-detected': 'text/html', 'offset': '909910970', 'digest': 'IXLMO3TDXIUG4XFZXCRLQ33X2FGVR2HO', 'languages': 'eng', 'status': '200', 'length': '23268', 'mime': 'text/html', 'charset': 'UTF-8'}\n",
      "{'urlkey': 'com,nfl)/', 'timestamp': '20190218112931', 'url': 'http://www.nfl.com/', 'filename': 'crawl-data/CC-MAIN-2019-09/segments/1550247484928.52/crawldiagnostics/CC-MAIN-20190218094308-20190218120308-00048.warc.gz', 'mime-detected': 'application/octet-stream', 'offset': '10610020', 'digest': '3I42H3S6NNFQ2MSVX7XZKYAYSCX5QBYJ', 'status': '301', 'length': '554', 'mime': 'unk'}\n",
      "{'urlkey': 'com,nfl)/', 'timestamp': '20190218112931', 'url': 'https://www.nfl.com/', 'filename': 'crawl-data/CC-MAIN-2019-09/segments/1550247484928.52/warc/CC-MAIN-20190218094308-20190218120308-00271.warc.gz', 'mime-detected': 'text/html', 'offset': '932382934', 'digest': 'JNWNJYLPZJAVQCRIOHKUIWEMJZOLF3LV', 'languages': 'eng', 'status': '200', 'length': '23302', 'mime': 'text/html', 'charset': 'UTF-8'}\n",
      "{'urlkey': 'com,nfl)/', 'timestamp': '20190218140532', 'url': 'http://www.nfl.com/', 'filename': 'crawl-data/CC-MAIN-2019-09/segments/1550247486936.35/crawldiagnostics/CC-MAIN-20190218135032-20190218161032-00048.warc.gz', 'mime-detected': 'application/octet-stream', 'offset': '11489688', 'digest': '3I42H3S6NNFQ2MSVX7XZKYAYSCX5QBYJ', 'status': '301', 'length': '554', 'mime': 'unk'}\n",
      "{'urlkey': 'com,nfl)/', 'timestamp': '20190218140533', 'url': 'https://www.nfl.com/', 'filename': 'crawl-data/CC-MAIN-2019-09/segments/1550247486936.35/warc/CC-MAIN-20190218135032-20190218161032-00271.warc.gz', 'mime-detected': 'text/html', 'offset': '900963008', 'digest': 'GQBYIBXLKAQGWEPWU5K3DN3QTSUBQZ2Q', 'languages': 'eng', 'status': '200', 'length': '23279', 'mime': 'text/html', 'charset': 'UTF-8'}\n",
      "{'urlkey': 'com,nfl)/', 'timestamp': '20190219150207', 'url': 'http://www.nfl.com/', 'filename': 'crawl-data/CC-MAIN-2019-09/segments/1550247490225.49/robotstxt/CC-MAIN-20190219142524-20190219164524-00048.warc.gz', 'mime-detected': 'application/octet-stream', 'offset': '1516272', 'digest': '3I42H3S6NNFQ2MSVX7XZKYAYSCX5QBYJ', 'status': '301', 'length': '558', 'mime': 'unk'}\n",
      "{'urlkey': 'com,nfl)/', 'timestamp': '20190219150635', 'url': 'https://www.nfl.com/', 'filename': 'crawl-data/CC-MAIN-2019-09/segments/1550247490225.49/warc/CC-MAIN-20190219142524-20190219164524-00271.warc.gz', 'mime-detected': 'text/html', 'offset': '909865475', 'digest': 'PMGZFYIK4NLWMJT7U6LQAECEV7X2EX4B', 'languages': 'eng', 'status': '200', 'length': '23713', 'mime': 'text/html', 'charset': 'UTF-8'}\n",
      "{'urlkey': 'com,nfl)/', 'timestamp': '20190220005614', 'url': 'https://www.nfl.com/', 'filename': 'crawl-data/CC-MAIN-2019-09/segments/1550247494125.62/warc/CC-MAIN-20190220003821-20190220025821-00271.warc.gz', 'mime-detected': 'text/html', 'offset': '886296755', 'digest': 'OQADCSLITI2FSZPDX6F3WN6LSAJCSZ7J', 'languages': 'eng', 'status': '200', 'length': '22985', 'mime': 'text/html', 'charset': 'UTF-8'}\n",
      "{'urlkey': 'com,nfl)/', 'timestamp': '20190220032315', 'url': 'http://www.nfl.com/', 'filename': 'crawl-data/CC-MAIN-2019-09/segments/1550247494424.70/crawldiagnostics/CC-MAIN-20190220024254-20190220050254-00048.warc.gz', 'mime-detected': 'application/octet-stream', 'offset': '10283389', 'digest': '3I42H3S6NNFQ2MSVX7XZKYAYSCX5QBYJ', 'status': '301', 'length': '554', 'mime': 'unk'}\n",
      "{'urlkey': 'com,nfl)/', 'timestamp': '20190220032315', 'url': 'https://www.nfl.com/', 'filename': 'crawl-data/CC-MAIN-2019-09/segments/1550247494424.70/warc/CC-MAIN-20190220024254-20190220050254-00271.warc.gz', 'mime-detected': 'text/html', 'offset': '916717729', 'digest': 'CR2RUF7WJABSVPOMXHNSPYIYMYUXRJCJ', 'languages': 'eng', 'status': '200', 'length': '22995', 'mime': 'text/html', 'charset': 'UTF-8'}\n",
      "{'urlkey': 'com,nfl)/', 'timestamp': '20190220051952', 'url': 'http://www.nfl.com/', 'filename': 'crawl-data/CC-MAIN-2019-09/segments/1550247494449.56/crawldiagnostics/CC-MAIN-20190220044622-20190220070622-00048.warc.gz', 'mime-detected': 'application/octet-stream', 'offset': '10909629', 'digest': '3I42H3S6NNFQ2MSVX7XZKYAYSCX5QBYJ', 'status': '301', 'length': '555', 'mime': 'unk'}\n",
      "{'urlkey': 'com,nfl)/', 'timestamp': '20190220051952', 'url': 'https://www.nfl.com/', 'filename': 'crawl-data/CC-MAIN-2019-09/segments/1550247494449.56/warc/CC-MAIN-20190220044622-20190220070622-00271.warc.gz', 'mime-detected': 'text/html', 'offset': '887934443', 'digest': 'T3NNNXWKHRAOGVXJWVLJO7YONSZY4VWV', 'languages': 'eng', 'status': '200', 'length': '22974', 'mime': 'text/html', 'charset': 'UTF-8'}\n",
      "{'urlkey': 'com,nfl)/', 'timestamp': '20190221024100', 'url': 'http://www.nfl.com/', 'filename': 'crawl-data/CC-MAIN-2019-09/segments/1550247497858.46/crawldiagnostics/CC-MAIN-20190221010932-20190221032932-00048.warc.gz', 'mime-detected': 'application/octet-stream', 'offset': '12673702', 'digest': '3I42H3S6NNFQ2MSVX7XZKYAYSCX5QBYJ', 'status': '301', 'length': '556', 'mime': 'unk'}\n",
      "{'urlkey': 'com,nfl)/', 'timestamp': '20190221024100', 'url': 'https://www.nfl.com/', 'filename': 'crawl-data/CC-MAIN-2019-09/segments/1550247497858.46/warc/CC-MAIN-20190221010932-20190221032932-00271.warc.gz', 'mime-detected': 'text/html', 'offset': '914819765', 'digest': 'HA4E4RCTHJZHTJIE44V4QGS7RORTU7KT', 'languages': 'eng', 'status': '200', 'length': '23260', 'mime': 'text/html', 'charset': 'UTF-8'}\n",
      "{'urlkey': 'com,nfl)/', 'timestamp': '20190221104554', 'url': 'https://www.nfl.com/', 'filename': 'crawl-data/CC-MAIN-2019-09/segments/1550247503844.68/warc/CC-MAIN-20190221091728-20190221113728-00271.warc.gz', 'mime-detected': 'text/html', 'offset': '935489552', 'digest': 'DCQXH2WARTVSPC4H7DZEONODMOAN6VCT', 'languages': 'eng', 'status': '200', 'length': '23263', 'mime': 'text/html', 'charset': 'UTF-8'}\n",
      "{'urlkey': 'com,nfl)/', 'timestamp': '20190222163247', 'url': 'http://nfl.com/', 'filename': 'crawl-data/CC-MAIN-2019-09/segments/1550247518497.90/crawldiagnostics/CC-MAIN-20190222155556-20190222181556-00441.warc.gz', 'mime-detected': 'application/octet-stream', 'offset': '4895682', 'digest': '3I42H3S6NNFQ2MSVX7XZKYAYSCX5QBYJ', 'status': '301', 'length': '526', 'mime': 'unk'}\n",
      "{'urlkey': 'com,nfl)/', 'timestamp': '20190222163247', 'url': 'http://www.nfl.com/', 'filename': 'crawl-data/CC-MAIN-2019-09/segments/1550247518497.90/crawldiagnostics/CC-MAIN-20190222155556-20190222181556-00048.warc.gz', 'mime-detected': 'application/octet-stream', 'offset': '11512175', 'digest': '3I42H3S6NNFQ2MSVX7XZKYAYSCX5QBYJ', 'status': '301', 'length': '557', 'mime': 'unk'}\n",
      "{'urlkey': 'com,nfl)/', 'timestamp': '20190222211119', 'url': 'https://www.nfl.com/', 'filename': 'crawl-data/CC-MAIN-2019-09/segments/1550247526282.78/warc/CC-MAIN-20190222200334-20190222222334-00271.warc.gz', 'mime-detected': 'text/html', 'offset': '899407133', 'digest': 'ZJS3PVXIEIGFSLPVPBNE2IT724V2VU4O', 'languages': 'eng', 'status': '200', 'length': '22906', 'mime': 'text/html', 'charset': 'UTF-8'}\n",
      "{'urlkey': 'com,nfl)/', 'timestamp': '20190223112924', 'url': 'http://www.nfl.com/', 'filename': 'crawl-data/CC-MAIN-2019-09/segments/1550249500704.80/crawldiagnostics/CC-MAIN-20190223102155-20190223124155-00048.warc.gz', 'mime-detected': 'application/octet-stream', 'offset': '12831697', 'digest': '3I42H3S6NNFQ2MSVX7XZKYAYSCX5QBYJ', 'status': '301', 'length': '555', 'mime': 'unk'}\n",
      "{'urlkey': 'com,nfl)/', 'timestamp': '20190223112924', 'url': 'https://www.nfl.com/', 'filename': 'crawl-data/CC-MAIN-2019-09/segments/1550249500704.80/warc/CC-MAIN-20190223102155-20190223124155-00271.warc.gz', 'mime-detected': 'text/html', 'offset': '892014928', 'digest': '53LEXFQ22JGW7ANQWHUIZDNZXD4DTVBC', 'languages': 'eng', 'status': '200', 'length': '22463', 'mime': 'text/html', 'charset': 'UTF-8'}\n",
      "{'urlkey': 'com,nfl)/', 'timestamp': '20190223175615', 'url': 'http://www.nfl.com/', 'filename': 'crawl-data/CC-MAIN-2019-09/segments/1550249508792.98/crawldiagnostics/CC-MAIN-20190223162938-20190223184938-00048.warc.gz', 'mime-detected': 'application/octet-stream', 'offset': '10623970', 'digest': '3I42H3S6NNFQ2MSVX7XZKYAYSCX5QBYJ', 'status': '301', 'length': '557', 'mime': 'unk'}\n",
      "{'urlkey': 'com,nfl)/', 'timestamp': '20190223175615', 'url': 'https://www.nfl.com/', 'filename': 'crawl-data/CC-MAIN-2019-09/segments/1550249508792.98/warc/CC-MAIN-20190223162938-20190223184938-00271.warc.gz', 'mime-detected': 'text/html', 'offset': '926432945', 'digest': 'ZKG3KJ36UFNJJZKAC553RSJ5KC23PJCG', 'languages': 'eng', 'status': '200', 'length': '22428', 'mime': 'text/html', 'charset': 'UTF-8'}\n",
      "{'urlkey': 'com,nfl)/', 'timestamp': '20190223213311', 'url': 'http://www.nfl.com/', 'filename': 'crawl-data/CC-MAIN-2019-09/segments/1550249550830.96/crawldiagnostics/CC-MAIN-20190223203317-20190223225317-00048.warc.gz', 'mime-detected': 'application/octet-stream', 'offset': '11648889', 'digest': '3I42H3S6NNFQ2MSVX7XZKYAYSCX5QBYJ', 'status': '301', 'length': '555', 'mime': 'unk'}\n",
      "{'urlkey': 'com,nfl)/', 'timestamp': '20190223213311', 'url': 'https://www.nfl.com/', 'filename': 'crawl-data/CC-MAIN-2019-09/segments/1550249550830.96/warc/CC-MAIN-20190223203317-20190223225317-00271.warc.gz', 'mime-detected': 'text/html', 'offset': '904459464', 'digest': 'ITL5CIS5XRK6WQTYPIELQGOSPHTNDGWX', 'languages': 'eng', 'status': '200', 'length': '22399', 'mime': 'text/html', 'charset': 'UTF-8'}\n",
      "{'urlkey': 'com,nfl)/', 'timestamp': '20190116001015', 'url': 'http://www.nfl.com/', 'filename': 'crawl-data/CC-MAIN-2019-04/segments/1547583656530.8/crawldiagnostics/CC-MAIN-20190115225438-20190116011438-00048.warc.gz', 'mime-detected': 'application/octet-stream', 'offset': '10260173', 'digest': '3I42H3S6NNFQ2MSVX7XZKYAYSCX5QBYJ', 'status': '301', 'length': '558', 'mime': 'unk'}\n",
      "{'urlkey': 'com,nfl)/', 'timestamp': '20190116001016', 'url': 'https://www.nfl.com/', 'filename': 'crawl-data/CC-MAIN-2019-04/segments/1547583656530.8/warc/CC-MAIN-20190115225438-20190116011438-00271.warc.gz', 'mime-detected': 'text/html', 'offset': '911386885', 'digest': 'R555CXRMVKXCOS5ZZYRE2IU22SU6AZC6', 'languages': 'eng', 'status': '200', 'length': '25525', 'mime': 'text/html', 'charset': 'UTF-8'}\n",
      "{'urlkey': 'com,nfl)/', 'timestamp': '20190116085301', 'url': 'http://www.nfl.com/', 'filename': 'crawl-data/CC-MAIN-2019-04/segments/1547583657097.39/crawldiagnostics/CC-MAIN-20190116073323-20190116095323-00048.warc.gz', 'mime-detected': 'application/octet-stream', 'offset': '10024638', 'digest': '3I42H3S6NNFQ2MSVX7XZKYAYSCX5QBYJ', 'status': '301', 'length': '559', 'mime': 'unk'}\n",
      "{'urlkey': 'com,nfl)/', 'timestamp': '20190116085301', 'url': 'https://www.nfl.com/', 'filename': 'crawl-data/CC-MAIN-2019-04/segments/1547583657097.39/warc/CC-MAIN-20190116073323-20190116095323-00271.warc.gz', 'mime-detected': 'text/html', 'offset': '909934269', 'digest': 'OI2SNC732WOBYCLKFFWLQJOAIK7ESYNQ', 'languages': 'eng', 'status': '200', 'length': '25064', 'mime': 'text/html', 'charset': 'UTF-8'}\n",
      "{'urlkey': 'com,nfl)/', 'timestamp': '20190116103123', 'url': 'http://www.nfl.com/', 'filename': 'crawl-data/CC-MAIN-2019-04/segments/1547583657151.48/crawldiagnostics/CC-MAIN-20190116093643-20190116115643-00048.warc.gz', 'mime-detected': 'application/octet-stream', 'offset': '11089748', 'digest': '3I42H3S6NNFQ2MSVX7XZKYAYSCX5QBYJ', 'status': '301', 'length': '555', 'mime': 'unk'}\n",
      "{'urlkey': 'com,nfl)/', 'timestamp': '20190116103124', 'url': 'https://www.nfl.com/', 'filename': 'crawl-data/CC-MAIN-2019-04/segments/1547583657151.48/warc/CC-MAIN-20190116093643-20190116115643-00271.warc.gz', 'mime-detected': 'text/html', 'offset': '877017767', 'digest': 'NNVBCJGOP735T5KZPQSASYZDUYY6MU4N', 'languages': 'eng', 'status': '200', 'length': '25078', 'mime': 'text/html', 'charset': 'UTF-8'}\n",
      "{'urlkey': 'com,nfl)/', 'timestamp': '20190116164607', 'url': 'http://www.nfl.com/', 'filename': 'crawl-data/CC-MAIN-2019-04/segments/1547583657555.87/crawldiagnostics/CC-MAIN-20190116154927-20190116180927-00048.warc.gz', 'mime-detected': 'application/octet-stream', 'offset': '10907542', 'digest': '3I42H3S6NNFQ2MSVX7XZKYAYSCX5QBYJ', 'status': '301', 'length': '554', 'mime': 'unk'}\n",
      "{'urlkey': 'com,nfl)/', 'timestamp': '20190116164607', 'url': 'https://www.nfl.com/', 'filename': 'crawl-data/CC-MAIN-2019-04/segments/1547583657555.87/warc/CC-MAIN-20190116154927-20190116180927-00271.warc.gz', 'mime-detected': 'text/html', 'offset': '895147842', 'digest': '2UMAQJ5L6YS4QEGAHRQK3MYBOD45K64V', 'languages': 'eng', 'status': '200', 'length': '25169', 'mime': 'text/html', 'charset': 'UTF-8'}\n",
      "{'urlkey': 'com,nfl)/', 'timestamp': '20190116190704', 'url': 'http://www.nfl.com/', 'filename': 'crawl-data/CC-MAIN-2019-04/segments/1547583657557.2/crawldiagnostics/CC-MAIN-20190116175238-20190116201238-00048.warc.gz', 'mime-detected': 'application/octet-stream', 'offset': '10084178', 'digest': '3I42H3S6NNFQ2MSVX7XZKYAYSCX5QBYJ', 'status': '301', 'length': '555', 'mime': 'unk'}\n",
      "{'urlkey': 'com,nfl)/', 'timestamp': '20190116190704', 'url': 'https://www.nfl.com/', 'filename': 'crawl-data/CC-MAIN-2019-04/segments/1547583657557.2/warc/CC-MAIN-20190116175238-20190116201238-00271.warc.gz', 'mime-detected': 'text/html', 'offset': '882524441', 'digest': 'U3F3CJLOSDI5MH4V66K4MP2TGYPIWKA4', 'languages': 'eng', 'status': '200', 'length': '24978', 'mime': 'text/html', 'charset': 'UTF-8'}\n",
      "{'urlkey': 'com,nfl)/', 'timestamp': '20190116210924', 'url': 'http://www.nfl.com/', 'filename': 'crawl-data/CC-MAIN-2019-04/segments/1547583657867.24/crawldiagnostics/CC-MAIN-20190116195543-20190116221543-00048.warc.gz', 'mime-detected': 'application/octet-stream', 'offset': '10847810', 'digest': '3I42H3S6NNFQ2MSVX7XZKYAYSCX5QBYJ', 'status': '301', 'length': '556', 'mime': 'unk'}\n",
      "{'urlkey': 'com,nfl)/', 'timestamp': '20190116210924', 'url': 'https://www.nfl.com/', 'filename': 'crawl-data/CC-MAIN-2019-04/segments/1547583657867.24/warc/CC-MAIN-20190116195543-20190116221543-00271.warc.gz', 'mime-detected': 'text/html', 'offset': '913503288', 'digest': 'HQF233TD4IU2VSZDECZSJOLC3VE6RDD4', 'languages': 'eng', 'status': '200', 'length': '25662', 'mime': 'text/html', 'charset': 'UTF-8'}\n",
      "{'urlkey': 'com,nfl)/', 'timestamp': '20190117074756', 'url': 'http://www.nfl.com/', 'filename': 'crawl-data/CC-MAIN-2019-04/segments/1547583658844.27/crawldiagnostics/CC-MAIN-20190117062012-20190117084012-00048.warc.gz', 'mime-detected': 'application/octet-stream', 'offset': '10791837', 'digest': '3I42H3S6NNFQ2MSVX7XZKYAYSCX5QBYJ', 'status': '301', 'length': '558', 'mime': 'unk'}\n",
      "{'urlkey': 'com,nfl)/', 'timestamp': '20190117074756', 'url': 'https://www.nfl.com/', 'filename': 'crawl-data/CC-MAIN-2019-04/segments/1547583658844.27/warc/CC-MAIN-20190117062012-20190117084012-00271.warc.gz', 'mime-detected': 'text/html', 'offset': '872326698', 'digest': 'HEOYET3QPVCX2NJXRYNPFHVCYFBVWIQC', 'languages': 'eng', 'status': '200', 'length': '24653', 'mime': 'text/html', 'charset': 'UTF-8'}\n",
      "{'urlkey': 'com,nfl)/', 'timestamp': '20190117143851', 'url': 'http://www.nfl.com/', 'filename': 'crawl-data/CC-MAIN-2019-04/segments/1547583658988.30/crawldiagnostics/CC-MAIN-20190117143601-20190117165555-00048.warc.gz', 'mime-detected': 'application/octet-stream', 'offset': '11230529', 'digest': '3I42H3S6NNFQ2MSVX7XZKYAYSCX5QBYJ', 'status': '301', 'length': '556', 'mime': 'unk'}\n",
      "{'urlkey': 'com,nfl)/', 'timestamp': '20190117143851', 'url': 'https://www.nfl.com/', 'filename': 'crawl-data/CC-MAIN-2019-04/segments/1547583658988.30/warc/CC-MAIN-20190117143601-20190117165601-00271.warc.gz', 'mime-detected': 'text/html', 'offset': '894065497', 'digest': 'TUDBYNQFL3SEUGMRMVWHAAHNI4XBNPVD', 'languages': 'eng', 'status': '200', 'length': '24640', 'mime': 'text/html', 'charset': 'UTF-8'}\n",
      "{'urlkey': 'com,nfl)/', 'timestamp': '20190117174317', 'url': 'http://www.nfl.com/', 'filename': 'crawl-data/CC-MAIN-2019-04/segments/1547583659056.44/robotstxt/CC-MAIN-20190117163938-20190117185938-00048.warc.gz', 'mime-detected': 'application/octet-stream', 'offset': '1854101', 'digest': '3I42H3S6NNFQ2MSVX7XZKYAYSCX5QBYJ', 'status': '301', 'length': '558', 'mime': 'unk'}\n",
      "{'urlkey': 'com,nfl)/', 'timestamp': '20190117174318', 'url': 'https://www.nfl.com/', 'filename': 'crawl-data/CC-MAIN-2019-04/segments/1547583659056.44/warc/CC-MAIN-20190117163938-20190117185938-00271.warc.gz', 'mime-detected': 'text/html', 'offset': '897873344', 'digest': 'WHFF3G2N2AOQRAB55IZLZGACR6F7WOFO', 'languages': 'eng', 'status': '200', 'length': '24587', 'mime': 'text/html', 'charset': 'UTF-8'}\n",
      "{'urlkey': 'com,nfl)/', 'timestamp': '20190117194444', 'url': 'https://www.nfl.com/', 'filename': 'crawl-data/CC-MAIN-2019-04/segments/1547583659063.33/warc/CC-MAIN-20190117184304-20190117210304-00271.warc.gz', 'mime-detected': 'text/html', 'offset': '874380150', 'digest': '6ROZH2TOB6B4BN6IK4IGYLMT45VL2YI5', 'languages': 'eng', 'status': '200', 'length': '24869', 'mime': 'text/html', 'charset': 'UTF-8'}\n",
      "{'urlkey': 'com,nfl)/', 'timestamp': '20190117200640', 'url': 'http://www.nfl.com/', 'filename': 'crawl-data/CC-MAIN-2019-04/segments/1547583659063.33/crawldiagnostics/CC-MAIN-20190117184304-20190117210304-00048.warc.gz', 'mime-detected': 'application/octet-stream', 'offset': '11194008', 'digest': '3I42H3S6NNFQ2MSVX7XZKYAYSCX5QBYJ', 'status': '301', 'length': '557', 'mime': 'unk'}\n",
      "{'urlkey': 'com,nfl)/', 'timestamp': '20190117222445', 'url': 'http://www.nfl.com/', 'filename': 'crawl-data/CC-MAIN-2019-04/segments/1547583659340.1/crawldiagnostics/CC-MAIN-20190117204652-20190117230652-00048.warc.gz', 'mime-detected': 'application/octet-stream', 'offset': '9699245', 'digest': '3I42H3S6NNFQ2MSVX7XZKYAYSCX5QBYJ', 'status': '301', 'length': '556', 'mime': 'unk'}\n",
      "{'urlkey': 'com,nfl)/', 'timestamp': '20190117222445', 'url': 'https://www.nfl.com/', 'filename': 'crawl-data/CC-MAIN-2019-04/segments/1547583659340.1/warc/CC-MAIN-20190117204652-20190117230652-00271.warc.gz', 'mime-detected': 'text/html', 'offset': '886507319', 'digest': 'XXPPPDMBYNYKONUDYZWZP6DN5QKEDTJ2', 'languages': 'eng', 'status': '200', 'length': '24921', 'mime': 'text/html', 'charset': 'UTF-8'}\n",
      "{'urlkey': 'com,nfl)/', 'timestamp': '20190117234538', 'url': 'http://www.nfl.com/', 'filename': 'crawl-data/CC-MAIN-2019-04/segments/1547583659417.14/crawldiagnostics/CC-MAIN-20190117224929-20190118010929-00048.warc.gz', 'mime-detected': 'application/octet-stream', 'offset': '10623739', 'digest': '3I42H3S6NNFQ2MSVX7XZKYAYSCX5QBYJ', 'status': '301', 'length': '563', 'mime': 'unk'}\n",
      "{'urlkey': 'com,nfl)/', 'timestamp': '20190117234539', 'url': 'https://www.nfl.com/', 'filename': 'crawl-data/CC-MAIN-2019-04/segments/1547583659417.14/warc/CC-MAIN-20190117224929-20190118010929-00271.warc.gz', 'mime-detected': 'text/html', 'offset': '901605438', 'digest': 'POPBCXF4ACFBXUKMBQKVFOJQ5BHKH6BC', 'languages': 'eng', 'status': '200', 'length': '24803', 'mime': 'text/html', 'charset': 'UTF-8'}\n",
      "{'urlkey': 'com,nfl)/', 'timestamp': '20190118120640', 'url': 'http://www.nfl.com/', 'filename': 'crawl-data/CC-MAIN-2019-04/segments/1547583660070.15/crawldiagnostics/CC-MAIN-20190118110804-20190118132804-00048.warc.gz', 'mime-detected': 'application/octet-stream', 'offset': '10997757', 'digest': '3I42H3S6NNFQ2MSVX7XZKYAYSCX5QBYJ', 'status': '301', 'length': '558', 'mime': 'unk'}\n",
      "{'urlkey': 'com,nfl)/', 'timestamp': '20190118120641', 'url': 'https://www.nfl.com/', 'filename': 'crawl-data/CC-MAIN-2019-04/segments/1547583660070.15/warc/CC-MAIN-20190118110804-20190118132804-00271.warc.gz', 'mime-detected': 'text/html', 'offset': '905842903', 'digest': 'PB3LSWQ5HSO3E5UE3IYB64P2GOU4JRIQ', 'languages': 'eng', 'status': '200', 'length': '24319', 'mime': 'text/html', 'charset': 'UTF-8'}\n",
      "{'urlkey': 'com,nfl)/', 'timestamp': '20190118144055', 'url': 'http://www.nfl.com/', 'filename': 'crawl-data/CC-MAIN-2019-04/segments/1547583660139.37/crawldiagnostics/CC-MAIN-20190118131222-20190118153222-00048.warc.gz', 'mime-detected': 'application/octet-stream', 'offset': '10520932', 'digest': '3I42H3S6NNFQ2MSVX7XZKYAYSCX5QBYJ', 'status': '301', 'length': '556', 'mime': 'unk'}\n",
      "{'urlkey': 'com,nfl)/', 'timestamp': '20190118144055', 'url': 'https://www.nfl.com/', 'filename': 'crawl-data/CC-MAIN-2019-04/segments/1547583660139.37/warc/CC-MAIN-20190118131222-20190118153222-00271.warc.gz', 'mime-detected': 'text/html', 'offset': '888451473', 'digest': 'VZ3RAQIQLWYT4LAKBD7DLRHQPXQFFOZ4', 'languages': 'eng', 'status': '200', 'length': '24421', 'mime': 'text/html', 'charset': 'UTF-8'}\n",
      "{'urlkey': 'com,nfl)/', 'timestamp': '20190118190510', 'url': 'http://www.nfl.com/', 'filename': 'crawl-data/CC-MAIN-2019-04/segments/1547583660258.36/crawldiagnostics/CC-MAIN-20190118172438-20190118194438-00048.warc.gz', 'mime-detected': 'application/octet-stream', 'offset': '10350495', 'digest': '3I42H3S6NNFQ2MSVX7XZKYAYSCX5QBYJ', 'status': '301', 'length': '557', 'mime': 'unk'}\n",
      "{'urlkey': 'com,nfl)/', 'timestamp': '20190118190510', 'url': 'https://www.nfl.com/', 'filename': 'crawl-data/CC-MAIN-2019-04/segments/1547583660258.36/warc/CC-MAIN-20190118172438-20190118194438-00271.warc.gz', 'mime-detected': 'text/html', 'offset': '879187104', 'digest': 'AHMCUK2JOMWNVLTXSHZVCMS3BTZ37WO4', 'languages': 'eng', 'status': '200', 'length': '24557', 'mime': 'text/html', 'charset': 'UTF-8'}\n",
      "{'urlkey': 'com,nfl)/', 'timestamp': '20190118210020', 'url': 'https://www.nfl.com/', 'filename': 'crawl-data/CC-MAIN-2019-04/segments/1547583660529.12/warc/CC-MAIN-20190118193139-20190118215139-00271.warc.gz', 'mime-detected': 'text/html', 'offset': '876566505', 'digest': 'IQTOGYRCCE4SLQ2V4TJCFJQGEYTUFMPW', 'languages': 'eng', 'status': '200', 'length': '24476', 'mime': 'text/html', 'charset': 'UTF-8'}\n",
      "{'urlkey': 'com,nfl)/', 'timestamp': '20190118210420', 'url': 'http://www.nfl.com/', 'filename': 'crawl-data/CC-MAIN-2019-04/segments/1547583660529.12/crawldiagnostics/CC-MAIN-20190118193139-20190118215139-00048.warc.gz', 'mime-detected': 'application/octet-stream', 'offset': '10296122', 'digest': '3I42H3S6NNFQ2MSVX7XZKYAYSCX5QBYJ', 'status': '301', 'length': '557', 'mime': 'unk'}\n",
      "{'urlkey': 'com,nfl)/', 'timestamp': '20190119024325', 'url': 'http://www.nfl.com/', 'filename': 'crawl-data/CC-MAIN-2019-04/segments/1547583661083.46/crawldiagnostics/CC-MAIN-20190119014031-20190119040031-00048.warc.gz', 'mime-detected': 'application/octet-stream', 'offset': '10263367', 'digest': '3I42H3S6NNFQ2MSVX7XZKYAYSCX5QBYJ', 'status': '301', 'length': '556', 'mime': 'unk'}\n",
      "{'urlkey': 'com,nfl)/', 'timestamp': '20190119024325', 'url': 'https://www.nfl.com/', 'filename': 'crawl-data/CC-MAIN-2019-04/segments/1547583661083.46/warc/CC-MAIN-20190119014031-20190119040031-00271.warc.gz', 'mime-detected': 'text/html', 'offset': '868803069', 'digest': 'YHZJNHZ2N3DETLE7OAGWYYHCRJGEVXZO', 'languages': 'eng', 'status': '200', 'length': '24432', 'mime': 'text/html', 'charset': 'UTF-8'}\n",
      "{'urlkey': 'com,nfl)/', 'timestamp': '20190119073003', 'url': 'http://www.nfl.com/', 'filename': 'crawl-data/CC-MAIN-2019-04/segments/1547583662690.13/crawldiagnostics/CC-MAIN-20190119054606-20190119080317-00048.warc.gz', 'mime-detected': 'application/octet-stream', 'offset': '10897136', 'digest': '3I42H3S6NNFQ2MSVX7XZKYAYSCX5QBYJ', 'status': '301', 'length': '555', 'mime': 'unk'}\n",
      "{'urlkey': 'com,nfl)/', 'timestamp': '20190119073003', 'url': 'https://www.nfl.com/', 'filename': 'crawl-data/CC-MAIN-2019-04/segments/1547583662690.13/warc/CC-MAIN-20190119054606-20190119080606-00271.warc.gz', 'mime-detected': 'text/html', 'offset': '894059141', 'digest': 'OJAS7IC62L5TK7ZR3MW7O7LIYYXT6DS5', 'languages': 'eng', 'status': '200', 'length': '24404', 'mime': 'text/html', 'charset': 'UTF-8'}\n",
      "{'urlkey': 'com,nfl)/', 'timestamp': '20190119095335', 'url': 'https://www.nfl.com/', 'filename': 'crawl-data/CC-MAIN-2019-04/segments/1547583662893.38/warc/CC-MAIN-20190119095153-20190119121153-00271.warc.gz', 'mime-detected': 'text/html', 'offset': '887185724', 'digest': 'ZWGSTW75COPEJIYIIX5GA7KBRVIHHVQQ', 'languages': 'eng', 'status': '200', 'length': '24402', 'mime': 'text/html', 'charset': 'UTF-8'}\n",
      "{'urlkey': 'com,nfl)/', 'timestamp': '20190119170240', 'url': 'http://www.nfl.com/', 'filename': 'crawl-data/CC-MAIN-2019-04/segments/1547583671342.16/crawldiagnostics/CC-MAIN-20190119160425-20190119182425-00048.warc.gz', 'mime-detected': 'application/octet-stream', 'offset': '11173957', 'digest': '3I42H3S6NNFQ2MSVX7XZKYAYSCX5QBYJ', 'status': '301', 'length': '555', 'mime': 'unk'}\n",
      "{'urlkey': 'com,nfl)/', 'timestamp': '20190119170635', 'url': 'https://www.nfl.com/', 'filename': 'crawl-data/CC-MAIN-2019-04/segments/1547583671342.16/warc/CC-MAIN-20190119160425-20190119182425-00271.warc.gz', 'mime-detected': 'text/html', 'offset': '874544204', 'digest': '54LWX2RMZURKMMWYMS5WMPAHB5F74KBQ', 'languages': 'eng', 'status': '200', 'length': '24534', 'mime': 'text/html', 'charset': 'UTF-8'}\n",
      "{'urlkey': 'com,nfl)/', 'timestamp': '20190119190557', 'url': 'http://www.nfl.com/', 'filename': 'crawl-data/CC-MAIN-2019-04/segments/1547583680452.20/crawldiagnostics/CC-MAIN-20190119180834-20190119202834-00048.warc.gz', 'mime-detected': 'application/octet-stream', 'offset': '10281228', 'digest': '3I42H3S6NNFQ2MSVX7XZKYAYSCX5QBYJ', 'status': '301', 'length': '554', 'mime': 'unk'}\n",
      "{'urlkey': 'com,nfl)/', 'timestamp': '20190119195103', 'url': 'https://www.nfl.com/', 'filename': 'crawl-data/CC-MAIN-2019-04/segments/1547583680452.20/warc/CC-MAIN-20190119180834-20190119202834-00271.warc.gz', 'mime-detected': 'text/html', 'offset': '860995002', 'digest': '4MQRU6PZ2PNVJQ7QBVZHSFP6SYLY7T2F', 'languages': 'eng', 'status': '200', 'length': '24704', 'mime': 'text/html', 'charset': 'UTF-8'}\n",
      "{'urlkey': 'com,nfl)/', 'timestamp': '20190120073007', 'url': 'http://www.nfl.com/', 'filename': 'crawl-data/CC-MAIN-2019-04/segments/1547583700734.43/crawldiagnostics/CC-MAIN-20190120062400-20190120084400-00048.warc.gz', 'mime-detected': 'application/octet-stream', 'offset': '10520163', 'digest': '3I42H3S6NNFQ2MSVX7XZKYAYSCX5QBYJ', 'status': '301', 'length': '560', 'mime': 'unk'}\n",
      "{'urlkey': 'com,nfl)/', 'timestamp': '20190120073007', 'url': 'https://www.nfl.com/', 'filename': 'crawl-data/CC-MAIN-2019-04/segments/1547583700734.43/warc/CC-MAIN-20190120062400-20190120084400-00271.warc.gz', 'mime-detected': 'text/html', 'offset': '883588317', 'digest': 'J3CJWH5SP7NZ7FCX27VWFU6IYE2P3OYQ', 'languages': 'eng', 'status': '200', 'length': '24734', 'mime': 'text/html', 'charset': 'UTF-8'}\n",
      "{'urlkey': 'com,nfl)/', 'timestamp': '20190120140345', 'url': 'http://www.nfl.com/', 'filename': 'crawl-data/CC-MAIN-2019-04/segments/1547583716358.66/robotstxt/CC-MAIN-20190120123138-20190120145138-00048.warc.gz', 'mime-detected': 'application/octet-stream', 'offset': '1993480', 'digest': '3I42H3S6NNFQ2MSVX7XZKYAYSCX5QBYJ', 'status': '301', 'length': '558', 'mime': 'unk'}\n",
      "{'urlkey': 'com,nfl)/', 'timestamp': '20190120140345', 'url': 'https://www.nfl.com/', 'filename': 'crawl-data/CC-MAIN-2019-04/segments/1547583716358.66/warc/CC-MAIN-20190120123138-20190120145138-00271.warc.gz', 'mime-detected': 'text/html', 'offset': '896261738', 'digest': 'ZYZRWQ2FLAMSP4FGKOLXOSGR6EINAA5B', 'languages': 'eng', 'status': '200', 'length': '24873', 'mime': 'text/html', 'charset': 'UTF-8'}\n",
      "{'urlkey': 'com,nfl)/', 'timestamp': '20190120215921', 'url': 'http://www.nfl.com/', 'filename': 'crawl-data/CC-MAIN-2019-04/segments/1547583739170.35/robotstxt/CC-MAIN-20190120204649-20190120230649-00048.warc.gz', 'mime-detected': 'application/octet-stream', 'offset': '1699737', 'digest': '3I42H3S6NNFQ2MSVX7XZKYAYSCX5QBYJ', 'status': '301', 'length': '557', 'mime': 'unk'}\n",
      "{'urlkey': 'com,nfl)/', 'timestamp': '20190120215922', 'url': 'https://www.nfl.com/', 'filename': 'crawl-data/CC-MAIN-2019-04/segments/1547583739170.35/warc/CC-MAIN-20190120204649-20190120230649-00271.warc.gz', 'mime-detected': 'text/html', 'offset': '893273502', 'digest': 'IULHXMOPRPCKSEDHQZEWDM3PWOXI37IE', 'languages': 'eng', 'status': '200', 'length': '25356', 'mime': 'text/html', 'charset': 'UTF-8'}\n",
      "{'urlkey': 'com,nfl)/', 'timestamp': '20190121020836', 'url': 'http://www.nfl.com/', 'filename': 'crawl-data/CC-MAIN-2019-04/segments/1547583745010.63/crawldiagnostics/CC-MAIN-20190121005305-20190121031305-00048.warc.gz', 'mime-detected': 'application/octet-stream', 'offset': '10827019', 'digest': '3I42H3S6NNFQ2MSVX7XZKYAYSCX5QBYJ', 'status': '301', 'length': '553', 'mime': 'unk'}\n",
      "{'urlkey': 'com,nfl)/', 'timestamp': '20190121020948', 'url': 'https://www.nfl.com/', 'filename': 'crawl-data/CC-MAIN-2019-04/segments/1547583745010.63/warc/CC-MAIN-20190121005305-20190121031305-00271.warc.gz', 'mime-detected': 'text/html', 'offset': '868281910', 'digest': 'WUE4FA7BTDRV26HCXDPJ6JIEAVSFTCMM', 'languages': 'eng', 'status': '200', 'length': '24277', 'mime': 'text/html', 'charset': 'UTF-8'}\n",
      "{'urlkey': 'com,nfl)/', 'timestamp': '20190121041604', 'url': 'http://www.nfl.com/', 'filename': 'crawl-data/CC-MAIN-2019-04/segments/1547583755653.69/crawldiagnostics/CC-MAIN-20190121025613-20190121051613-00048.warc.gz', 'mime-detected': 'application/octet-stream', 'offset': '10608043', 'digest': '3I42H3S6NNFQ2MSVX7XZKYAYSCX5QBYJ', 'status': '301', 'length': '556', 'mime': 'unk'}\n",
      "{'urlkey': 'com,nfl)/', 'timestamp': '20190121041604', 'url': 'https://www.nfl.com/', 'filename': 'crawl-data/CC-MAIN-2019-04/segments/1547583755653.69/warc/CC-MAIN-20190121025613-20190121051613-00271.warc.gz', 'mime-detected': 'text/html', 'offset': '878768188', 'digest': 'OQDUFY7N3IAGPIBUQA6D5TS7USZGSPPS', 'languages': 'eng', 'status': '200', 'length': '24040', 'mime': 'text/html', 'charset': 'UTF-8'}\n",
      "{'urlkey': 'com,nfl)/', 'timestamp': '20190121100046', 'url': 'http://www.nfl.com/', 'filename': 'crawl-data/CC-MAIN-2019-04/segments/1547583771929.47/crawldiagnostics/CC-MAIN-20190121090642-20190121112642-00048.warc.gz', 'mime-detected': 'application/octet-stream', 'offset': '11131564', 'digest': '3I42H3S6NNFQ2MSVX7XZKYAYSCX5QBYJ', 'status': '301', 'length': '556', 'mime': 'unk'}\n",
      "{'urlkey': 'com,nfl)/', 'timestamp': '20190121103917', 'url': 'https://www.nfl.com/', 'filename': 'crawl-data/CC-MAIN-2019-04/segments/1547583771929.47/warc/CC-MAIN-20190121090642-20190121112642-00271.warc.gz', 'mime-detected': 'text/html', 'offset': '880009344', 'digest': 'KEJNUIQMASJAP4BJ44KQ2CIORNLUF6OX', 'languages': 'eng', 'status': '200', 'length': '23870', 'mime': 'text/html', 'charset': 'UTF-8'}\n",
      "{'urlkey': 'com,nfl)/', 'timestamp': '20190121123947', 'url': 'http://www.nfl.com/', 'filename': 'crawl-data/CC-MAIN-2019-04/segments/1547583792338.50/crawldiagnostics/CC-MAIN-20190121111139-20190121133139-00048.warc.gz', 'mime-detected': 'application/octet-stream', 'offset': '11243248', 'digest': '3I42H3S6NNFQ2MSVX7XZKYAYSCX5QBYJ', 'status': '301', 'length': '555', 'mime': 'unk'}\n",
      "{'urlkey': 'com,nfl)/', 'timestamp': '20190121123947', 'url': 'https://www.nfl.com/', 'filename': 'crawl-data/CC-MAIN-2019-04/segments/1547583792338.50/warc/CC-MAIN-20190121111139-20190121133139-00271.warc.gz', 'mime-detected': 'text/html', 'offset': '846892454', 'digest': '3UICV5VIAWWEWWJHISXSK5APTJW5HKKS', 'languages': 'eng', 'status': '200', 'length': '24301', 'mime': 'text/html', 'charset': 'UTF-8'}\n",
      "{'urlkey': 'com,nfl)/', 'timestamp': '20190121165956', 'url': 'http://www.nfl.com/', 'filename': 'crawl-data/CC-MAIN-2019-04/segments/1547583795042.29/crawldiagnostics/CC-MAIN-20190121152218-20190121174218-00048.warc.gz', 'mime-detected': 'application/octet-stream', 'offset': '10645204', 'digest': '3I42H3S6NNFQ2MSVX7XZKYAYSCX5QBYJ', 'status': '301', 'length': '556', 'mime': 'unk'}\n",
      "{'urlkey': 'com,nfl)/', 'timestamp': '20190121165956', 'url': 'https://www.nfl.com/', 'filename': 'crawl-data/CC-MAIN-2019-04/segments/1547583795042.29/warc/CC-MAIN-20190121152218-20190121174218-00271.warc.gz', 'mime-detected': 'text/html', 'offset': '901361864', 'digest': 'SCI6NQA2AA4CSCWBFIVKHNLRZMJOQQP5', 'languages': 'eng', 'status': '200', 'length': '24671', 'mime': 'text/html', 'charset': 'UTF-8'}\n",
      "{'urlkey': 'com,nfl)/', 'timestamp': '20190121204645', 'url': 'http://www.nfl.com/', 'filename': 'crawl-data/CC-MAIN-2019-04/segments/1547583807724.75/crawldiagnostics/CC-MAIN-20190121193154-20190121215154-00048.warc.gz', 'mime-detected': 'application/octet-stream', 'offset': '12147881', 'digest': '3I42H3S6NNFQ2MSVX7XZKYAYSCX5QBYJ', 'status': '301', 'length': '551', 'mime': 'unk'}\n",
      "{'urlkey': 'com,nfl)/', 'timestamp': '20190121204646', 'url': 'https://www.nfl.com/', 'filename': 'crawl-data/CC-MAIN-2019-04/segments/1547583807724.75/warc/CC-MAIN-20190121193154-20190121215154-00271.warc.gz', 'mime-detected': 'text/html', 'offset': '886677500', 'digest': 'GCZG3XOSA3QFMOR5MTAXF3RVRAT5TOS6', 'languages': 'eng', 'status': '200', 'length': '24927', 'mime': 'text/html', 'charset': 'UTF-8'}\n",
      "{'urlkey': 'com,nfl)/', 'timestamp': '20190121215222', 'url': 'http://www.nfl.com/', 'filename': 'crawl-data/CC-MAIN-2019-04/segments/1547583814455.32/crawldiagnostics/CC-MAIN-20190121213506-20190121235347-00048.warc.gz', 'mime-detected': 'application/octet-stream', 'offset': '11660897', 'digest': '3I42H3S6NNFQ2MSVX7XZKYAYSCX5QBYJ', 'status': '301', 'length': '556', 'mime': 'unk'}\n",
      "{'urlkey': 'com,nfl)/', 'timestamp': '20190121215222', 'url': 'https://www.nfl.com/', 'filename': 'crawl-data/CC-MAIN-2019-04/segments/1547583814455.32/warc/CC-MAIN-20190121213506-20190121235506-00271.warc.gz', 'mime-detected': 'text/html', 'offset': '887354090', 'digest': 'YD6QT3EBCA6HKKEXIALIJFEG7EOPSRHY', 'languages': 'eng', 'status': '200', 'length': '24944', 'mime': 'text/html', 'charset': 'UTF-8'}\n",
      "{'urlkey': 'com,nfl)/', 'timestamp': '20190122003416', 'url': 'http://www.nfl.com/', 'filename': 'crawl-data/CC-MAIN-2019-04/segments/1547583822341.72/crawldiagnostics/CC-MAIN-20190121233709-20190122015709-00048.warc.gz', 'mime-detected': 'application/octet-stream', 'offset': '10918271', 'digest': '3I42H3S6NNFQ2MSVX7XZKYAYSCX5QBYJ', 'status': '301', 'length': '558', 'mime': 'unk'}\n",
      "{'urlkey': 'com,nfl)/', 'timestamp': '20190122003417', 'url': 'https://www.nfl.com/', 'filename': 'crawl-data/CC-MAIN-2019-04/segments/1547583822341.72/warc/CC-MAIN-20190121233709-20190122015709-00271.warc.gz', 'mime-detected': 'text/html', 'offset': '878673484', 'digest': 'A47VLB76HJ3N2IFSOVSA6U36CRHNOOXI', 'languages': 'eng', 'status': '200', 'length': '25143', 'mime': 'text/html', 'charset': 'UTF-8'}\n",
      "{'urlkey': 'com,nfl)/', 'timestamp': '20190122050902', 'url': 'http://www.nfl.com/', 'filename': 'crawl-data/CC-MAIN-2019-04/segments/1547583826240.93/crawldiagnostics/CC-MAIN-20190122034213-20190122060213-00048.warc.gz', 'mime-detected': 'application/octet-stream', 'offset': '11289551', 'digest': '3I42H3S6NNFQ2MSVX7XZKYAYSCX5QBYJ', 'status': '301', 'length': '556', 'mime': 'unk'}\n",
      "{'urlkey': 'com,nfl)/', 'timestamp': '20190122050902', 'url': 'https://www.nfl.com/', 'filename': 'crawl-data/CC-MAIN-2019-04/segments/1547583826240.93/warc/CC-MAIN-20190122034213-20190122060213-00271.warc.gz', 'mime-detected': 'text/html', 'offset': '866113376', 'digest': 'VHCQA3JAUJ6YHR3PEZFFP3IZSMDD5HKI', 'languages': 'eng', 'status': '200', 'length': '25033', 'mime': 'text/html', 'charset': 'UTF-8'}\n",
      "{'urlkey': 'com,nfl)/', 'timestamp': '20190122172120', 'url': 'http://www.nfl.com/', 'filename': 'crawl-data/CC-MAIN-2019-04/segments/1547583857993.67/crawldiagnostics/CC-MAIN-20190122161345-20190122183345-00048.warc.gz', 'mime-detected': 'application/octet-stream', 'offset': '11287464', 'digest': '3I42H3S6NNFQ2MSVX7XZKYAYSCX5QBYJ', 'status': '301', 'length': '557', 'mime': 'unk'}\n",
      "{'urlkey': 'com,nfl)/', 'timestamp': '20190122172120', 'url': 'https://www.nfl.com/', 'filename': 'crawl-data/CC-MAIN-2019-04/segments/1547583857993.67/warc/CC-MAIN-20190122161345-20190122183345-00271.warc.gz', 'mime-detected': 'text/html', 'offset': '891960455', 'digest': 'FLVT2JJTO4XFO6AEI6BAWQVT2BMQIQZZ', 'languages': 'eng', 'status': '200', 'length': '25103', 'mime': 'text/html', 'charset': 'UTF-8'}\n",
      "{'urlkey': 'com,nfl)/', 'timestamp': '20190122192941', 'url': 'http://www.nfl.com/', 'filename': 'crawl-data/CC-MAIN-2019-04/segments/1547583867214.54/crawldiagnostics/CC-MAIN-20190122182019-20190122204019-00048.warc.gz', 'mime-detected': 'application/octet-stream', 'offset': '9972768', 'digest': '3I42H3S6NNFQ2MSVX7XZKYAYSCX5QBYJ', 'status': '301', 'length': '557', 'mime': 'unk'}\n",
      "{'urlkey': 'com,nfl)/', 'timestamp': '20190122192941', 'url': 'https://www.nfl.com/', 'filename': 'crawl-data/CC-MAIN-2019-04/segments/1547583867214.54/warc/CC-MAIN-20190122182019-20190122204019-00271.warc.gz', 'mime-detected': 'text/html', 'offset': '879406217', 'digest': 'DT477TTJMI5LDKUPHZHYRR7XQPOWQKTC', 'languages': 'eng', 'status': '200', 'length': '24930', 'mime': 'text/html', 'charset': 'UTF-8'}\n",
      "{'urlkey': 'com,nfl)/', 'timestamp': '20190122214339', 'url': 'http://www.nfl.com/', 'filename': 'crawl-data/CC-MAIN-2019-04/segments/1547583874494.65/crawldiagnostics/CC-MAIN-20190122202547-20190122224419-00048.warc.gz', 'mime-detected': 'application/octet-stream', 'offset': '9855014', 'digest': '3I42H3S6NNFQ2MSVX7XZKYAYSCX5QBYJ', 'status': '301', 'length': '555', 'mime': 'unk'}\n",
      "{'urlkey': 'com,nfl)/', 'timestamp': '20190122220508', 'url': 'https://www.nfl.com/', 'filename': 'crawl-data/CC-MAIN-2019-04/segments/1547583874494.65/warc/CC-MAIN-20190122202547-20190122224547-00271.warc.gz', 'mime-detected': 'text/html', 'offset': '911817340', 'digest': '57M2RUDKJQDWZVBZUFC4GDKS57JG3KR6', 'languages': 'eng', 'status': '200', 'length': '24752', 'mime': 'text/html', 'charset': 'UTF-8'}\n",
      "{'urlkey': 'com,nfl)/', 'timestamp': '20190123025049', 'url': 'http://www.nfl.com/', 'filename': 'crawl-data/CC-MAIN-2019-04/segments/1547583884996.76/crawldiagnostics/CC-MAIN-20190123023710-20190123045710-00048.warc.gz', 'mime-detected': 'application/octet-stream', 'offset': '11975470', 'digest': '3I42H3S6NNFQ2MSVX7XZKYAYSCX5QBYJ', 'status': '301', 'length': '555', 'mime': 'unk'}\n",
      "{'urlkey': 'com,nfl)/', 'timestamp': '20190123025049', 'url': 'https://www.nfl.com/', 'filename': 'crawl-data/CC-MAIN-2019-04/segments/1547583884996.76/warc/CC-MAIN-20190123023710-20190123045710-00271.warc.gz', 'mime-detected': 'text/html', 'offset': '880937506', 'digest': '4PQ4ZCCUZWXIXOLXSNEEIVYHH7T6BWPV', 'languages': 'eng', 'status': '200', 'length': '24427', 'mime': 'text/html', 'charset': 'UTF-8'}\n",
      "{'urlkey': 'com,nfl)/', 'timestamp': '20190123052602', 'url': 'http://www.nfl.com/', 'filename': 'crawl-data/CC-MAIN-2019-04/segments/1547583897417.81/crawldiagnostics/CC-MAIN-20190123044447-20190123070447-00048.warc.gz', 'mime-detected': 'application/octet-stream', 'offset': '10315400', 'digest': '3I42H3S6NNFQ2MSVX7XZKYAYSCX5QBYJ', 'status': '301', 'length': '556', 'mime': 'unk'}\n",
      "{'urlkey': 'com,nfl)/', 'timestamp': '20190123054250', 'url': 'https://www.nfl.com/', 'filename': 'crawl-data/CC-MAIN-2019-04/segments/1547583897417.81/warc/CC-MAIN-20190123044447-20190123070447-00271.warc.gz', 'mime-detected': 'text/html', 'offset': '853234700', 'digest': 'LTZVP6R7RPPLPKGAU4CT7HP5OTPETFVY', 'languages': 'eng', 'status': '200', 'length': '24328', 'mime': 'text/html', 'charset': 'UTF-8'}\n",
      "{'urlkey': 'com,nfl)/', 'timestamp': '20190123074724', 'url': 'https://www.nfl.com/', 'filename': 'crawl-data/CC-MAIN-2019-04/segments/1547584203540.82/warc/CC-MAIN-20190123064911-20190123090911-00271.warc.gz', 'mime-detected': 'text/html', 'offset': '900544917', 'digest': 'WWH2F33FTPNMTALY7JV35SRSDULFKJE3', 'languages': 'eng', 'status': '200', 'length': '24322', 'mime': 'text/html', 'charset': 'UTF-8'}\n",
      "{'urlkey': 'com,nfl)/', 'timestamp': '20190123080015', 'url': 'http://www.nfl.com/', 'filename': 'crawl-data/CC-MAIN-2019-04/segments/1547584203540.82/crawldiagnostics/CC-MAIN-20190123064911-20190123090911-00048.warc.gz', 'mime-detected': 'application/octet-stream', 'offset': '10467350', 'digest': '3I42H3S6NNFQ2MSVX7XZKYAYSCX5QBYJ', 'status': '301', 'length': '555', 'mime': 'unk'}\n",
      "{'urlkey': 'com,nfl)/', 'timestamp': '20190123190131', 'url': 'https://www.nfl.com/', 'filename': 'crawl-data/CC-MAIN-2019-04/segments/1547584336901.97/warc/CC-MAIN-20190123172047-20190123194047-00271.warc.gz', 'mime-detected': 'text/html', 'offset': '865016320', 'digest': 'NH6ZWIZIYRD2VKEMWALPWIRFFNTNJ2RN', 'languages': 'eng', 'status': '200', 'length': '24637', 'mime': 'text/html', 'charset': 'UTF-8'}\n",
      "{'urlkey': 'com,nfl)/', 'timestamp': '20190124041704', 'url': 'http://www.nfl.com', 'filename': 'crawl-data/CC-MAIN-2019-04/segments/1547584518983.95/robotstxt/CC-MAIN-20190124035411-20190124061411-00223.warc.gz', 'mime-detected': 'application/octet-stream', 'offset': '1581855', 'digest': '3I42H3S6NNFQ2MSVX7XZKYAYSCX5QBYJ', 'status': '301', 'length': '557', 'mime': 'unk'}\n",
      "{'urlkey': 'com,nfl)/', 'timestamp': '20190124041708', 'url': 'http://www.nfl.com/', 'filename': 'crawl-data/CC-MAIN-2019-04/segments/1547584518983.95/crawldiagnostics/CC-MAIN-20190124035411-20190124061411-00048.warc.gz', 'mime-detected': 'application/octet-stream', 'offset': '11003552', 'digest': '3I42H3S6NNFQ2MSVX7XZKYAYSCX5QBYJ', 'status': '301', 'length': '558', 'mime': 'unk'}\n",
      "{'urlkey': 'com,nfl)/', 'timestamp': '20190124041708', 'url': 'https://www.nfl.com/', 'filename': 'crawl-data/CC-MAIN-2019-04/segments/1547584518983.95/warc/CC-MAIN-20190124035411-20190124061411-00271.warc.gz', 'mime-detected': 'text/html', 'offset': '863184982', 'digest': '3JB3U2OARTN6GDK72WXLVO2F6M4IVJI2', 'languages': 'eng', 'status': '200', 'length': '24347', 'mime': 'text/html', 'charset': 'UTF-8'}\n",
      "{'urlkey': 'com,nfl)/', 'timestamp': '20190124094624', 'url': 'http://www.nfl.com/', 'filename': 'crawl-data/CC-MAIN-2019-04/segments/1547584519757.94/crawldiagnostics/CC-MAIN-20190124080411-20190124102411-00048.warc.gz', 'mime-detected': 'application/octet-stream', 'offset': '11532323', 'digest': '3I42H3S6NNFQ2MSVX7XZKYAYSCX5QBYJ', 'status': '301', 'length': '557', 'mime': 'unk'}\n",
      "{'urlkey': 'com,nfl)/', 'timestamp': '20190124094624', 'url': 'https://www.nfl.com/', 'filename': 'crawl-data/CC-MAIN-2019-04/segments/1547584519757.94/warc/CC-MAIN-20190124080411-20190124102411-00271.warc.gz', 'mime-detected': 'text/html', 'offset': '879574191', 'digest': 'LQRJKGRVQGGKKKS54UVFMALA42WPXW67', 'languages': 'eng', 'status': '200', 'length': '24063', 'mime': 'text/html', 'charset': 'UTF-8'}\n"
     ]
    }
   ],
   "source": [
    "pageList = []\n",
    "for r in requestsArray:\n",
    "    if r.status_code == 200:\n",
    "        pages = r.content.splitlines()\n",
    "        for i in pages:\n",
    "            pageList.append(json.loads(i))\n",
    "            \n",
    "#pages = [json.loads(x) for x in get_requests.content.decode('utf8').strip().split('\\n')]\n",
    "#page = pages[2]"
   ]
  },
  {
   "cell_type": "code",
   "execution_count": 68,
   "metadata": {},
   "outputs": [
    {
     "name": "stdout",
     "output_type": "stream",
     "text": [
      "{'urlkey': 'com,nfl)/', 'timestamp': '20190215230006', 'url': 'https://www.nfl.com/', 'filename': 'crawl-data/CC-MAIN-2019-09/segments/1550247479627.17/warc/CC-MAIN-20190215224408-20190216010408-00271.warc.gz', 'mime-detected': 'text/html', 'offset': '907412876', 'digest': 'USICROEUUY5F7WMUXFW43C4NXKJHHZ4S', 'languages': 'eng', 'status': '200', 'length': '23676', 'mime': 'text/html', 'charset': 'UTF-8'}\n"
     ]
    }
   ],
   "source": [
    "page = pageList[1]\n",
    "print(page)"
   ]
  },
  {
   "cell_type": "code",
   "execution_count": 69,
   "metadata": {},
   "outputs": [
    {
     "name": "stdout",
     "output_type": "stream",
     "text": [
      "907412876 23676 907436551\n",
      "<Response [206]>\n"
     ]
    }
   ],
   "source": [
    "offset, length = int(page['offset']), int(page['length'])\n",
    "offset_end = offset + length - 1\n",
    "print(offset, length, offset_end)\n",
    "\n",
    "#prefix = 'https://aws-publicdatasets.s3.amazonaws.com/'\n",
    "prefix = 'https://commoncrawl.s3.amazonaws.com/'\n",
    "\n",
    "response = requests.get(prefix + page['filename'], headers={'Range': 'bytes={}-{}'.format(offset, offset_end)})\n",
    "print(response)"
   ]
  },
  {
   "cell_type": "code",
   "execution_count": 70,
   "metadata": {},
   "outputs": [
    {
     "name": "stdout",
     "output_type": "stream",
     "text": [
      "<_io.BytesIO object at 0x1112bc0a0>\n",
      "<gzip _io.BytesIO object at 0x1112bc0a0 0x111489eb8>\n"
     ]
    }
   ],
   "source": [
    "raw_data = io.BytesIO(response.content)\n",
    "print(raw_data)\n",
    "f = gzip.GzipFile(fileobj=raw_data)\n",
    "print(f)"
   ]
  },
  {
   "cell_type": "code",
   "execution_count": 71,
   "metadata": {},
   "outputs": [],
   "source": [
    "data = f.read()\n",
    "#print(data)\n",
    "#resp = \"\"\n",
    "#if len(data):\n",
    "#    try:\n",
    "#        resp = data.decode('utf8').strip().split('\\r\\n\\r\\n', 2)\n",
    "#    except:\n",
    "#        pass\n",
    "#print(resp)"
   ]
  },
  {
   "cell_type": "code",
   "execution_count": 72,
   "metadata": {
    "scrolled": false
   },
   "outputs": [],
   "source": [
    "#doc = parse(io.BytesIO(data)).getroot()\n",
    "doc = BeautifulSoup(io.BytesIO(data), 'lxml')\n",
    "#print(doc)\n",
    "all_a = doc.find_all('a')\n",
    "hrefList = []\n",
    "if all_a:\n",
    "    for l in all_a:\n",
    "        #print(l)\n",
    "        href = l.attrs.get('href')\n",
    "        \n",
    "        if href is not None:\n",
    "            if href.startswith('http'):\n",
    "                hrefList.append(href)\n",
    "        \n",
    "#print(hrefList)\n",
    "\n",
    "#print(all_a)\n",
    "#print(doc)\n",
    "#for div in doc.cssselect('a'):\n",
    "#    print('%s: %s' % (div.text_content(), div.get('href')))"
   ]
  },
  {
   "cell_type": "code",
   "execution_count": 73,
   "metadata": {},
   "outputs": [],
   "source": [
    "with codecs.open('links.csv', 'wb', encoding = 'utf8') as output:\n",
    "    f = ['url']\n",
    "    write_csv = csv.DictWriter(output, fieldnames = f)\n",
    "    write_csv.writeheader()\n",
    "    \n",
    "    for h in hrefList:\n",
    "        write_csv.writerow({'url':h})"
   ]
  },
  {
   "cell_type": "code",
   "execution_count": 74,
   "metadata": {},
   "outputs": [
    {
     "name": "stdout",
     "output_type": "stream",
     "text": [
      "https://www.nfl.com\n",
      "https://www.nfl.com/news\n",
      "https://www.nfl.com/schedules\n",
      "https://www.nfl.com/gamepass?icampaign=nfl-nav-gamepass\n",
      "https://www.nfl.com/draft\n",
      "https://www.nfl.com/freeagency\n"
     ]
    },
    {
     "data": {
      "text/plain": [
       "'pageListFinal = []\\nif p.status_code == 200:\\n    pagesFinal = p.content\\n    print(pagesFinal)\\n    for i in pagesFinal:\\n        pageListFinal.append(json.loads(i))'"
      ]
     },
     "execution_count": 74,
     "metadata": {},
     "output_type": "execute_result"
    }
   ],
   "source": [
    "#hrefList[1]\n",
    "for h in hrefList:\n",
    "    #print(hrefList[1])\n",
    "    print(h)\n",
    "#p = requests.get(hrefList[1])\n",
    "#print(p.status_code)\n",
    "#print(p.text)\n",
    "'''pageListFinal = []\n",
    "if p.status_code == 200:\n",
    "    pagesFinal = p.content\n",
    "    print(pagesFinal)\n",
    "    for i in pagesFinal:\n",
    "        pageListFinal.append(json.loads(i))'''\n",
    "        \n",
    "#print(pageListFinal[0])"
   ]
  },
  {
   "cell_type": "code",
   "execution_count": null,
   "metadata": {},
   "outputs": [],
   "source": []
  }
 ],
 "metadata": {
  "kernelspec": {
   "display_name": "Python 3",
   "language": "python",
   "name": "python3"
  },
  "language_info": {
   "codemirror_mode": {
    "name": "ipython",
    "version": 3
   },
   "file_extension": ".py",
   "mimetype": "text/x-python",
   "name": "python",
   "nbconvert_exporter": "python",
   "pygments_lexer": "ipython3",
   "version": "3.6.5"
  }
 },
 "nbformat": 4,
 "nbformat_minor": 2
}
