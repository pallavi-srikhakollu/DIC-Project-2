{
 "cells": [
  {
   "cell_type": "code",
   "execution_count": 1,
   "metadata": {},
   "outputs": [],
   "source": [
    "import requests\n",
    "from bs4 import BeautifulSoup\n",
    "import re\n",
    "from collections import defaultdict\n",
    "from collections import Counter\n",
    "import nltk\n",
    "sno = nltk.stem.SnowballStemmer('english')"
   ]
  },
  {
   "cell_type": "code",
   "execution_count": 2,
   "metadata": {},
   "outputs": [],
   "source": [
    "import pandas as pd\n",
    "df = pd.read_csv(\"ny_football_18Apr1.csv\")\n",
    "url_list = df['url']"
   ]
  },
  {
   "cell_type": "code",
   "execution_count": 3,
   "metadata": {},
   "outputs": [
    {
     "name": "stdout",
     "output_type": "stream",
     "text": [
      "https://www.nytimes.com/reuters/2019/04/15/sports/football/15reuters-golf-masters-comebacks-factbox.html\n",
      "New file writing 1\n",
      "https://www.nytimes.com/reuters/2019/04/14/sports/football/14reuters-golf-masters-comebacks-factbox.html\n",
      "New file writing 2\n",
      "https://www.nytimes.com/reuters/2019/04/14/sports/golf/14reuters-golf-masters-reaction.html\n",
      "New file writing 3\n",
      "https://www.nytimes.com/reuters/2019/04/14/sports/golf/14reuters-golf-masters-trump-obama.html\n",
      "New file writing 4\n",
      "https://www.nytimes.com/aponline/2019/04/13/sports/golf/ap-glf-masters-prison-artist.html\n",
      "New file writing 5\n"
     ]
    }
   ],
   "source": [
    "all_text = \"\"\n",
    "filename = \"ny_football_\"\n",
    "file_counter = 0\n",
    "for urli in url_list:\n",
    "    \n",
    "    if \"football\" not in urli:\n",
    "        continue\n",
    "    print(urli)\n",
    "    all_text = \"\"\n",
    "    \n",
    "    response = requests.get(urli)\n",
    "    doc = BeautifulSoup(response.text, 'html.parser')\n",
    "    links = doc.find_all('p')\n",
    "    \n",
    "    for name in links:\n",
    "            for x in name.find_all('a'):\n",
    "                x.replaceWithChildren()\n",
    "                \n",
    "    for link in links:\n",
    "        link_text = link.text\n",
    "   \n",
    "        link_text = re.sub('\\ by', '', link_text)\n",
    "        link_text = re.sub('Advertisement  ', '', link_text)\n",
    "        link_text = re.sub('Supported', '', link_text)\n",
    "        link_text = re.sub('Advertisement$', '', link_text)\n",
    "        \n",
    "        filtered_text = re.sub('[0-9]+', ',', link_text)\n",
    "        filtered_text = re.sub(r'[^\\w\\s]',' ',filtered_text)\n",
    "        filtered_text = filtered_text.lower()\n",
    "\n",
    "        inv_indx = defaultdict(list)\n",
    "\n",
    "        words = (filtered_text.split())\n",
    "        for word in words:\n",
    "            inv_indx[word].append(1)\n",
    "            \n",
    "        for word in inv_indx:\n",
    "            stem_word = sno.stem(word)\n",
    "            if stem_word != word:\n",
    "                filtered_text = filtered_text.replace(word,stem_word)\n",
    "                \n",
    "        all_text += filtered_text\n",
    "        all_text+=\"<BRK>\"\n",
    "    \n",
    "    \n",
    "    if all_text == \"\":\n",
    "        continue\n",
    "        \n",
    "    file_counter += 1    \n",
    "    curr_file_name = filename + str(file_counter) + \".txt\"\n",
    "    text_file = open(curr_file_name, \"w\")\n",
    "    text_file.write( all_text)\n",
    "    text_file.close()\n",
    "    print(\"New file writing\",file_counter)\n",
    "\n",
    "#print(all_text)"
   ]
  },
  {
   "cell_type": "code",
   "execution_count": null,
   "metadata": {},
   "outputs": [],
   "source": []
  }
 ],
 "metadata": {
  "kernelspec": {
   "display_name": "Python 3",
   "language": "python",
   "name": "python3"
  },
  "language_info": {
   "codemirror_mode": {
    "name": "ipython",
    "version": 3
   },
   "file_extension": ".py",
   "mimetype": "text/x-python",
   "name": "python",
   "nbconvert_exporter": "python",
   "pygments_lexer": "ipython3",
   "version": "3.7.3"
  }
 },
 "nbformat": 4,
 "nbformat_minor": 2
}
