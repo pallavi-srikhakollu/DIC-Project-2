{
 "cells": [
  {
   "cell_type": "code",
   "execution_count": 1,
   "metadata": {},
   "outputs": [],
   "source": [
    "import requests\n",
    "import csv"
   ]
  },
  {
   "cell_type": "code",
   "execution_count": 2,
   "metadata": {},
   "outputs": [
    {
     "name": "stdout",
     "output_type": "stream",
     "text": [
      "303\n"
     ]
    }
   ],
   "source": [
    "response = requests.get(\"https://api.nytimes.com/svc/search/v2/articlesearch.json?q=SPORTS&begin_date=20190101&api-key=bZaz1p3BiOatd4UTfTxYPo0R9B0cx0fB\")\n",
    "\n",
    "data = response.json() \n",
    "#print(data)\n",
    "hits = data[\"response\"][\"meta\"][\"hits\"]\n",
    "max_page = int((hits / 10) - 1)\n",
    "print(max_page)"
   ]
  },
  {
   "cell_type": "code",
   "execution_count": 19,
   "metadata": {},
   "outputs": [],
   "source": [
    "def parse_articles(articles):\n",
    "    '''\n",
    "    This function takes in a response to the NYT api and parses\n",
    "    the articles into a list of dictionaries\n",
    "    '''\n",
    "    news = []\n",
    "    for i in articles['response']['docs']:\n",
    "        dic = {}\n",
    "        if i.get('id', 0):  \n",
    "            dic['id'] = i['_id']\n",
    "        if i.get('headline', 0):  \n",
    "            dic['headline'] = i['headline']['main'].encode(\"utf8\")\n",
    "        if i.get('date', 0):  \n",
    "            dic['date'] = i['pub_date'][0:10] # cutting time of day.\n",
    "        if i.get('section', 0):  \n",
    "            dic['section'] = i['section_name']\n",
    "        if i['snippet'] is not None:\n",
    "            dic['snippet'] = i['snippet'].encode(\"utf8\")\n",
    "        if i.get('source', 0):\n",
    "            dic['source'] = i['source']\n",
    "        #if i['source'] is not None:\n",
    "            #dic['source'] = i['source']\n",
    "        if i.get('type_of_material', 0):  \n",
    "            dic['type'] = i['type_of_material']\n",
    "        if i.get('web_url', 0):  \n",
    "            dic['url'] = i['web_url']\n",
    "        if i.get('word_count', 0):  \n",
    "            dic['word_count'] = i['word_count']\n",
    "        # locations\n",
    "        locations = []\n",
    "        for x in range(0,len(i['keywords'])):\n",
    "            if 'glocations' in i['keywords'][x]['name']:\n",
    "                locations.append(i['keywords'][x]['value'])\n",
    "        dic['locations'] = locations\n",
    "        # subject\n",
    "        subjects = []\n",
    "        for x in range(0,len(i['keywords'])):\n",
    "            if 'subject' in i['keywords'][x]['name']:\n",
    "                subjects.append(i['keywords'][x]['value'])\n",
    "        dic['subjects'] = subjects   \n",
    "        news.append(dic)\n",
    "    return(news) "
   ]
  },
  {
   "cell_type": "code",
   "execution_count": 27,
   "metadata": {},
   "outputs": [
    {
     "name": "stdout",
     "output_type": "stream",
     "text": [
      "https://api.nytimes.com/svc/search/v2/articlesearch.json?q=SPORTS&begin_date=20190101&api-key=Nw4HZ3XGu0pCTuVFupaz1IQgzko2lyZ3&page=180\n",
      "https://api.nytimes.com/svc/search/v2/articlesearch.json?q=SPORTS&begin_date=20190101&api-key=Nw4HZ3XGu0pCTuVFupaz1IQgzko2lyZ3&page=181\n",
      "https://api.nytimes.com/svc/search/v2/articlesearch.json?q=SPORTS&begin_date=20190101&api-key=Nw4HZ3XGu0pCTuVFupaz1IQgzko2lyZ3&page=182\n",
      "https://api.nytimes.com/svc/search/v2/articlesearch.json?q=SPORTS&begin_date=20190101&api-key=Nw4HZ3XGu0pCTuVFupaz1IQgzko2lyZ3&page=183\n",
      "https://api.nytimes.com/svc/search/v2/articlesearch.json?q=SPORTS&begin_date=20190101&api-key=Nw4HZ3XGu0pCTuVFupaz1IQgzko2lyZ3&page=184\n",
      "https://api.nytimes.com/svc/search/v2/articlesearch.json?q=SPORTS&begin_date=20190101&api-key=Nw4HZ3XGu0pCTuVFupaz1IQgzko2lyZ3&page=185\n",
      "https://api.nytimes.com/svc/search/v2/articlesearch.json?q=SPORTS&begin_date=20190101&api-key=Nw4HZ3XGu0pCTuVFupaz1IQgzko2lyZ3&page=186\n",
      "https://api.nytimes.com/svc/search/v2/articlesearch.json?q=SPORTS&begin_date=20190101&api-key=Nw4HZ3XGu0pCTuVFupaz1IQgzko2lyZ3&page=187\n",
      "https://api.nytimes.com/svc/search/v2/articlesearch.json?q=SPORTS&begin_date=20190101&api-key=Nw4HZ3XGu0pCTuVFupaz1IQgzko2lyZ3&page=188\n",
      "https://api.nytimes.com/svc/search/v2/articlesearch.json?q=SPORTS&begin_date=20190101&api-key=Nw4HZ3XGu0pCTuVFupaz1IQgzko2lyZ3&page=189\n",
      "https://api.nytimes.com/svc/search/v2/articlesearch.json?q=SPORTS&begin_date=20190101&api-key=Nw4HZ3XGu0pCTuVFupaz1IQgzko2lyZ3&page=190\n",
      "https://api.nytimes.com/svc/search/v2/articlesearch.json?q=SPORTS&begin_date=20190101&api-key=Nw4HZ3XGu0pCTuVFupaz1IQgzko2lyZ3&page=191\n",
      "https://api.nytimes.com/svc/search/v2/articlesearch.json?q=SPORTS&begin_date=20190101&api-key=Nw4HZ3XGu0pCTuVFupaz1IQgzko2lyZ3&page=192\n",
      "https://api.nytimes.com/svc/search/v2/articlesearch.json?q=SPORTS&begin_date=20190101&api-key=Nw4HZ3XGu0pCTuVFupaz1IQgzko2lyZ3&page=193\n",
      "https://api.nytimes.com/svc/search/v2/articlesearch.json?q=SPORTS&begin_date=20190101&api-key=Nw4HZ3XGu0pCTuVFupaz1IQgzko2lyZ3&page=194\n",
      "https://api.nytimes.com/svc/search/v2/articlesearch.json?q=SPORTS&begin_date=20190101&api-key=Nw4HZ3XGu0pCTuVFupaz1IQgzko2lyZ3&page=195\n",
      "https://api.nytimes.com/svc/search/v2/articlesearch.json?q=SPORTS&begin_date=20190101&api-key=Nw4HZ3XGu0pCTuVFupaz1IQgzko2lyZ3&page=196\n",
      "https://api.nytimes.com/svc/search/v2/articlesearch.json?q=SPORTS&begin_date=20190101&api-key=Nw4HZ3XGu0pCTuVFupaz1IQgzko2lyZ3&page=197\n",
      "https://api.nytimes.com/svc/search/v2/articlesearch.json?q=SPORTS&begin_date=20190101&api-key=Nw4HZ3XGu0pCTuVFupaz1IQgzko2lyZ3&page=198\n",
      "https://api.nytimes.com/svc/search/v2/articlesearch.json?q=SPORTS&begin_date=20190101&api-key=Nw4HZ3XGu0pCTuVFupaz1IQgzko2lyZ3&page=199\n"
     ]
    }
   ],
   "source": [
    "#Nw4HZ3XGu0pCTuVFupaz1IQgzko2lyZ3\n",
    "#bZaz1p3BiOatd4UTfTxYPo0R9B0cx0fB\n",
    "import time\n",
    "web_url = \"https://api.nytimes.com/svc/search/v2/articlesearch.json?q=SPORTS&begin_date=20190101&api-key=Nw4HZ3XGu0pCTuVFupaz1IQgzko2lyZ3\"\n",
    "data_list = []\n",
    "#time.sleep(80)\n",
    "for i in range(180,200):\n",
    "    time.sleep(15)\n",
    "    reques_url = web_url + \"&page=\" + str(i)\n",
    "    print(reques_url)\n",
    "    response = requests.get(reques_url)\n",
    "    #time.sleep(21)\n",
    "    data = response.json() \n",
    "    if data['response']:\n",
    "        new = parse_articles(data)\n",
    "        data_list = data_list+new\n",
    "   \n",
    "\n",
    "\n",
    "keys = data_list[0].keys()\n",
    "with open('ny_nfl_4Apr8.csv', 'w') as output_file:\n",
    "    dict_writer = csv.DictWriter(output_file, keys)\n",
    "    dict_writer.writeheader()\n",
    "    dict_writer.writerows(data_list)    \n"
   ]
  },
  {
   "cell_type": "code",
   "execution_count": null,
   "metadata": {},
   "outputs": [],
   "source": [
    "reques_url = web_url + \"&page=\" + str(4)\n",
    "response = requests.get(reques_url)\n",
    "data = response.json()"
   ]
  },
  {
   "cell_type": "code",
   "execution_count": 5,
   "metadata": {},
   "outputs": [
    {
     "name": "stdout",
     "output_type": "stream",
     "text": [
      "{'fault': {'faultstring': 'Rate limit quota violation. Quota limit  exceeded. Identifier : 6fcc5f24-5343-4ead-aab2-31857630c76b', 'detail': {'errorcode': 'policies.ratelimit.QuotaViolation'}}}\n"
     ]
    }
   ],
   "source": [
    "print(data)\n",
    "\n"
   ]
  },
  {
   "cell_type": "code",
   "execution_count": null,
   "metadata": {},
   "outputs": [],
   "source": [
    "print(maxpage)"
   ]
  }
 ],
 "metadata": {
  "kernelspec": {
   "display_name": "Python 3",
   "language": "python",
   "name": "python3"
  },
  "language_info": {
   "codemirror_mode": {
    "name": "ipython",
    "version": 3
   },
   "file_extension": ".py",
   "mimetype": "text/x-python",
   "name": "python",
   "nbconvert_exporter": "python",
   "pygments_lexer": "ipython3",
   "version": "3.6.8"
  }
 },
 "nbformat": 4,
 "nbformat_minor": 2
}
