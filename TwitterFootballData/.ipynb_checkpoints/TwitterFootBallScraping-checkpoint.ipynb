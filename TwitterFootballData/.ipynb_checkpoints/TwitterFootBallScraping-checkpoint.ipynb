{
 "cells": [
  {
   "cell_type": "code",
   "execution_count": 1,
   "metadata": {},
   "outputs": [],
   "source": [
    "import re\n",
    "from collections import defaultdict\n",
    "import nltk\n",
    "sno = nltk.wordnet.WordNetLemmatizer()"
   ]
  },
  {
   "cell_type": "code",
   "execution_count": 2,
   "metadata": {},
   "outputs": [
    {
     "name": "stdout",
     "output_type": "stream",
     "text": [
      "4238\n"
     ]
    }
   ],
   "source": [
    "import pandas as pd\n",
    "df = pd.read_csv(\"FootBallFilteredTweets.csv\")\n",
    "text_list = df['text']\n",
    "print(len(text_list))"
   ]
  },
  {
   "cell_type": "code",
   "execution_count": 3,
   "metadata": {},
   "outputs": [],
   "source": [
    "all_text = \"\"\n",
    "for textdata in text_list:\n",
    "    if \"http\" in textdata:\n",
    "        end_ind = textdata.index(\"http\")\n",
    "    else:\n",
    "        end_ind = len(textdata)\n",
    "        \n",
    "    textdata = textdata[:end_ind]\n",
    "        \n",
    "    filtered_text = re.sub('[0-9]+', ',', textdata)\n",
    "    filtered_text = re.sub(r'[^\\w\\s]',' ',filtered_text)\n",
    "    filtered_text = filtered_text.lower()\n",
    "\n",
    "    inv_indx = defaultdict(list)\n",
    "\n",
    "    words = (filtered_text.split())\n",
    "    for word in words:\n",
    "        inv_indx[word].append(1)\n",
    "            \n",
    "    for word in inv_indx:\n",
    "        #stem_word = sno.stem(word)\n",
    "        stem_word = sno.lemmatize(word)\n",
    "        if stem_word != word:\n",
    "            filtered_text = filtered_text.replace(word,stem_word)\n",
    "                \n",
    "    all_text += filtered_text\n",
    "    all_text+=\" <BRK> \""
   ]
  },
  {
   "cell_type": "code",
   "execution_count": 4,
   "metadata": {},
   "outputs": [],
   "source": [
    "text_file = open(\"TwitterFootBallText18Apr.txt\", \"w\")\n",
    "text_file.write(all_text)\n",
    "text_file.close()"
   ]
  },
  {
   "cell_type": "code",
   "execution_count": null,
   "metadata": {},
   "outputs": [],
   "source": []
  }
 ],
 "metadata": {
  "kernelspec": {
   "display_name": "Python 3",
   "language": "python",
   "name": "python3"
  },
  "language_info": {
   "codemirror_mode": {
    "name": "ipython",
    "version": 3
   },
   "file_extension": ".py",
   "mimetype": "text/x-python",
   "name": "python",
   "nbconvert_exporter": "python",
   "pygments_lexer": "ipython3",
   "version": "3.7.3"
  }
 },
 "nbformat": 4,
 "nbformat_minor": 2
}
