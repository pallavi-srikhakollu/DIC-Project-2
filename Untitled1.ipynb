{
 "cells": [
  {
   "cell_type": "code",
   "execution_count": 26,
   "metadata": {},
   "outputs": [],
   "source": [
    "import gzip\n",
    "import json\n",
    "import requests\n",
    "import io"
   ]
  },
  {
   "cell_type": "code",
   "execution_count": 8,
   "metadata": {},
   "outputs": [],
   "source": [
    "response = requests.get('http://index.commoncrawl.org/CC-MAIN-2015-27-index?url=http%3A%2F%2Fcommoncrawl.org%2Ffaqs%2F&output=json')\n"
   ]
  },
  {
   "cell_type": "code",
   "execution_count": 9,
   "metadata": {},
   "outputs": [],
   "source": [
    "records = response.content.splitlines()"
   ]
  },
  {
   "cell_type": "code",
   "execution_count": 10,
   "metadata": {},
   "outputs": [],
   "source": [
    "records_list = []\n",
    "for record in records:\n",
    "    records_list.append(json.loads(record))"
   ]
  },
  {
   "cell_type": "code",
   "execution_count": 11,
   "metadata": {},
   "outputs": [
    {
     "name": "stdout",
     "output_type": "stream",
     "text": [
      "[{'urlkey': 'org,commoncrawl)/faqs', 'timestamp': '20150701063137', 'url': 'http://commoncrawl.org/faqs/', 'filename': 'crawl-data/CC-MAIN-2015-27/segments/1435375094690.4/warc/CC-MAIN-20150627031814-00274-ip-10-179-60-89.ec2.internal.warc.gz', 'offset': '53124164', 'digest': 'ANEUZJSAIX4UDD2PRWXB2SEIKXBVXKO2', 'status': '200', 'length': '4406', 'mime': 'text/html'}, {'urlkey': 'org,commoncrawl)/faqs', 'timestamp': '20150703153503', 'url': 'http://commoncrawl.org/faqs/', 'filename': 'crawl-data/CC-MAIN-2015-27/segments/1435375096156.35/warc/CC-MAIN-20150627031816-00274-ip-10-179-60-89.ec2.internal.warc.gz', 'offset': '53645543', 'digest': 'ANEUZJSAIX4UDD2PRWXB2SEIKXBVXKO2', 'status': '200', 'length': '4407', 'mime': 'text/html'}]\n"
     ]
    }
   ],
   "source": [
    "print(records_list)"
   ]
  },
  {
   "cell_type": "code",
   "execution_count": 15,
   "metadata": {},
   "outputs": [],
   "source": [
    "page = records_list[0]"
   ]
  },
  {
   "cell_type": "code",
   "execution_count": 16,
   "metadata": {},
   "outputs": [
    {
     "name": "stdout",
     "output_type": "stream",
     "text": [
      "{'urlkey': 'org,commoncrawl)/faqs', 'timestamp': '20150701063137', 'url': 'http://commoncrawl.org/faqs/', 'filename': 'crawl-data/CC-MAIN-2015-27/segments/1435375094690.4/warc/CC-MAIN-20150627031814-00274-ip-10-179-60-89.ec2.internal.warc.gz', 'offset': '53124164', 'digest': 'ANEUZJSAIX4UDD2PRWXB2SEIKXBVXKO2', 'status': '200', 'length': '4406', 'mime': 'text/html'}\n"
     ]
    }
   ],
   "source": [
    "print(data)"
   ]
  },
  {
   "cell_type": "code",
   "execution_count": 17,
   "metadata": {},
   "outputs": [],
   "source": [
    "offset, length = int(page['offset']), int(page['length'])\n",
    "offset_end = offset + length - 1"
   ]
  },
  {
   "cell_type": "code",
   "execution_count": 22,
   "metadata": {},
   "outputs": [],
   "source": [
    "prefix = 'https://commoncrawl.s3.amazonaws.com/'"
   ]
  },
  {
   "cell_type": "code",
   "execution_count": 23,
   "metadata": {},
   "outputs": [],
   "source": [
    "resp = requests.get(prefix + page['filename'], headers={'Range': 'bytes={}-{}'.format(offset, offset_end)})"
   ]
  },
  {
   "cell_type": "code",
   "execution_count": 34,
   "metadata": {},
   "outputs": [
    {
     "name": "stdout",
     "output_type": "stream",
     "text": [
      "<Response [206]>\n"
     ]
    }
   ],
   "source": [
    "print(resp)"
   ]
  },
  {
   "cell_type": "code",
   "execution_count": 37,
   "metadata": {},
   "outputs": [
    {
     "name": "stdout",
     "output_type": "stream",
     "text": [
      "b'\\x1f\\x8b\\x08\\x00\\x00\\x00\\x00\\x00\\x00\\x00\\xedZ\\xedn\\xdb8\\x97\\xfe\\x1f\\xa0\\xf7\\xc0\\xf1\\xbb\\xd8$x#\\x7f\\xc6N\\xe2&\\x198\\x1fm3\\xd3&\\x99\\xc4\\x9dv\\xa6(\\nJ\\xa2l6\\x92\\xa8\\x11\\xa9\\xb8\\x9e}\\x17\\xd8\\xdb\\xd8k\\xd9\\x7f{){%\\xfb\\x1cR\\xb2e7\\x99\\xb6\\xb3\\x03\\xec\\xfe\\xd8\\x02E$\\x8a<<\\x9f\\xcf9\\x87\\xf4\\x9b\\xd1\\xcdi\\xab\\xd3l?\\xd9x\\x83\\'o<\\xcf\\xc4\\x90\\xe5Bg*\\xd5\\xa2\\x1c<\\xe3\\x06\\x83\\xddv\\xa7\\xef\\xb5\\xf7\\xbcvg\\xdc\\x1e\\x0c{\\x9dao\\xef\\xd7r\\xc2\\x8d\\x08T\\x1ez\\x17gCvX\\xe4\\xe9\\xb0(d8\\xec\\xef\\xed\\xedvz\\x07\\xc2k\\x8b~\\xdb\\xdb\\xdd\\xebv<\\xbf\\xdd\\x1dx\\xbb\\x83\\xc0\\x0f\\x0f\\xda\\xe1\\xa0\\xdb\\t\\x8f\\x9fl\\x9c\\xaa\\xd4\\x88\\xd4x/E:1\\xd3!\\xeb\\xb4\\xf7\\xfa\\xfd\\xe5\\xb0c\\x88gY,\\x03n\\xa4J[Sc\\xb2\\xa7,\\xd1\\x13\\x83OGk\\xac\\xbe\\xe1y \\xd3H\\xad\\xf1\\x12\\x0e\\x0e\\xba\\xednw\\xd7\\xdb\\xeb\\x89]o7\\xdc\\xe7\\x1e\\xefG\\xc2\\x0b\\xf7;\\xbd\\xa8;\\xd8\\xedEat\\\\\\x92\\xc0\\xceA\\x91\\xe7vsU\\'\\xe2G\\x83\\xfd\\xf6 h{\\xfb\\x11\\xef{\\xbb\\x1d\\xde\\xf3\\xf6{\\xc2\\xf7\\xda\\xe1\\xbe\\xdfk\\xb7\\x07\\xa2\\x1f\\x85\\x15\\x91\\x8bko\\x14\\x86`N\\x93D\\xbb\\xcd\\xee~\\xb3\\xdbiv\\xfb\\x95\\x9ay>\\x11\\xc6{}s1d$\\xcf\\xb0\\xd5\\nT\\x92`\\xe7\\x9c\\xcf\\xe2\\xa6\\xca\\'\\xad\\x88\\xff\\xa6[\\xe5\\xf4k>\\x8f\\x15\\x0f\\xbd39\\x11\\xda\\x0c\\x99\\x9e\\xf2\\xcepty\\xfe\\xfa\\xd7\\x1fnG\\x17ow_\\x9f\\x9du\\xafo\\xde\\xbc=\\xe9\\xde\\x9e_\\xfc\\xf8\\xf6\\xe4\\xe7\\xb7?^u\\xcb\\xb5\\'\\xb1\\n\\xeeVW\\xfe\\xfa\\xe3\\xf8\\xe7\\xb7\\x97/F\\x17\\xbd\\xf1/\\xb7on\\xfa\\xbd\\xe7\\'\\xbf\\x9c\\x9c\\xfd\\xf4\\xf6\\xe4\\xe2t\\xf7jpZYu\\x9c\\x17)t.\\xc2!\\x8b\\xadq\\x9el<\\xd9x1\\x1e_\\xc3_:p\\x876\\xbb\\xfa\\xf1\\xc9\\x86s\\x8e7\"\\xdca\\xed\\x0e\\xfb\\xa1\\x88\\xad\\xa3\\xb0\\xcaE\\xd8\\xf3W\\xe3uk\\x1a\\xf1\\xc9\\xc0\\x8cI\\xfc\\x94\\x05S\\x9eka\\x8e\\n\\x13y\\xfbv^*\\x022\\xf3\\x90\\x05\\xb1\"\\xb3\\xdeBO\\xa7J\\xddI,\\xfc\\xf0!\\x88B\\x98\\xe2(<\\xd8\\x8d|\\xd1\\xefF\\x9dA\\xd09\\xe8u\\xe0i\\x03\\x7fop\\xc0\\xf9\\x81\\xef\\xf7a\\xd0\\xcen\\xaf\\xbf\\xd7\\xebv\\x0f\\xf6\\x9e2\\xf1)\\x93\\xb0\\xc4\\xd1xZ\\xec\\xb0^\\xdb\\xfb\\xa1H\\xbd\\xce`\\x85\\xc3\\xa7,\\xe3fz\\xd4z\\xcaB\\x95p\\x99\\x1e5\\xd7\\xcc\\xf1\\x94\\xbd\\x80\\x99\\xae\\xd2x\\xfed\\xe3g\\x9e\\xcf\\x87l\\x14\\x04\"3\\xdey\\x1a\\xa8P\\xa6\\x93\\'\\x1bo\\xbdg9O\\x84w\\x95\\x11\\xff\\xb0\\xfb\\xed\\xe8\\xd5\\xf9\\xd5\\xcd\\xc5\\xf3\\x8bK\\x08\\xf6\\xcc;\\xe5\\xc1Tx\\xb7\\x86\\x9b\\x02\\x1f_\\\\@-\\xe7\\x8e\\xb3\\x07\\xd4\\xd7i\\xaf\\xa8\\xcf.%%\\xe6*\\x1e\\xb2\\xac\\xf0\\x11\\r;,\\xe1\\x9f<>\\x11G\\x9d\\xdd\\xddv\\x9b4\\x95\\xdf\\x8b\\xdc*\\xae\\x08\\xa3\\x98\\xe7\\xc2K\\'2\\xfddw\\xbf\\x19\\xfd\\x02O\\x8c\\xa2v\\xa7\\xc3\\xf7\\x03?hw\\x06\\x9d\\x8e\\xf7\\xf2\\xe2\\xd5\\xd28\\x95(C6\\xf9]fd\\xec\\x8d\\xc3\\xefB\\x15P\\x9c12\\xd7\\xf1\\xc6!\\xfd\\xc1\\x06\\\\\\xeb\\xa3F\\xaa\\xbc\\x8f\\xba\\xc1b\\x9eN\\x8e\\x1a\"m\\xd0g\\xc1C\\xfcI\\x84\\xe1\\x0b\\xd36\\xacm\\x1b\\xadj<\\x85\\x92\\x8e\\x1a\\xf7R\\xcc2\\x95\\x9b\\x06\\x0b\\xdc\\xf6G\\x8d\\x99\\x0ca\\x83P\\xdc\\xcb@x\\xf6e\\x87\\xc9T\\x1a\\xc9cO\\x07<\\x86\\xa0\\xcd\\xb6\\xa5c\\xa4\\x89\\xc5\\xf1\\xa95\\x11;%\\x1b1\\x8f=\\x1b\\xfd\\xa4\\x0f[\\xee\\xd3\\xc6a,\\xd3;\\xe0X|\\xd4\\xd0f\\x1e\\x0b=\\x15\\x02{Ms\\x11\\x1d5Z\\x1aF\\x90A+\\xd0\\xba\\x15\\xa9\"\\r-\\xb04\\xf1j\\xa9\\x7f\\xed\\xd2\\xba\\x8b<\\xb0v\\n\\xe9\\x82\\xc20\\t\\x01\\xd7\\x97\\xcb\\x84\\x02\\xfc\\x9e>5\\xb3tb\\x97\\xea \\x97\\x99a:\\x0f\\x96\\xf3>\\xea\\xd6\\xbdHC\\x95\\xb7\\x12\\x15\\x8a<\\x95\\xbf\\xe7M\\xe8\\xfc\\xf8\\xb0\\xe5f\\x7fq\\xd9\\xc7\\xdf\\n\\x91\\xcf\\xbfmM\\xc4\\xb5\\t\\xe0`w\\x8f,\\xb3\\xb8\\xdb\\xb0A\\xfc\\x91\\xdfs7\\xda8n\\xb5\\x0e\\xbf{wz6\\x1a\\x8f\\xdem0\\xfb\\xef\\x9e\\xe7\\xec\\xc3\\x84\\xff\\xc6\\x8e\\xdc\\x9f\\x7f\\xfc\\x83\\xbd{\\xff\\xb4\\xfcH#\\xcd\\xac\\xd0\\xd3\\xadw\\x9b\\x1f\\xe0\\'\\x88\\'\\x98\\xc2l\\xee\\xb0\\xcd\\xd7#\\xaf;\\xd8\\x1f\\xec\\xeew\\xbb^g\\xf3\\xfd\\xf6\\x83KL\\xce\\x83\\xbbk\\xb8?yRm\\xd2V\\x04\\xd4\"{\\xb2\\xadm\\xf6/\\xe5\\xa0\\xe3e\\xc2\\xc1\\t\\x1c\\xbaH\\xe0o\\xcd \\x17\\x80\\xae\\xf3X\\xd0\\xdb\\xd6\\xa6\\x13csA\\x87az\\xd3\\xba\\xfe\\x11\\xdb\\\\\\x13vse\\x12\\xd7\\xf34\\xc0,\\x93\\x17b\\xe5\\x03\\xf4\\x8b\\xe1\\xadMBx=\\xdcdG\\xb5\\xdd\\x81\\xca\\xce\\xeb\\xb2\\\\\\x19\\x15\\xa8\\x98}\\xcf\\xca\\x89\\xad\\x96\\xd6\\xf1&\\x1b\\xbaw\\xbc\\xcef\\xb3\\xcdm\\xf6w\\xb6\\xd9\\x9c(5\\x89\\x85\\xc7S\\x1e\\xcfa4M0\\xd5\\xc2N\\x1fu\\x8d%\\x12U\\xd7%E\\xaa)\\xc5\\xd4\\'\\xf31\\x9f\\\\\"\\x02\\x97\\x02\\xbfk\\xbf_\\xae\\xd5\\xcd\\x8cS\\xea\\xbb\\x84\\xbb5%\\xf2jnND\\xa4r\\xb15\\xe1;L/\\xb4\\xf3\\xaf\\xdb[\\x8b\\xe7V\\xeb\\xfd\\xfb\\xba\\x9b\\xb4J\\x14\\xf0U8\\xaf\\xb0\\xc2\\xcc\\x94\\x07!\\x1b\\x0c\\xe0\\xdd\\xa0\\xd4Fh\\x11\\xca\\xfb\\xc5w\\x95\\xe9\\x0c\\x8fS\\x1aOy}\\xdc\\xf3y\\xde`\\x88Q\\xee\\xe1\\r/\\x0c \\x08\\x07\\xc4,9\\xb1:\\xa45\\xc5\\x02\\x96,\\x02x\\x90\\x827l@.\\xe0\\nR[\\x8c\\xea\\x1c\\x1f\\xf2*\\x1e\\x1b+(r\\xd8\\xe2\\x10\\x04\\x13 D,WV\\x1b5!\\xcd\\x97\\x1c@\\x97\\x85g\\x03{I\\xebox\\xd6\\x19O\\x8f_\\xe1#\\xd4A\\x8f\\x8e\\xa0%\\xd5*\\x08?\\xb5\\xcbnk\\xe2y\\xe50\\xd8cuQr9\\x99\\x9aU)\\xa6\\\\{a\\xae\\xb2P\\xcd\\xac\\xdc\\x0bI|9\\xf12\\x19\\x98\"\\x17\\x90\\xea\\xe4\\xe29\\xbb\\xbe8\\x1d\\xbf\\xbe9\\'\\x1e\\xeaD\\xeb\\xab\\xc1\\xd9\\x92\\xc2l\\xca\\x8d7CQ\\xa4@\\xe0\\r^\\x90\\x96\\xd8\\x99\\xaa\\xc9\\xf0\\xf9\\xf4\\xb9*\\xbc\\x80\\xa7\\xb55\\xbf\\xa8\\x82\\x9d\\xf2\\xf4\\x0f\\x16\\xda\\xca\\xa6q\\xec\\xf0zM?\\xebj\\x7fT\\\\\\x83\\x84H>\\x01B\\xe3\\x17\\xe7\\x8c`\\xe7\\xab\\x05]\\xac\\xa5\\x1a\\x0c\\xf0\\x97\\xa3\\xc6\\x01\\x9d\\xe7\\xc2\\xb0[\\xf7\\xf6\\x18\\xeb\\x8b\\x95\\xe2\\x13O2\\xe4\\x06,;w\\x8f\\xec:W\\x1faF\\xfd\\xc5\\xb5\\xa60*GR\\xa3\\xc5\\xe3\\xea\\xf9\\xb3U\\xc6\\x96\\x88G\\x8d\\x0f>\\x12\\xec]\\x95@*\\x84\\x98\\xe4\\xaa\\xc8t\\x89\\x07\\x16\\x05\\x10\\xa4E\\xd2\\xfa\\xdbw\\xee\\xaf\\xcbM\\x9eMN\\x8d\\xe33q/b\\x95\\x89|S\\xb3\\x97R\\x9b?\\xafv\\xee\\xab\\xc2\\x80\\xef\\xd1\\xc9\\xd5\\xeb\\xf1W+\\xdc\\xad2\\x82\\'XzU\\xe4l\\x8c\\xc7%\\x13\\xec\\xc1\\xe9\\x89\\x08%\\x99\\xf7\\x15\\xfd\\xfd\\xf3\\x1c\\x07\\xae\\xa4\\xa4H\\xbf\\xba\\xbc<?\\xfdz\\xaeC\\x95\"A`\\xe1\\x99}\\xf8\\x06\\x0b\\xad\\x95\\xf3\\x85\\xdem\\xc6P\\xbb\\x97\\x00\\xb8\\'\\xa2c\\xed\\xa5\\x0b\\x9f\\x10\\xd3\\x17\\xdf\\x17Gmq\\xd0\\xe9D\\x81\\xdf\\xe9\\x86\\xd1~\\xbf}\\x10\\xf1\\xa0\\xd3\\x1b\\xf0>\\xffg\\xc0\\xe5\\xfe\\xa0\\x7f\\xd0\\xdf\\x15\\xfd\\x00\\xe8u)f:\\x16\\xc6\\x88\\xfc\\x11/+w\\xf7c5Y/a\\x01\\n\\x18}\\xcc;+5Q5\\xc6\\x03\\xe3\\x15\\xdab\\xa3}y\\xd4\\xa3E\\x9ehOE\\x98Lj\\x1a\\xd3+S\\x11{\\xad\\xc5\\x17\\xed\\x05\\xb2\\xf2^4\\x1eT\\xf7\\xd5\\xe5h|\\xfe9\\x85\\x12$\\xe9\\x11\\xd8O\\x7f\\x90@V\\xd3HYK\\xae%\\x97\\\\\\xcd\\xd6Fb2\\x9dw\\x80\\xda3.\\x92\\xd4&#\\xc4\\xbd\\x0cl\\xe9\\x08\\xfc\\x7f\\x96\\x0b\\x14N\\xa9\\x89\\xe7l\\xa4\\xefD\\xc8\\x0e5J\\xeftr\\xfcS\\x816\\x8a\\xca{\\xb0\\xe3F\\xca|\\xb1dn\\xda\\x05\\x92\\xa4\"\\xe71\\xab\\xcd\\xc6(8X8\\x1d0\\xd0\\xb2d\\x1chJ\\xcd\\xeay\\xe8{\\x88F\\x994\\x0cW\\x8b\\\\L\\xe3\\xac\\xdf\\xeel\\x05\\xdb[\\xbdm\\x96\"\\xc2Q>D\\xd20\\xd8\\x97\\xa3:\\xb4\\xe9\\x90\\x85\\x88\\x18\\xdb\\xb81\\xa3\\x18&\\xdcK*\\xeb\\xb14P\\xd9\\x9c\\x0c\\x04(Be\\r\\xf3\\xa5\\x80<\\xccY<\\xa3\\x19\\x11\\xe8\\xa0\\xa7\"\\xd7;\\x98\\x9d \\x87I\\x81M\\xd3\\x10s\\xa0?\\x19\\x16\\xc0*\\x06\\x8eS\\x85\\xef\\xda0\\xc0\\x8d%\\x97\\x15y\\x86~\\x8d\\xa8WD\\xec2[\\xaah\\xa9\\x9b\\x10)\\xacI\\x8c\\xa4\\xc1\\x90<P\\xa4\\xb0\\x994\\xd35\\xe6f\\xc2\\xaf\\xe9`L\\xf4\\x95\\xd6\\xd2\\x971\\xda\\x01b(\\x17\\x0c\\xc5*\\x00\\x18|\\xfa(\\xb23\\xa1\\x08\\x83\\xa7\\xfc^0xch\\xa9\\x10\\xdaZ\\xf1\\x12R\\x82\\xb0\\x9dJ\\x81\\x00D\\xa5\\xc6S\\x1d;ei\\x15\\x99\\x19\\xe8\\xed@S\\xa47(\\x04\\x05P\\x08\\xba\\xb6\\xc2t\\x84$$\\x82p \\x93qWsX\\xe1\\x92\\x02R&\\xa8\\x8ej\\xd2!\\xf7m\\x1a\\xf6\\xdc\\x023\\xcc\\xc2^\\xc9 W\\xb4\\t\\xfbX@_\\x90\\xd7@\\xfe\\x9at\\x84\\x87\\x13\\xc5\\xadu\\xc1l(\\x12\\x85\\x985\\xf2w\\xb1\\x14B+\\x06\\x08\\xcf\\xe7*\\x05\\x9f\\xa9*i!\\xe5/\\x8d\\xb4cU\\n\\xf2S\\x14\\r\\xec7\\xd8I\\x9a\\xf9\\xd7\\xd9\\xc2\\xc6\\xb1\\xdd\\xbe\\xda\\x0f\\x1d\\x0c\\t\\x1c24G\"\\xaf1;\\xd2\\xcc\\xf9=\\xf3E,\\x89\\',L\\x19rKjW\\xee\\xc0t\\xf6\\xb4f\\xce\\xb8f\\x91\\x98\\x11\\x07&\\x97684\\x8d9CB7F-\\xf6C\\xf9\\xdfdde\\xc7\\t\\x91\\x08C2\\x88Lx.AK\\x92\\xbe\\x99\\x88\\xe0m\\xc695\\xb6N\\r\\xe3~\\xa1\\x01#\\xa4g\\x19\\xc7b\\x02-\\x16\\x1a\\x16\\xde\\xb1\\x1e\\x12\\x151\\xd6\\x86\\xc2\\xe1l\\xc8`5\\x05e\\xaf\\x83\\xe5\\xfa\\xc9\\xcb\\x1a\\xac\\x99\\n\\xd6\\n\\x07k\\x0c.\\xb00x+\\\\\\x83\\xa6\\x15\\x1c\\x18\\x8b`\\x9a\"\\x14\\xbf\\r\\tH+\\xa7\\xa7\\'\\xb0\\xb2\\xe5iE\\xffn\\xdc\\xe2\\xc0\\xba\\x18ia\\x82i\\x93gtV`\\xe5@\\xba\\xa0!\\x14\\x98\\xdaU4\\x14V\\x15M\\xeb\\x85,\\xe1w\\x88\\xa6\\xc2\\xc5-\\xed;\\xb2\\xcb\\xd9\\x0b\\x1e*\\x95\\x91\\xbfSI\\xd3\\xa4B\\x90&\\xbd\\xe2\\x99w#\\xc2\"\\x10%\\xb2\\x04\\x08@\\xebZ\\xe8\\x8f\\x10-%\\xc7\\xe4\\x89\\xa1\\x84aA;\\xcaUb\\xb5\\xee\\xbe\\x90\\xb5\\x89\\x1f27\\xa4XLd\\x94\\x1fI.\\xad\\xa8\\xfeb\\xfe\\x9cM\\t^\\xb6\\xdcy\\x8c=4\\xd8\\xb6;\\x81\\xcb\\x94\\x02\\x12N\\x85\\xc0w\\x18\\x87\\x00\\x01xA\\x04\\x9dI\\xf8+\\xdb\\xf2\\x95\\xd9\\xc6\\x18\\x9d\\x87\\xd4\\xbd\\xfd\\x85\\x9a!B\\x84S\\xb1O\\x8a\\x0c\\xe1E2\\x82\\x83\\x19-\\xe2h-*UL\\xc4j\\xf3$\\xb6s3\\x1dh\\x11\\x99H\\xc5\\xb1\\x9a\\x11\\xbe\"\\xed\\xe5\\xdehB~I\\xdc\\xd1A\\x8a5\\x17\\x1d\\xaf\\xb2\\xad\\xbf/\\x9b\\xb9\\xf5\\xcc\\xdc\\xc2\\x16M:Y\\xd9vQP\\x1e?2\\xe2\\x9e\\xa0f\\xb1\\xbb\\xaevG\\x1c9\\xd2\\xddf\\xbb\\x1e\\xcd\\x08\\x02BU\\xc74\\x19\\x97%s\\xb2\\xba\\x96P\\xb1\\x06\\x9f\\x16\\xaf\\x15\\xf8\\xce\\xc9\\xa0\\xb9\\xaeI\\xbcq\\x98Y\\xa4]q= *\\xf9ZZ$>^\\xa0a\\x1eOP\\xb0\\x9a)B\\x02\\x81%\\'i\\x95e\\\\@\\x02/\\n\\x18Sq\\x1bm\\xe4o\\xa5\\x15\\xec\\xc6\\x9cM\\x10\\xadiy\\xc8f\\xdd\\xca\"\\xb6\\x01\\xa7)\\x9bPC\\x0e\\x97\\xc8\\xadw\\x89T\\x17\\xf4Dn\\xba\\xf0\\x1f\\xf00#\\x19SB\\x1eL%\\xa7\\xaco\\x82uVJ\\xaa\\xe7\\x08\\x14|\\xf8m\\xca\\x03r\\xd3\\nsj\\xc2Cs\\xd9B\\xec\\x8a>\\xbe\\x90K\\x03\\x81xF%\\n\\xf3\\x91\\x05\\x80\\x065\\xd1\\x1dS9\\x87\\xb3\\x01_hC\\xedv\\xb4U\\x836\\x96\\x0fk\\x86J\\xf52Z\\xbc\\x97\\xbc\\x92\\xaf\\xbb\\xb3k\\x9b\\x9b\\x89H<o\\xb2\\xabuIK\\x92\\xac\\xc8\\x88h\\xd7\\x82\\x0f@\\x14\\x9f\\x814\\x8a\\xf2\\xf2\\xe7\\xa4)\\'\\xa0J\\x14\\xf1\\xbc\\xdaBWh\\x0b\\xcc\\x01\\x80\\x027\\xc4\\x92Y\\x84\\x97\\x85y\\xd6\\xed\\xb7YRie%h(\\xb5\\\\\\xc0\\xeb\\xeeJ3\\x12\\xbb\\xa2\\x8ai\\x19-\\xe3I\\x93-I \\xcb\\xafr\\x19\\xd2G\\xdc\\xda\\xf3\\xbc5o\\x83\\xf9\\x95/\\xe6\\x0e\\xf0\\x88\\x94\\x17\\x8a\\x98\\xcf!#\\x1d\\xa4\\x02w\\xedn\\xb9\\x02e\\xdd4\\x9f\\x80C\\'\\x94\\n\\xe8\\xe0F\\xd3\\x1e\\xd6\\x0c\\xce5wl1a5F\\x85\\nU?$r\\x10\\x90/\\xafx\\x05m\\x96\\xd3g8\\xb3\\xe5\\x1f\\x94\\x9a\\xec\\x19e\\x90\\x14\\xbd`\\x1a y`A,\\x13\\xb9\\xeax\\x16\\xc9*s83P\\xea\\'.\\xe0kX\\xe7R4l\\xe4,\\x83\\x8c\\x8c,\\xb6\\x86\\x11\\x95c,\\x85b\\x91\\x8c\\xc5\\xb0\\xf4D\\x90+\\xd3\\x02\\x1e\\x8d\\x99#\\x03R5{\\x18\\xa8P\\x1c3\\x870\\x9c\\x10\\xa6\\x84\\x96\\rV*\\xee\\x8c\\x147d\\xdd\\xc3\\x96\\x9d\\nr\\xb9x\\xd8\\x88>\\xdd\\x07\\x80+\\x98\\n,\\xacY\\x84\\x9aw\\xf0\\x1e\\xc9\\t\\xc5\\xdeC\\x9c\\xb2\\xd9T\\xc2\\xa46JH\\xb4\\x1b\\xfb\\x99\\x9d\\x7f\\n\\xe2\\xc2\\x82\\xd5uu\\x9e\\x05Q\\xab\\xbd\\x16\\xd1\\xe5\\x1c\\x1c+\\xfe\\xeb\\xdf\\xfe\\xbd\\xbe\\xe83\\xe8\\x84\\'\\x95\"6\\xd9\\xc8iQS\\x92H\\x85~L\\x876;|\\x86\\x14\\xda \\x8fUv^\\t\\xca\\xff\\x81\\xce\\xcf\\xa4\\xe6d\\xd1!k\\xad)\\xdc:\\xb5\\xdd\\x18!*\\x15y\"\\xd5 \\xd4\\x97\\xc8\\xb4p>9\\x15\\xa5R\\xd6\\x05 \\xac\\xf5\\x05\\x90\\xb0\\xc8(\\'\\x86\\x8fG\\xe2\\x02\\x1c\\x9d\\x15\\xed\\xa8\\x0bF\\xe0\\xbdE\\x1c\\xd4J\\xc2\\xb6X\\xf1\\xbcfc0G\\xf0:S\\xb9\\r\\xd2)\\xcf]\\xfe\\x84\\x86#\\x80/h.\\x90\\xc2\\x91\\xd3smDbU;E\\x91gC\\xa9\\xc82[\\x86a\\x12m\\x95p[(8\\xa3K\\x17`QA\\xb4j\\x99\\xe9\\xac\\x9eu+\\n\\x14%\\x92\\xaa\"\\x14H\\xe8\\xa4\\xed\\x89zFwf\\x18Ze:T\\x8f-Z\\xc0\\x98\\xcd&hNT\\x95>\\t\\x9ak\\xac\\xd2\\x9d\\x06\\xf4\\xe6\\xae8\\x08X\\x12nV\\n\\xe1yU{\\xf9U\\xfa\\xa3\\x89.\\xd0/\\xc0A\\n\\x9f5._\\xd1)?)j\\xadGqIw\\xee\\xe6\\xd8\\x8b\\x05\\xe7p\\x8e\\x06J\\x9a%\\x0e8\\n\\xae8\\xb2\\t\\x894\\xf9Ya^2tq\\r\\xc4J\\'\\x8b\"m5n\\xafl\\x95R\\xd6\\nz\\xd9\\xfd\\\\\\\\k\\xd6\\xdbov\\xda{\\xcd\\xceA\\xa79\\x18\\x10\\xee\\xab\\x02\\xcdAm\\xb4\\xd39x\\xb8\\xe6\\xb0\\n(9\\x1c%\\xfcw\\x0c\\x8d\\xde\\xdc~\\xc9\\xa2\\xa9r\"\\xd6+\\xd6\\xca\\x1a\\xb65\\xa0\\xfeD\\xa5e\\xcfX\\xcdF?YVsT\\xd8\\x00v\\xedu\\xafsE\\xa7(\\x01\\x8c\\x0fCW\\xc2[\\x95\\x92\\xba\\x9a\\xec\\x02;OU\\x11\\x87\\x94\\xe8\\xd1\\x16Y\\xc9\\xb9y\\x8c\\xf8=\\x8f\\x11\\x82P*uP\\x89\\xe0\\xa9k_-J\\xd9\\x06\\xd9\\x16\\n6F\\xdd9\\x02\\x95\\x10eeC\\xdf\\xabQB6j\\xa0C\\xf1\\xc9\\x95\\xaae\\x8f%\\xe8\\xba\\rVd\\x17\\xc8$\\x82\\xa3\\x83y\\x84\\x11\\xb0\\xb0\\xecm\\xac\\xc1\\xfc2lya\\xa6\\xca\\x152UIu\\xeb\\x88\\x9f;\\xe2P5us\\xba\\xea0\\xad\\x81\\xe0p.\\x1f\"\"\\xa1\\x1d\\xa4\"r9\\x8b\\xb1tCr\\xc3\\xd3;j\\x82\\xa9@\\xa79\\x8b1\\xf8\\x13\\xe9\\x97\\xd4f\\xcf\\xb2\\x88\\xf5\\x88\\xccd\\xcb+T\\xe6\\x0c\\x05\\x1e\\xe5\\xb8\\x85\\x0c+\\xf1m-:\\xb3\\xfa\\xa7\\x00Em\\x95\\xc6\\xf3\\xf5\\x13\\x01]\\xedBE{\\xa0l\\x8a$8q\\xeb\\xcaB\\xce^\\xc5`\\x98\\xbaF\\xad\\x02\\xe9Zl_\\x98\\x19\\xc1a\\xd9\\x82\\xdb\\xc5\\xe0\\xd5\\x12+[\\x81J\\xde\\xc5]\\xc7Z\\x04\\xa1\\x940\\x96\\x83\\x1a\\xd6\\x86\\x0fx\\xee*\\xdcT\\xee\\\\\\xe1<\\xe9{&\\x00\\xea\\xf8\\xbb\\x18k\\xb1\\x91\\xfd\\x0b\\xd0\\xf2ej9\\xae\\x81P\\x1dz\\x82Zm\\x13\\xca\\xdc\\xe1\\xb2\\x9d\\x9a\\xc5\\x00\\xeeG0u1\\xd3v\\xbf\\xa5\\xca\\xab\\xce|]N\\'\\x1e\\xb3\\x17\\xac\\x86O\\xf47\\x08I\\x93.\\xaf\\x9e]\\xbd|y\\xf5\\xc6\\x12\\xf0@`\\x9d>\\xec[\\x9d\\xd4,\\xd3yXE\\xc4Z\\xdf\\x94H\\xed\\xfa\\x96\\xcf\\x0e4\\x96\\x11F\\xe5*\\xfdP\\x83`\\xd8\\xdazNI\\x04\\xad\\xa5\\rD:[A\\x87`\\xf0\\xdf\\xbd\\xbb\\x13\\x86\\\\\\xc0\\xa3\\xa4Q\\xb9=(Zt\\xb3\\xe5AO\\x89\\x98E*\\t\\xc4l\\xde]\\x96\\xfeV\\xdd(\\x06rQ\\xcbnv\\x1d!\\x9b\\x058\\x1b/\\xb7=[EK*\\x03y\\x85\\xd6\\xb2\\x8ay\\xbf\\x88\\xefl\\x19I\\x1d\\x0e\\xe4\\xaf\\xf9\\x853\\xd7bO|\\xa4@\\x80!\\xbd\\xdcu\\xcce\\xbbl\\xe9\\xa5\\xec\\xfc\\xb4\\xfb\\xe8\\x19Bky\\x16\\xf9\\xf9\\x11\\xa7;\\xba\\xec\\xad\\x1c]jt\\x88\\xee\\xe0\\x92\\xee0\\x1c@\\n\\xceb1\\xb1i\\xc7V\\x1c\\xb4\\xaf*\\xe0\\x0b*\\x81\"\\xdc\\x95\\x05\\x95.\\xcd\\xf2\\x00\\x13]\\x10\\xf5\\x8bX\\xa5\\xd4\\x1d\\x9d\\xf0\\xd9\\x89e\\xc6I(4\\xad\\t\\xcax\\x8b\\xa5\\x9f\\x03\\xbe\\xca\\xb3\\xc1\\xf2\\x9c\\xc05y\\x85\\x15q\\xe5\\xdc\\x92\\xf4\\xdcd\\x7f|\\x8dr\\xbbd\\xc9\\x9eU\\xd0\\x19\\xc7=\\x971\\xa7\\xbe\\xcdu\\x1d\\xcb.\\xb4:\\xc9\\xab\\x8e&QG\\xa2\\x1bu\\x058\\x8a\"J\\xf0\\x84\\x8b\\t\\x0f\\xf0\\x02n\\x01\\xa1iY~\\xa7T\\xe6\\xa0vX\\x1c\\x06.\\xed\\xf2%\\x16Om\\xe5f\\xdb\\x02\\xc3\\xfe\\xf3?\\xdc\\t\\xb5\\xad\\xd0*\\x0b\\x94\\xe6Z\\xfdC\\xd7\\x99t\\xed\\x89H4*\\xf1\\xf0\\xfa\\x95\\xe7\\xd3]Fw E\\xe2\\xf5\\x99N\\xe0\\x8c\\xde\\xa0nu{(\\xber\\x1e\\xff\\x87W\\x80\\x8f^\\xe1\\xfdo\\xdf\\xf8=\\xe2\\xe1\\xdf*\\xfc#\\x17\\x82\\x7fx\\x13\\xf7\\xff\\xf7\\x7f\\x7f\\xb1\\x11>\\xbb\\x1e|H\\x11_\\xb8\\r\\xfc\\x13w\\x81\\x7f\\x11\\xf7\\x0f^\\x15>\\xc4\\xd4\\x97n\\x06\\xff\\xec]\\xdc\\xff\\xc5\\x1b\\xc5\\xbf\\xeef\\xf0\\xea\\x91\\x9b\\xc1/Y\\xaf[Z\\xaf[\\xb7^m\\xba-\\x18c\\xcf\\xfaH\\xfd\\xea\\xb7\\xd4\\x9bA\\xd5\\x02~\\xac\\x8aj:\\x04[\\x872\\x99\\xac\\xfe\\x08\\x8a~\\x97U\\xcd\\xa7\\xdfe\\x1d\\xbb\\xcb\\xe2\\x07a\\xbd\\xbc\\x84\\xfc\\x0b\\x7f\\x7fU\\xfb-Z\"\\xd3o\\xfb\\xd1\\x96=\\xbb\\x90\\xd1\\xbc\\x95\\x17\\xe9\\x87\\xea\\xe5a\\x12\\xc7\\xe5\\xefv\\xfei\\xab\\xaa\\x9a\\xb7\\x9b\\xcb\\xad\\xab\\xdf\\xf5\\xd4\\x7f\\xd0C\\xbf\\xe4\\xa1\\xbf\\xeeG\\x80\\xf4\\xcb\\xc0\\xff\\x06~W<Q7,\\x00\\x00'\n"
     ]
    }
   ],
   "source": [
    "print(resp.content)"
   ]
  },
  {
   "cell_type": "code",
   "execution_count": 38,
   "metadata": {},
   "outputs": [],
   "source": [
    "raw_data = io.BytesIO(resp.content)\n",
    "f = gzip.GzipFile(fileobj=raw_data)"
   ]
  },
  {
   "cell_type": "code",
   "execution_count": 40,
   "metadata": {},
   "outputs": [],
   "source": [
    "data = f.read()\n",
    "response = data.decode('utf8').strip().split('\\r\\n\\r\\n', 2)"
   ]
  },
  {
   "cell_type": "code",
   "execution_count": 42,
   "metadata": {},
   "outputs": [
    {
     "name": "stdout",
     "output_type": "stream",
     "text": [
      "['WARC/1.0\\r\\nWARC-Type: response\\r\\nWARC-Date: 2015-07-01T06:31:37Z\\r\\nWARC-Record-ID: <urn:uuid:5774139e-0e50-4721-b026-46cbd90d621d>\\r\\nContent-Length: 10755\\r\\nContent-Type: application/http; msgtype=response\\r\\nWARC-Warcinfo-ID: <urn:uuid:d6920224-73e4-4d8a-a5fe-d813f2643fdf>\\r\\nWARC-Concurrent-To: <urn:uuid:bf6806c0-8fa5-41a3-83eb-0d8b3006e5fd>\\r\\nWARC-IP-Address: 104.28.21.25\\r\\nWARC-Target-URI: http://commoncrawl.org/faqs/\\r\\nWARC-Payload-Digest: sha1:ANEUZJSAIX4UDD2PRWXB2SEIKXBVXKO2\\r\\nWARC-Block-Digest: sha1:ZKTVXNHAI3TYSWR53GBYBDQXBIC4O6CZ\\r\\nWARC-Truncated: length', 'HTTP/1.1 200 OK\\r\\nDate: Wed, 01 Jul 2015 06:31:37 GMT\\r\\nContent-Type: text/html; charset=utf-8\\r\\nConnection: close\\r\\nSet-Cookie: __cfduid=d94fbe52f16c19317416b769aa9bb52641435732297; expires=Thu, 30-Jun-16 06:31:37 GMT; path=/; domain=.commoncrawl.org; HttpOnly\\r\\nVary: Accept-Encoding\\r\\nX-Frame-Options: SAMEORIGIN\\r\\nCF-Cache-Status: HIT\\r\\nExpires: Wed, 01 Jul 2015 10:31:37 GMT\\r\\nCache-Control: public, max-age=14400\\r\\nServer: cloudflare-nginx\\r\\nCF-RAY: 1ff011a8cbc01611-LIM\\r\\nContent-Encoding: gzip', '\\n<!doctype html>\\n<html class=\"no-js\" lang=\"en\">\\n<head>\\n<meta charset=\"utf-8\"/>\\n<meta name=\"viewport\" content=\"width=device-width, initial-scale=1.0\"/>\\n<title>Common Crawl - FAQs</title>\\n<link rel=\"stylesheet\" href=\"/static/css/foundation.css\"/>\\n<link rel=\"stylesheet\" href=\"/static/css/commoncrawl.css\"/>\\n<link rel=\"shortcut icon\" href=\"/static/img/favicon.png\"/>\\n<script src=\"/static/js/vendor/modernizr.js\"></script>\\n<script src=\"/static/js/vendor/jquery.js\"></script>\\n<script src=\"/static/js/vendor/fastclick.js\"></script>\\n<script type=\"text/javascript\">//<![CDATA[\\n      var _gaq = _gaq || [];\\n      _gaq.push([\\'_setAccount\\', \\'UA-26864822-1\\']);\\n      _gaq.push([\\'_trackPageview\\']);\\n      (function () {\\n        var ga = document.createElement(\\'script\\');\\n        ga.type = \\'text/javascript\\';\\n        ga.async = true;\\n        ga.src = (\\'https:\\' == document.location.protocol ? \\'https://ssl\\' : \\'http://www\\') + \\'.google-analytics.com/ga.js\\';\\n        var s = document.getElementsByTagName(\\'script\\')[0];\\n        s.parentNode.insertBefore(ga, s);\\n      })();\\n      //]]></script>\\n</head>\\n<body class=\"two-col\" id=\"faqs\">\\n<div class=\"topsplash\">\\n<nav class=\"top-bar\" data-topbar role=\"navigation\">\\n<ul class=\"title-area\">\\n<li class=\"name\">\\n<h1><a href=\"/\">Common Crawl</a></h1>\\n</li>\\n<li class=\"toggle-topbar menu-icon\"><a href=\"#\"><span>Menu</span></a></li>\\n</ul>\\n<section class=\"top-bar-section\">\\n \\n<ul class=\"right\">\\n<li class=\"has-dropdown\">\\n<a href=\"/big-picture/\">BIG PICTURE</a>\\n<ul class=\"dropdown\">\\n<li><a href=\"/what-we-do/\">What We Do</a></li>\\n<li><a href=\"/what-you-can-do/\">What You Can Do</a></li>\\n<li><a href=\"/faqs/\">FAQs</a></li>\\n</ul>\\n</li>\\n<li class=\"has-dropdown\">\\n<a href=\"/the-data/\">THE DATA</a>\\n<ul class=\"dropdown\">\\n<li><a href=\"/the-data/get-started/\">Get Started</a></li>\\n<li><a href=\"/the-data/examples/\">Example Projects</a></li>\\n<li><a href=\"/the-data/tutorials/\">Tutorials</a></li>\\n<li><a target=\"_blank\" href=\"https://groups.google.com/forum/#!forum/common-crawl\">Developer\\'s List</a></li>\\n</ul>\\n</li>\\n<li class=\"has-dropdown\">\\n<a href=\"/about/\">ABOUT</a>\\n<ul class=\"dropdown\">\\n<li><a href=\"/about/team/\">Our Team</a></li>\\n \\n<li><a href=\"/about/media/\">Media</a></li>\\n</ul>\\n</li>\\n<li class=\"has-dropdown\">\\n<a href=\"/connect/\">CONNECT</a>\\n<ul class=\"dropdown\">\\n<li><a href=\"/donate/\">Donate</a></li>\\n<li><a target=\"_blank\" href=\"http://commoncrawl.us4.list-manage1.com/subscribe?u=0e911fcb12df8509fac136a5a&id=865954e5ce\">Newsletter</a></li>\\n<li><a href=\"http://blog.commoncrawl.org\">Blog</a></li>\\n<li><a href=\"/connect/contact-us/\">Contact</a></li>\\n<li><a href=\"/terms-of-use/\">Terms of Use</a></li>\\n</ul>\\n</li>\\n<li class=\"active\"><a href=\"/donate/\">DONATE</a></li>\\n</ul>\\n</section>\\n</nav>\\n</div>\\n<div class=\"content\">\\n<div class=\"row\">\\n<div class=\"large-9 columns\">\\n<article>\\n<h1>Frequently Asked <strong>Questions</strong></h1>\\n<section>\\n<h2>General Questions</h2>\\n<dl class=\"faq\">\\n<dt>What is Common Crawl?</dt>\\n<dd>Common Crawl is a 501(c)(3) non-profit organization dedicated to providing a copy of the internet to internet researchers, companies and individuals at no cost for the purpose of research and analysis.</dd>\\n<dt>What can you do with a copy of the web?</dt>\\n<dd>The possibilities are endless, but people have used the data to improve language translation software, predict trends, track the disease propagation and much more.</dd>\\n<dt>Can\\'t Google or Microsoft just do that?</dt>\\n<dd>Our goal is to democratize the data so everyone, not just big companies, can do high quality research and analysis.</dd>\\n<dt>What terms is the data released under?</dt>\\n<dd>As strong believers in open data, we apply as few restrictions as possible to the dataset. The terms we add, primarily in an effort to prevent abusive or illegal usage, are fully described on our <a href=\"http://commoncrawl.org/terms-of-use/\">terms of use</a> page.</dd>\\n</dl>\\n</section>\\n<section>\\n<h2>Technical Questions</h2>\\n<dl class=\"faq\">\\n<dt>What is the CCBot crawler?</dt>\\n<dd>CCBot is a <a href=\"http://nutch.apache.org/\">Nutch-based</a> web crawler that makes use of the Apache Hadoop project. We use Map-Reduce to process and extract crawl candidates from our crawl database. This candidate list is sorted by host (domain name) and then distributed to a set of spider (bot) servers.</dd>\\n<dt>How does the bot identify itself?</dt>\\n<dd>Our older bot identified itself with the following User-Agent string: CCBot/1.0 (+http://www.commoncrawl.org/bot.html). The current version identifies itself as CCBot/2.0.</dd>\\n<dt>Will your bot make my website slow for other users?</dt>\\n<dd>\\n<p>The CCBot crawler has a number of algorithms designed to prevent undue load on web servers for a given domain. We have taken great care to ensure that our crawler will never cause web servers to slow down or be unaccessible to other users.</p>\\n<p>The crawler uses an adaptive back-off algorithm that rapidly slows down requests to your website if your web server is responding slowly. Our crawler will request up to 2 pages per second if your web server completely responds to the last three requests in under 250 ms.</p>\\n</dd>\\n<dt>How can I ask for a slower crawl if the bot is taking up too much bandwidth?</dt>\\n<dd>\\n<p>We obey the Crawl-delay parameter for robots.txt. By increasing that number, you will indicate to ccBot to slow down the rate of crawling. For instance, to limit our crawler from request pages more than once every 2 seconds, add the following to your robots.txt file:</p>\\n<pre class=\"prettyprint\"><code>  User-agent: CCBot\\n  Crawl-Delay: 2</code></pre>\\n</dd>\\n<dt>How can I block this bot?</dt>\\n<dd>\\n<p>You configure your robots.txt file which uses the Robots Exclusion Protocol to block the crawler. Our bot’s Exclusion User-Agent string is: CCBot. Add these lines to your robots.txt file and our crawler will stop crawling your website:</p>\\n<pre class=\"prettyprint\"><code>  User-agent: CCBot\\n  Disallow: /</code></pre>\\n<p>We will periodically continue to check the robots.txt file has been updated.</p>\\n</dd>\\n<dt>How can I ensure this bot can crawl my site effectively?</dt>\\n<dd>We are working hard to add features to the crawl system and hope to support the sitemap protocol in the future.</dd>\\n<dt>Does the bot support conditional gets/compression?</dt>\\n<dd>We do support conditional get requests. We also currently support the gzip encoding format.</dd>\\n<dt>Why is the bot crawling pages I don’t have links to?</dt>\\n<dd>The bot may have found your pages by following links from other sites.</dd>\\n<dt>What is the IP range of the bot?</dt>\\n<dd>Older versions used the IPs 38.107.191.66 through 38.107.191.119. The current version crawls from Amazon AWS.</dd>\\n<dt>Does the bot support nofollow?</dt>\\n<dd>Currently, we do honor the nofollow attribute as it applies to links embedded on your site. It should be noted that the nofollow attribute value is not meant for blocking access to content or preventing content to be indexed by search engines. Instead, the nofollow attribute is primarily used by site authors to prevent Search Engines such as Google from having the source page’s PageRank impact the PageRank of linked targets. If we ever did ignore nofollow in the future, we would do so only for the purposes of link discovery and would never create any association between the discovered link and the source document.</dd>\\n<dt>What parts of robots.txt does the bot support?</dt>\\n<dd>We support Disallow as well as Disallow / Allow combinations. We also support the crawl-delay directive. We plan to support the sitemap directive in a future release.</dd>\\n<dt>What robots meta tags does the bot support?</dt>\\n<dd>We support the NOFOLLOW meta-tag.</dd>\\n<dt>What do do with the crawled content?</dt>\\n<dd>Our mission is to democratize access to web information by producing and maintaining an open repository of web crawl data that is universally accessible. We store the crawl data on Amazon’s S3 service, allowing it to be bulk downloaded as well as directly accessed for map-reduce processing in EC2.</dd>\\n</dl>\\n</section>\\n</article>\\n</div>\\n<div class=\"large-3 columns\">\\n<aside>\\n<h1>Get your sea legs by checking out some sample code.</h1>\\n<p>Take a look at some of the many open source libraries and projects for using Common Crawl data. <a href=\"/the-data/examples/\">Sample code</a> is available for a number of languages and includes everything from machine learning to natural language processing. <a href=\"/the-data/examples/\">Check it out »</a></p>\\n</aside>\\n</div>\\n</div>\\n</div>\\n<nav id=\"bottom-nav\">\\n<div class=\"row\">\\n<div class=\"large-2 medium-5 small-6 columns\">\\n<ul>\\n<li><a href=\"/big-picture/\">BIG PICTURE</a></li>\\n<li><a href=\"/what-we-do/\">What We Do</a></li>\\n<li><a href=\"/what-you-can-do/\">What You Can Do</a></li>\\n<li><a href=\"/faqs/\">FAQs</a></li>\\n</ul>\\n</div>\\n<div class=\"large-2 medium-5 small-6 columns\">\\n<ul>\\n<li><a href=\"/the-data/\">THE DATA</a></li>\\n<li><a href=\"/the-data/get-started/\">Get Started</a></li>\\n<li><a href=\"/the-data/examples/\">Example Projects</a></li>\\n<li><a href=\"/the-data/tutorials/\">Tutorials</a></li>\\n<li><a target=\"_blank\" href=\"https://groups.google.com/forum/#!forum/common-crawl\">Developer\\'s List</a></li>\\n</ul>\\n</div>\\n<div class=\"large-2 medium-5 small-6 columns\">\\n<ul>\\n<li><a href=\"/about/\">ABOUT</a></li>\\n<li><a href=\"/about/team/\">Our Team</a></li>\\n<li><a href=\"/about/media/\">Media</a></li>\\n</ul>\\n</div>\\n<div class=\"large-2 medium-5 small-6 columns\">\\n<ul>\\n<li><a href=\"/connect/\">CONNECT</a></li>\\n<li><a href=\"/donate/\">Donate</a></li>\\n<li><a href=\"http://blog.commoncrawl.org\">Blog</a></li>\\n<li><a target=\"_blank\" href=\"http://commoncrawl.us4.list-manage1.com/subscribe?u=0e911fcb12df8509fac136a5a&id=865954e5ce\">Newsletter</a></li>\\n<li><a href=\"/connect/contact-us/\">Contact</a></li>\\n<li><a href=\"/terms-of-use/\">Terms Of Use</a></li>\\n</ul>\\n</div>\\n<div class=\"large-2 medium-2 small-2 columns\">\\n<div class=\"social-media\">\\n<a href=\"http://twitter.com/commoncrawl/\"><img src=\"/static/img/twitter.png\"></a>\\n</div>\\n</div>\\n</div>\\n</nav>\\n<script src=\"/static/js/vendor/jquery.js\"></script>\\n<script src=\"/static/js/foundation.min.js\"></script>\\n<script src=\"/static/js/vendor/prettify/run_prettify.js\"></script>\\n<script>\\n      $(document).foundation();\\n    </script>\\n</body>\\n</html>']\n"
     ]
    }
   ],
   "source": [
    "print(response[:100])"
   ]
  },
  {
   "cell_type": "code",
   "execution_count": null,
   "metadata": {},
   "outputs": [],
   "source": []
  }
 ],
 "metadata": {
  "kernelspec": {
   "display_name": "Python 3",
   "language": "python",
   "name": "python3"
  },
  "language_info": {
   "codemirror_mode": {
    "name": "ipython",
    "version": 3
   },
   "file_extension": ".py",
   "mimetype": "text/x-python",
   "name": "python",
   "nbconvert_exporter": "python",
   "pygments_lexer": "ipython3",
   "version": "3.6.8"
  }
 },
 "nbformat": 4,
 "nbformat_minor": 2
}
