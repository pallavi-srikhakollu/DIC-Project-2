{
 "cells": [
  {
   "cell_type": "code",
   "execution_count": 1,
   "metadata": {},
   "outputs": [],
   "source": [
    "import requests\n",
    "from bs4 import BeautifulSoup"
   ]
  },
  {
   "cell_type": "code",
   "execution_count": 2,
   "metadata": {},
   "outputs": [],
   "source": [
    "response = requests.get('https://www.nytimes.com/reuters/2019/04/03/sports/03reuters-football-nfl-gb-mccarthy.html')\n",
    "doc = BeautifulSoup(response.text, 'html.parser')"
   ]
  },
  {
   "cell_type": "code",
   "execution_count": 8,
   "metadata": {},
   "outputs": [
    {
     "name": "stdout",
     "output_type": "stream",
     "text": [
      "This is a link\n",
      "AdvertisementSupported byMcCarthy on Green Bay Firing: 'It Stunned Me'By ReutersApril 3, 2019Former Green Bay Packers coach Mike McCarthy was surprised to be fired before the end of the 2018 season.McCarthy addressed the situation in his first sit-down interview since the Packers fired him Dec. 2\"If we missed the playoffs, I expected change might happen,\" McCarthy told ESPN in the conversation four months after his dismissal. \"But the timing surprised me. Actually it stunned me. But time provides the opportunity for reflection and clarity, and that's where I'm at now. And it's clear to me now that both sides needed a change.\"McCarthy was fired immediately after his team's 20-17 home loss to the Arizona Cardinals. He was in his 13th season with the Packers, which included a Super Bowl victory in 2011.\"It couldn't have been handled any worse. Anytime you lose a close game, it's a difficult time emotionally afterward, but when you lose a home game at Lambeau Field in December, it's really hard,\" McCarthy said of the loss, which moved the Packers to 4-7-1 on the season. \"And that hasn't happened very often. I walked out of my press conference, and I'm thinking about the game, thinking about how our playoff shot was now minimal. That's where my head was at. And when I was told (team president) Mark Murphy wanted to see me -- and the messenger was cold and the energy was bad. Mark said it was an ugly loss, and it was time to make change. He said something about the offense and the special teams, and he didn't think it was going to get any better. There was no emotion to it. That was hard.\"McCarthy, 55, said he has spent the past four months \"shifting from humiliation to reflection\" but was buoyed by the support he received.\"When we won the Super Bowl, I received over 200 texts. That week, I had over 500. I got more than twice as many messages for getting fired than I did when I won the damn Super Bowl. It's remarkable,\" he said.McCarthy's record with the Packers was 125-77.--Field Level MediaAdvertisement\n"
     ]
    }
   ],
   "source": [
    "links = doc.find_all('article')\n",
    "\n",
    "for link in links[:10]:\n",
    "    #print(\"This is a link\")\n",
    "    print(link.text)\n"
   ]
  },
  {
   "cell_type": "code",
   "execution_count": null,
   "metadata": {},
   "outputs": [],
   "source": []
  },
  {
   "cell_type": "code",
   "execution_count": 10,
   "metadata": {},
   "outputs": [
    {
     "name": "stdout",
     "output_type": "stream",
     "text": [
      "---------------\n",
      "<article class=\"css-1vxca1d e1qksbhf0\" id=\"story\"><div class=\"css-1sy8kpn\" id=\"top-wrapper\"><div class=\"css-l9onyx\" id=\"top-slug\"><p>Advertisement</p></div><div class=\"ad top-wrapper\" style=\"text-align:center;height:100%;display:block;min-height:250px\"><div class=\"place-ad\" data-position=\"top\" id=\"top\"></div></div></div><header class=\"css-1mx7hds euiyums1\"><div class=\"css-1hyfx7x\" id=\"sponsor-wrapper\"><div class=\"css-19vbshk\" id=\"sponsor-slug\"><p>Supported by</p></div><div class=\"ad sponsor-wrapper\" style=\"text-align:center;height:100%;display:block\"><div class=\"\" data-position=\"sponsor\" id=\"sponsor\"></div></div></div><div class=\"css-1vkm6nb ehdk2mb0\"><h1 class=\"css-4a8l5 e1h9rw200\" id=\"link-48af95dd\" itemprop=\"headline\"><span>McCarthy on Green Bay Firing: 'It Stunned Me'</span></h1></div><div class=\"css-xt80pu euiyums0\"><div class=\"css-acwcvw epjyd6m0\"><div class=\"css-vp77d3 epjyd6m1\"><div class=\"css-1baulvz\"><p class=\"css-16vrk19 e1jsehar1\" itemid=\"\" itemprop=\"author creator\" itemscope=\"\" itemtype=\"http://schema.org/Person\">By<!-- --> <span class=\"css-1baulvz\" itemprop=\"name\">Reuters</span></p></div></div><ul class=\"css-1w5cs23 epjyd6m2\"><li><time class=\"css-qddhf4 e16638kd0\" datetime=\"2019-04-03\">April 3, 2019</time></li><li class=\"css-6n7j50\"><div class=\"\"><div aria-label=\"Social Media Share buttons, Save button, and Comments Panel with current comment count\" class=\"css-d8bdto\" data-testid=\"share-tools\" role=\"toolbar\"><ul class=\"css-y8aj3r\"><li class=\"css-60hakz\"><a aria-label=\"Share on Facebook\" href=\"https://www.facebook.com/dialog/feed?app_id=9869919170&amp;link=https%3A%2F%2Fwww.nytimes.com%2Freuters%2F2019%2F04%2F03%2Fsports%2F03reuters-football-nfl-gb-mccarthy.html&amp;smid=fb-share&amp;name=McCarthy%20on%20Green%20Bay%20Firing%3A%20'It%20Stunned%20Me'&amp;redirect_uri=https%3A%2F%2Fwww.facebook.com%2F\" rel=\"noopener noreferrer\" target=\"_blank\"><svg class=\"css-4brsb6\" height=\"15\" viewbox=\"0 0 7 15\" width=\"7\"><path clip-rule=\"evenodd\" d=\"M4.775 14.163V7.08h1.923l.255-2.441H4.775l.004-1.222c0-.636.06-.977.958-.977H6.94V0H5.016c-2.31 0-3.123 1.184-3.123 3.175V4.64H.453v2.44h1.44v7.083h2.882z\" fill=\"#000\" fill-rule=\"evenodd\"></path></svg></a></li><li class=\"css-60hakz\"><a aria-label=\"Share on Twitter\" href=\"https://twitter.com/intent/tweet?url=https%3A%2F%2Fnyti.ms%2F2UvbDmR&amp;text=McCarthy%20on%20Green%20Bay%20Firing%3A%20'It%20Stunned%20Me'\" rel=\"noopener noreferrer\" target=\"_blank\"><svg class=\"css-4brsb6\" height=\"10\" viewbox=\"0 0 13 10\" width=\"13\"><path clip-rule=\"evenodd\" d=\"M5.987 2.772l.025.425-.429-.052c-1.562-.2-2.927-.876-4.086-2.011L.93.571.784.987c-.309.927-.111 1.906.533 2.565.343.364.266.416-.327.2-.206-.07-.386-.122-.403-.096-.06.06.146.85.309 1.161.223.434.678.858 1.176 1.11l.42.199-.497.009c-.481 0-.498.008-.447.19.172.564.85 1.162 1.606 1.422l.532.182-.464.277a4.833 4.833 0 0 1-2.3.641c-.387.009-.704.044-.704.07 0 .086 1.047.572 1.657.762 1.828.564 4 .32 5.631-.641 1.159-.685 2.318-2.045 2.859-3.363.292-.702.583-1.984.583-2.6 0-.398.026-.45.507-.927.283-.277.55-.58.6-.667.087-.165.078-.165-.36-.018-.73.26-.832.226-.472-.164.266-.278.584-.78.584-.928 0-.026-.129.018-.275.096a4.79 4.79 0 0 1-.755.294l-.464.148-.42-.286C9.66.467 9.335.293 9.163.24 8.725.12 8.055.137 7.66.276c-1.074.39-1.752 1.395-1.674 2.496z\" fill=\"#000\" fill-rule=\"evenodd\"></path></svg></a></li><li class=\"css-60hakz\"><a aria-label=\"Email\" href=\"mailto:?subject=NYTimes.com%3A%20McCarthy%20on%20Green%20Bay%20Firing%3A%20'It%20Stunned%20Me'&amp;body=From%20The%20New%20York%20Times%3A%0A%0AMcCarthy%20on%20Green%20Bay%20Firing%3A%20'It%20Stunned%20Me'%0A%0AFormer%20Green%20Bay%20Packers%20coach%20Mike%20McCarthy%20was%20surprised%20to%20be%20fired%20before%20the%20end%20of%20the%202018%20season.%0A%0Ahttps%3A%2F%2Fwww.nytimes.com%2Freuters%2F2019%2F04%2F03%2Fsports%2F03reuters-football-nfl-gb-mccarthy.html\" rel=\"noopener noreferrer\" target=\"_blank\"><svg class=\"css-4brsb6\" height=\"9\" viewbox=\"0 0 15 9\" width=\"15\"><path clip-rule=\"evenodd\" d=\"M.906 8.418V0L5.64 4.76.906 8.419zm13 0L9.174 4.761 13.906 0v8.418zM7.407 6.539l-1.13-1.137L.907 9h13l-5.37-3.598-1.13 1.137zM1.297 0h12.22l-6.11 5.095L1.297 0z\" fill=\"#000\" fill-rule=\"evenodd\"></path></svg></a></li><li class=\"css-60hakz\"><div class=\"css-6n7j50\"><button aria-expanded=\"false\" aria-haspopup=\"true\" aria-label=\"More sharing options\" class=\"css-16ogagc\" data-testid=\"\"><svg class=\"css-uhuo44\" height=\"13\" viewbox=\"0 0 16 13\" width=\"16\"><path clip-rule=\"evenodd\" d=\"M15.406 5.359L8.978 0v3.215C3.82 3.215.406 8.107.406 12.66 1.653 9.133 4.29 7.517 8.978 7.517v3.2l6.428-5.358z\" fill=\"#000\" fill-rule=\"evenodd\"></path></svg></button></div></li><li class=\"css-60hakz\"></li></ul></div></div></li></ul></div></div></header><section class=\"css-1i2y565\" itemprop=\"articleBody\" name=\"articleBody\"><div class=\"css-1fanzo5 StoryBodyCompanionColumn\"><div class=\"css-53u6y8\"><p class=\"css-1ygdjhk evys1bk0\">Former Green Bay Packers coach Mike McCarthy was surprised to be fired before the end of the 2018 season.</p><p class=\"css-1ygdjhk evys1bk0\">McCarthy addressed the situation in his first sit-down interview since the Packers fired him Dec. 2</p><p class=\"css-1ygdjhk evys1bk0\">\"If we missed the playoffs, I expected change might happen,\" McCarthy told ESPN in the conversation four months after his dismissal. \"But the timing surprised me. Actually it stunned me. But time provides the opportunity for reflection and clarity, and that's where I'm at now. And it's clear to me now that both sides needed a change.\"</p><p class=\"css-1ygdjhk evys1bk0\">McCarthy was fired immediately after his team's 20-17 home loss to the Arizona Cardinals. He was in his 13th season with the Packers, which included a Super Bowl victory in 2011.</p><p class=\"css-1ygdjhk evys1bk0\">\"It couldn't have been handled any worse. Anytime you lose a close game, it's a difficult time emotionally afterward, but when you lose a home game at Lambeau Field in December, it's really hard,\" McCarthy said of the loss, which moved the Packers to 4-7-1 on the season. \"And that hasn't happened very often. I walked out of my press conference, and I'm thinking about the game, thinking about how our playoff shot was now minimal. That's where my head was at. And when I was told (team president) Mark Murphy wanted to see me -- and the messenger was cold and the energy was bad. Mark said it was an ugly loss, and it was time to make change. He said something about the offense and the special teams, and he didn't think it was going to get any better. There was no emotion to it. That was hard.\"</p></div><aside class=\"css-o6xoe7\"></aside></div><div class=\"css-1fanzo5 StoryBodyCompanionColumn\"><div class=\"css-53u6y8\"><p class=\"css-1ygdjhk evys1bk0\">McCarthy, 55, said he has spent the past four months \"shifting from humiliation to reflection\" but was buoyed by the support he received.</p><p class=\"css-1ygdjhk evys1bk0\">\"When we won the Super Bowl, I received over 200 texts. That week, I had over 500. I got more than twice as many messages for getting fired than I did when I won the damn Super Bowl. It's remarkable,\" he said.</p><p class=\"css-1ygdjhk evys1bk0\">McCarthy's record with the Packers was 125-77.</p><p class=\"css-1ygdjhk evys1bk0\">--Field Level Media</p></div><aside class=\"css-o6xoe7\"></aside></div></section><div class=\"bottom-of-article\"><div class=\"css-1rjzas3\"></div><div class=\"css-i29ckm\"><div aria-label=\"Social Media Share buttons, Save button, and Comments Panel with current comment count\" class=\"css-d8bdto\" data-testid=\"share-tools\" role=\"toolbar\"><ul class=\"css-y8aj3r\"><li class=\"css-ar1l6a\"><a aria-label=\"Share on Facebook\" href=\"https://www.facebook.com/dialog/feed?app_id=9869919170&amp;link=https%3A%2F%2Fwww.nytimes.com%2Freuters%2F2019%2F04%2F03%2Fsports%2F03reuters-football-nfl-gb-mccarthy.html&amp;smid=fb-share&amp;name=McCarthy%20on%20Green%20Bay%20Firing%3A%20'It%20Stunned%20Me'&amp;redirect_uri=https%3A%2F%2Fwww.facebook.com%2F\" rel=\"noopener noreferrer\" target=\"_blank\"><svg class=\"css-4brsb6\" height=\"15\" viewbox=\"0 0 7 15\" width=\"7\"><path clip-rule=\"evenodd\" d=\"M4.775 14.163V7.08h1.923l.255-2.441H4.775l.004-1.222c0-.636.06-.977.958-.977H6.94V0H5.016c-2.31 0-3.123 1.184-3.123 3.175V4.64H.453v2.44h1.44v7.083h2.882z\" fill=\"#000\" fill-rule=\"evenodd\"></path></svg></a></li><li class=\"css-ar1l6a\"><a aria-label=\"Share on Twitter\" href=\"https://twitter.com/intent/tweet?url=https%3A%2F%2Fnyti.ms%2F2UvbDmR&amp;text=McCarthy%20on%20Green%20Bay%20Firing%3A%20'It%20Stunned%20Me'\" rel=\"noopener noreferrer\" target=\"_blank\"><svg class=\"css-4brsb6\" height=\"10\" viewbox=\"0 0 13 10\" width=\"13\"><path clip-rule=\"evenodd\" d=\"M5.987 2.772l.025.425-.429-.052c-1.562-.2-2.927-.876-4.086-2.011L.93.571.784.987c-.309.927-.111 1.906.533 2.565.343.364.266.416-.327.2-.206-.07-.386-.122-.403-.096-.06.06.146.85.309 1.161.223.434.678.858 1.176 1.11l.42.199-.497.009c-.481 0-.498.008-.447.19.172.564.85 1.162 1.606 1.422l.532.182-.464.277a4.833 4.833 0 0 1-2.3.641c-.387.009-.704.044-.704.07 0 .086 1.047.572 1.657.762 1.828.564 4 .32 5.631-.641 1.159-.685 2.318-2.045 2.859-3.363.292-.702.583-1.984.583-2.6 0-.398.026-.45.507-.927.283-.277.55-.58.6-.667.087-.165.078-.165-.36-.018-.73.26-.832.226-.472-.164.266-.278.584-.78.584-.928 0-.026-.129.018-.275.096a4.79 4.79 0 0 1-.755.294l-.464.148-.42-.286C9.66.467 9.335.293 9.163.24 8.725.12 8.055.137 7.66.276c-1.074.39-1.752 1.395-1.674 2.496z\" fill=\"#000\" fill-rule=\"evenodd\"></path></svg></a></li><li class=\"css-ar1l6a\"><a aria-label=\"Email\" href=\"mailto:?subject=NYTimes.com%3A%20McCarthy%20on%20Green%20Bay%20Firing%3A%20'It%20Stunned%20Me'&amp;body=From%20The%20New%20York%20Times%3A%0A%0AMcCarthy%20on%20Green%20Bay%20Firing%3A%20'It%20Stunned%20Me'%0A%0AFormer%20Green%20Bay%20Packers%20coach%20Mike%20McCarthy%20was%20surprised%20to%20be%20fired%20before%20the%20end%20of%20the%202018%20season.%0A%0Ahttps%3A%2F%2Fwww.nytimes.com%2Freuters%2F2019%2F04%2F03%2Fsports%2F03reuters-football-nfl-gb-mccarthy.html\" rel=\"noopener noreferrer\" target=\"_blank\"><svg class=\"css-4brsb6\" height=\"9\" viewbox=\"0 0 15 9\" width=\"15\"><path clip-rule=\"evenodd\" d=\"M.906 8.418V0L5.64 4.76.906 8.419zm13 0L9.174 4.761 13.906 0v8.418zM7.407 6.539l-1.13-1.137L.907 9h13l-5.37-3.598-1.13 1.137zM1.297 0h12.22l-6.11 5.095L1.297 0z\" fill=\"#000\" fill-rule=\"evenodd\"></path></svg></a></li><li class=\"css-ar1l6a\"><div class=\"css-6n7j50\"><button aria-expanded=\"false\" aria-haspopup=\"true\" aria-label=\"More sharing options\" class=\"css-16ogagc\" data-testid=\"\"><svg class=\"css-uhuo44\" height=\"13\" viewbox=\"0 0 16 13\" width=\"16\"><path clip-rule=\"evenodd\" d=\"M15.406 5.359L8.978 0v3.215C3.82 3.215.406 8.107.406 12.66 1.653 9.133 4.29 7.517 8.978 7.517v3.2l6.428-5.358z\" fill=\"#000\" fill-rule=\"evenodd\"></path></svg></button></div></li></ul></div></div></div><div class=\"css-1ede5it\" id=\"bottom-wrapper\"><div class=\"css-l9onyx\" id=\"bottom-slug\"><p>Advertisement</p></div><div class=\"ad bottom-wrapper\" style=\"text-align:center;height:100%;display:block;min-height:90px\"><div class=\"\" data-position=\"bottom\" id=\"bottom\"></div></div></div></article>\n"
     ]
    }
   ],
   "source": [
    "url = 'https://www.nytimes.com/reuters/2019/04/03/sports/03reuters-football-nfl-gb-mccarthy.html'\n",
    "req = requests.get(url)\n",
    "soup = BeautifulSoup(req.text, \"html.parser\")\n",
    "\n",
    "title_summary_tags = soup.find_all(\n",
    "    \"article\")\n",
    "\n",
    "#print(title_summary_tags)\n",
    "for title in title_summary_tags:\n",
    "    print(\"---------------\")\n",
    "    print(title)"
   ]
  },
  {
   "cell_type": "code",
   "execution_count": 6,
   "metadata": {},
   "outputs": [
    {
     "name": "stdout",
     "output_type": "stream",
     "text": [
      "[]\n",
      "\n"
     ]
    }
   ],
   "source": [
    "#print(soup)\n",
    "p_tags = soup.find_all(class_=\"story-body-text story-content\")\n",
    "print(p_tags)\n",
    "# method 1\n",
    "article = ''\n",
    "for p_tag in p_tags:\n",
    "    p_text = p_tag.get_text()\n",
    "    article += p_text\n",
    "print(article)"
   ]
  },
  {
   "cell_type": "code",
   "execution_count": 15,
   "metadata": {},
   "outputs": [],
   "source": [
    "story = doc.find_all('article', { 'class': 'story' })\n",
    "story = doc.find_all(\n",
    "    \"article\", class_ = 'story theme-summary'\n",
    ")\n",
    "\n",
    "for story in story[:10]:\n",
    "    print(\"This is a story\")\n",
    "    print(story.text)"
   ]
  },
  {
   "cell_type": "code",
   "execution_count": 17,
   "metadata": {},
   "outputs": [
    {
     "name": "stdout",
     "output_type": "stream",
     "text": [
      "[]\n"
     ]
    }
   ],
   "source": [
    "print(story)\n",
    "#print(doc)"
   ]
  },
  {
   "cell_type": "code",
   "execution_count": null,
   "metadata": {},
   "outputs": [],
   "source": [
    "def _parse_soup(self, soup):\n",
    "        \"\"\"Parse the inputted `soup`.\n",
    "        Args:\n",
    "        ----\n",
    "            soup: bs4.BeautifulSoup object\n",
    "            type_of_material: str\n",
    "        \n",
    "        Returns: \n",
    "        -------\n",
    "            article_txt: str\n",
    "        \"\"\"\n",
    "\n",
    "        content = soup.find('div', attrs={'class': 'story-body'})\n",
    "\n",
    "        if content: \n",
    "            lines = content.findAll('p')\n",
    "            article_txt = ' '.join([line.text for line in lines])\n",
    "        else: \n",
    "            article_txt = None\n",
    "\n",
    "        return article_txt"
   ]
  }
 ],
 "metadata": {
  "kernelspec": {
   "display_name": "Python 3",
   "language": "python",
   "name": "python3"
  },
  "language_info": {
   "codemirror_mode": {
    "name": "ipython",
    "version": 3
   },
   "file_extension": ".py",
   "mimetype": "text/x-python",
   "name": "python",
   "nbconvert_exporter": "python",
   "pygments_lexer": "ipython3",
   "version": "3.6.7"
  }
 },
 "nbformat": 4,
 "nbformat_minor": 2
}
