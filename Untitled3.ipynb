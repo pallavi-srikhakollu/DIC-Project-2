{
 "cells": [
  {
   "cell_type": "code",
   "execution_count": null,
   "metadata": {},
   "outputs": [],
   "source": [
    "import requests\n",
    "from bs4 import BeautifulSoup\n",
    "import re"
   ]
  },
  {
   "cell_type": "code",
   "execution_count": null,
   "metadata": {},
   "outputs": [],
   "source": [
    "import pandas as pd\n",
    "df = pd.read_csv(\"ny_nfl_3Apr6.csv\")\n",
    "url_list = df['url']"
   ]
  },
  {
   "cell_type": "code",
   "execution_count": null,
   "metadata": {},
   "outputs": [],
   "source": [
    "all_text = \"\"\n",
    "for urli in url_list:\n",
    "    all_text = \"\"\n",
    "    response = requests.get(urli)\n",
    "    doc = BeautifulSoup(response.text, 'html.parser')\n",
    "    links = doc.find_all('article')\n",
    "    \n",
    "    for link in links:\n",
    "        all_text+=link.text\n",
    "        \n",
    "    text_file = open(\"Text3Apr.txt\", \"w\")\n",
    "    text_file.write( all_text)\n",
    "    text_file.close()\n",
    "\n",
    "print(all_text)"
   ]
  }
 ],
 "metadata": {
  "kernelspec": {
   "display_name": "Python 3",
   "language": "python",
   "name": "python3"
  },
  "language_info": {
   "codemirror_mode": {
    "name": "ipython",
    "version": 3
   },
   "file_extension": ".py",
   "mimetype": "text/x-python",
   "name": "python",
   "nbconvert_exporter": "python",
   "pygments_lexer": "ipython3",
   "version": "3.6.7"
  }
 },
 "nbformat": 4,
 "nbformat_minor": 2
}
