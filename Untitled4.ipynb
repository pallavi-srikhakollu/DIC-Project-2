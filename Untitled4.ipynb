{
 "cells": [
  {
   "cell_type": "code",
   "execution_count": 8,
   "metadata": {},
   "outputs": [],
   "source": [
    "import requests\n",
    "from bs4 import BeautifulSoup\n",
    "import re"
   ]
  },
  {
   "cell_type": "code",
   "execution_count": 9,
   "metadata": {},
   "outputs": [],
   "source": [
    "import pandas as pd\n",
    "df = pd.read_csv(\"ny_baseball_14Apr1.csv\")\n",
    "url_list = df['url']"
   ]
  },
  {
   "cell_type": "code",
   "execution_count": 11,
   "metadata": {},
   "outputs": [
    {
     "ename": "FileNotFoundError",
     "evalue": "[Errno 2] No such file or directory: '/NYTimesBaseballData/ny_swimming_1.txt'",
     "output_type": "error",
     "traceback": [
      "\u001b[0;31m---------------------------------------------------------------------------\u001b[0m",
      "\u001b[0;31mFileNotFoundError\u001b[0m                         Traceback (most recent call last)",
      "\u001b[0;32m<ipython-input-11-dcce402813b7>\u001b[0m in \u001b[0;36m<module>\u001b[0;34m()\u001b[0m\n\u001b[1;32m     13\u001b[0m \u001b[0;34m\u001b[0m\u001b[0m\n\u001b[1;32m     14\u001b[0m     \u001b[0mcurr_file_name\u001b[0m \u001b[0;34m=\u001b[0m \u001b[0mfilename\u001b[0m \u001b[0;34m+\u001b[0m \u001b[0mstr\u001b[0m\u001b[0;34m(\u001b[0m\u001b[0mfile_counter\u001b[0m\u001b[0;34m)\u001b[0m \u001b[0;34m+\u001b[0m \u001b[0;34m\".txt\"\u001b[0m\u001b[0;34m\u001b[0m\u001b[0;34m\u001b[0m\u001b[0m\n\u001b[0;32m---> 15\u001b[0;31m     \u001b[0mtext_file\u001b[0m \u001b[0;34m=\u001b[0m \u001b[0mopen\u001b[0m\u001b[0;34m(\u001b[0m\u001b[0mcurr_file_name\u001b[0m\u001b[0;34m,\u001b[0m \u001b[0;34m\"w\"\u001b[0m\u001b[0;34m)\u001b[0m\u001b[0;34m\u001b[0m\u001b[0;34m\u001b[0m\u001b[0m\n\u001b[0m\u001b[1;32m     16\u001b[0m     \u001b[0mtext_file\u001b[0m\u001b[0;34m.\u001b[0m\u001b[0mwrite\u001b[0m\u001b[0;34m(\u001b[0m \u001b[0mall_text\u001b[0m\u001b[0;34m)\u001b[0m\u001b[0;34m\u001b[0m\u001b[0;34m\u001b[0m\u001b[0m\n\u001b[1;32m     17\u001b[0m     \u001b[0mtext_file\u001b[0m\u001b[0;34m.\u001b[0m\u001b[0mclose\u001b[0m\u001b[0;34m(\u001b[0m\u001b[0;34m)\u001b[0m\u001b[0;34m\u001b[0m\u001b[0;34m\u001b[0m\u001b[0m\n",
      "\u001b[0;31mFileNotFoundError\u001b[0m: [Errno 2] No such file or directory: '/NYTimesBaseballData/ny_swimming_1.txt'"
     ]
    }
   ],
   "source": [
    "all_text = \"\"\n",
    "filename = \"/NYTimesBaseballData/ny_swimming_\"\n",
    "file_counter = 0\n",
    "for urli in url_list:\n",
    "    all_text = \"\"\n",
    "    file_counter += 1\n",
    "    response = requests.get(urli)\n",
    "    doc = BeautifulSoup(response.text, 'html.parser')\n",
    "    links = doc.find_all('p')\n",
    "    for name in links:\n",
    "            for x in name.find_all('a'):\n",
    "                x.replaceWithChildren()\n",
    "                \n",
    "    for link in links:\n",
    "        all_text+=link.text\n",
    "    \n",
    "    curr_file_name = filename + str(file_counter) + \".txt\"\n",
    "    text_file = open(curr_file_name, \"w\")\n",
    "    text_file.write( all_text)\n",
    "    text_file.close()\n",
    "    print(\"New file writing\",file_counter)\n",
    "\n",
    "#print(all_text)"
   ]
  },
  {
   "cell_type": "code",
   "execution_count": 12,
   "metadata": {},
   "outputs": [
    {
     "name": "stdout",
     "output_type": "stream",
     "text": [
      "AdvertisementSupported byTrump Ends Deal Between M.L.B. and Cuban Baseball FederationImageLos Leneros de las Tunas, a Cuban baseball team, before a Caribbean Series game in Panama City in February.CreditCreditArnulfo Franco/Associated PressBy David Waldstein and Michael TackettApril 8, 2019President Trump, reversing an agreement negotiated by the Obama administration, abruptly ended a deal between Major League Baseball and the Cuban Baseball Federation that had eased the path for players to compete in the United States without defecting from their country.The Trump administration said that the deal constituted a violation of trade laws because the Cuban federation was part of the government in Havana — a departure from the previous administration’s stance.In a letter to M.L.B.’s outside counsel, which was obtained by The New York Times, Nikole Thomas, the acting assistant director for licensing at the Office of Foreign Assets Control, outlined the U.S. government’s opposition to the deal, which stipulated that the Cuban federation would receive 25 percent of a player’s signing bonus for a minor league player and between 15 and 25 percent for a major league player.The letter said that the O.F.A.C. had “determined that M.L.B.’s payments to the Cuban Baseball Federation are not authorized” because “a payment to the Cuban Baseball Federation is a payment to the Cuban government.”News of the administration’s rejection of M.L.B.’s plan was first reported by The Wall Street Journal and ESPN.Cuban sports entities, including its baseball federation and Olympic committee, have argued they are independent of the central government, but the Trump administration rejected that assessment.“The U.S. does not support actions that would institutionalize a system by which a Cuban government entity garnishes the wages of hard-working athletes who simply seek to live and compete in a free society,” said Garrett Marquis, a spokesman for the National Security Council. “The administration looks forward to working with M.L.B. to identify ways for Cuban players to have the individual freedom to benefit from their talents, and not as property of the Cuban state.”In a statement, M.L.B. said: “We stand by the goal of the agreement, which is to end the human trafficking of baseball players from Cuba.”One M.L.B. official, who requested anonymity because they were not authorized to speak publicly on the matter, said the league had requested a face-to-face meeting with U.S. government agencies but were not granted one. M.L.B. was prepared to base its argument on the fact that the Obama administration had given it a license in 2016 to do business with the Cuban baseball federation, and that a Trump-era national security presidential memorandum published on June 16, 2017 promised the agreement would be grandfathered in. The memorandum stated that any new regulations “will not affect existing contracts and licenses.”Several U.S. business entities, including travel and telecommunications companies, do business in Cuba. But M.L.B. officials worried that, as a high-profile organization, its deal would be challenged by hard-liners in the government.John Bolton, the national security adviser, seemed to foreshadow the move on Sunday when he tweeted: “Cuba wants to use baseball players as economic pawns — selling their rights to Major League Baseball. America’s national pastime should not enable the Cuban regime’s support for Maduro in Venezuela.”Cuba has produced some of the best players currently in the major leagues, including Aroldis Chapman of the Yankees, Yoenis Cespedes of the Mets and Jose Abreu of the Chicago White Sox. They and most other Cuban players in M.L.B. left their country illegally, in some cases smuggled out by disreputable agents and human traffickers on speedboats and rafts over dangerous waters.“It’s bad in the sense that they can’t come anymore in the formal, legal way that was planned,” Chapman said on Monday.For some players, the dangers continued after they arrived because they were at the mercy of the smugglers.“To this date, I am still harassed,” Abreu, who has played for the Chicago White Sox since 2014, said in a statement issued at the time the deal was announced in December.M.L.B. and its players union sought to eliminate that dangerous process by creating a posting system similar to the one used with players from Japan and South Korea. Under the plan, a major league team seeking to sign a Cuban player would pay a posting fee to the Cuban federation, which would in turn allow the player to leave the country and return home at will. Just days ago, the Cuban federation released the names of 34 players it said were eligible to sign with M.L.B.“The objective of the agreement, which is the product of years of negotiations with the F.C.B., is to end the dangerous trafficking of Cuban baseball players who desire to play professional baseball in the United States,” M.L.B.’s lawyers said in their petition to the Treasury Department in January.M.L.B. and the Cuban baseball federation commenced talks after the United States and Cuba began a thaw in relations under the Obama administration in 2014. Soon after that, baseball’s commissioner’s office secured a license from the Treasury Department to legally begin negotiations with the Cubans.After announcing its agreement in December, M.L.B. quietly sought to convince administration officials — who immediately criticized the plan publicly — that it fit within the guidelines for an exemption to the trade laws. At the same time, M.L.B. officials were also resigned to the political opposition to the deal and the possibility of returning to the old method of signing Cuban players.James Wagner contributed reporting. A version of this article appears in print on , on Page B10 of the New York edition with the headline: Citing Trade Laws, Trump Cancels Deal Between M.L.B. and Cuban Federation. Order Reprints | Today’s Paper | SubscribeAdvertisementAdvertisementSupported byBy David Waldstein and Michael TackettPresident Trump, reversing an agreement negotiated by the Obama administration, abruptly ended a deal between Major League Baseball and the Cuban Baseball Federation that had eased the path for players to compete in the United States without defecting from their country.The Trump administration said that the deal constituted a violation of trade laws because the Cuban federation was part of the government in Havana — a departure from the previous administration’s stance.In a letter to M.L.B.’s outside counsel, which was obtained by The New York Times, Nikole Thomas, the acting assistant director for licensing at the Office of Foreign Assets Control, outlined the U.S. government’s opposition to the deal, which stipulated that the Cuban federation would receive 25 percent of a player’s signing bonus for a minor league player and between 15 and 25 percent for a major league player.The letter said that the O.F.A.C. had “determined that M.L.B.’s payments to the Cuban Baseball Federation are not authorized” because “a payment to the Cuban Baseball Federation is a payment to the Cuban government.”News of the administration’s rejection of M.L.B.’s plan was first reported by The Wall Street Journal and ESPN.Cuban sports entities, including its baseball federation and Olympic committee, have argued they are independent of the central government, but the Trump administration rejected that assessment.“The U.S. does not support actions that would institutionalize a system by which a Cuban government entity garnishes the wages of hard-working athletes who simply seek to live and compete in a free society,” said Garrett Marquis, a spokesman for the National Security Council. “The administration looks forward to working with M.L.B. to identify ways for Cuban players to have the individual freedom to benefit from their talents, and not as property of the Cuban state.”In a statement, M.L.B. said: “We stand by the goal of the agreement, which is to end the human trafficking of baseball players from Cuba.”One M.L.B. official, who requested anonymity because they were not authorized to speak publicly on the matter, said the league had requested a face-to-face meeting with U.S. government agencies but were not granted one. M.L.B. was prepared to base its argument on the fact that the Obama administration had given it a license in 2016 to do business with the Cuban baseball federation, and that a Trump-era national security presidential memorandum published on June 16, 2017 promised the agreement would be grandfathered in. The memorandum stated that any new regulations “will not affect existing contracts and licenses.”Several U.S. business entities, including travel and telecommunications companies, do business in Cuba. But M.L.B. officials worried that, as a high-profile organization, its deal would be challenged by hard-liners in the government.John Bolton, the national security adviser, seemed to foreshadow the move on Sunday when he tweeted: “Cuba wants to use baseball players as economic pawns — selling their rights to Major League Baseball. America’s national pastime should not enable the Cuban regime’s support for Maduro in Venezuela.”Cuba has produced some of the best players currently in the major leagues, including Aroldis Chapman of the Yankees, Yoenis Cespedes of the Mets and Jose Abreu of the Chicago White Sox. They and most other Cuban players in M.L.B. left their country illegally, in some cases smuggled out by disreputable agents and human traffickers on speedboats and rafts over dangerous waters.“It’s bad in the sense that they can’t come anymore in the formal, legal way that was planned,” Chapman said on Monday.For some players, the dangers continued after they arrived because they were at the mercy of the smugglers.“To this date, I am still harassed,” Abreu, who has played for the Chicago White Sox since 2014, said in a statement issued at the time the deal was announced in December.M.L.B. and its players union sought to eliminate that dangerous process by creating a posting system similar to the one used with players from Japan and South Korea. Under the plan, a major league team seeking to sign a Cuban player would pay a posting fee to the Cuban federation, which would in turn allow the player to leave the country and return home at will. Just days ago, the Cuban federation released the names of 34 players it said were eligible to sign with M.L.B.“The objective of the agreement, which is the product of years of negotiations with the F.C.B., is to end the dangerous trafficking of Cuban baseball players who desire to play professional baseball in the United States,” M.L.B.’s lawyers said in their petition to the Treasury Department in January.M.L.B. and the Cuban baseball federation commenced talks after the United States and Cuba began a thaw in relations under the Obama administration in 2014. Soon after that, baseball’s commissioner’s office secured a license from the Treasury Department to legally begin negotiations with the Cubans.After announcing its agreement in December, M.L.B. quietly sought to convince administration officials — who immediately criticized the plan publicly — that it fit within the guidelines for an exemption to the trade laws. At the same time, M.L.B. officials were also resigned to the political opposition to the deal and the possibility of returning to the old method of signing Cuban players.James Wagner contributed reporting.Advertisement\n"
     ]
    }
   ],
   "source": [
    " url = url_list[22]\n",
    " response = requests.get(urli)\n",
    " doc = BeautifulSoup(response.text, 'html.parser')\n",
    " name_box = doc.find_all('p')\n",
    " for name in name_box:\n",
    "            for x in name.find_all('a'):\n",
    "                x.replaceWithChildren()\n",
    " for link in name_box:\n",
    "            all_text+=link.text\n",
    "        \n",
    " print(all_text)"
   ]
  },
  {
   "cell_type": "code",
   "execution_count": null,
   "metadata": {},
   "outputs": [],
   "source": []
  }
 ],
 "metadata": {
  "kernelspec": {
   "display_name": "Python 3",
   "language": "python",
   "name": "python3"
  },
  "language_info": {
   "codemirror_mode": {
    "name": "ipython",
    "version": 3
   },
   "file_extension": ".py",
   "mimetype": "text/x-python",
   "name": "python",
   "nbconvert_exporter": "python",
   "pygments_lexer": "ipython3",
   "version": "3.6.7"
  }
 },
 "nbformat": 4,
 "nbformat_minor": 2
}
